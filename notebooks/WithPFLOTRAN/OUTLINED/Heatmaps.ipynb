{
 "cells": [
  {
   "cell_type": "code",
   "execution_count": 1,
   "metadata": {},
   "outputs": [],
   "source": [
    "from os import system\n",
    "import pickle\n",
    "\n",
    "import numpy as np\n",
    "\n",
    "## PFLOTRAN\n",
    "import jupypft.model as mo\n",
    "import jupypft.parameter as pm\n",
    "import jupypft.plotBTC as plotBTC\n",
    "\n",
    "def resetPickle():\n",
    "    mo.Model.resetListOfModels()\n",
    "    global caseDict\n",
    "    with open('caseDict.pkl', 'rb') as f:\n",
    "        caseDict = pickle.load(f)\n",
    "    \n",
    "    pm.Parameter.rebuildListOfObjects(caseDict)\n",
    "    \n",
    "    global listOfAllParameters\n",
    "    listOfAllParameters = pm.Parameter.list_of_vars()\n",
    "    \n",
    "    #system(\"rm -rf CASE*\")\n",
    "    \n",
    "def plotResults(clean=True):\n",
    "    if clean:\n",
    "        system(\"rm -rf MASSBALANCES; mkdir MASSBALANCES\")\n",
    "        system(\"cp ./CASE**/*-mas.dat ./MASSBALANCES\")\n",
    "        mo.Model.folderFixedToCSV(\"MASSBALANCES\")\n",
    "\n",
    "    waterDensity = 999.65\n",
    "    m3ToL = 1000.\n",
    "\n",
    "#    plotBTC.plotMassBalancesInFolder(\n",
    "#        folderToPlot=\"MASSBALANCES\",\n",
    "#        indices = {'t':\"Time [d]\",\\\n",
    "#                   'q':\"ExtractWell Water Mass [kg/d]\",\\\n",
    "#                   'm':\"ExtractWell Vaq [mol/d]\"},\n",
    "#        normalizeWith={'t':1.0,'q':waterDensity/m3ToL,'m':1.0},\n",
    "#        legendTitle = legendTitle)\n",
    "    \n",
    "    plotBTC.plotEndConcentrations(\n",
    "        folderToPlot=\"MASSBALANCES\",\n",
    "        Xdata = Iarray,\n",
    "        indices = {'t':\"Time [d]\",\\\n",
    "                   'q':\"ExtractWell Water Mass [kg/d]\",\\\n",
    "                   'm':\"ExtractWell Vaq [mol/d]\"},\n",
    "        normalizeWith={'t':1.0,'q':waterDensity/m3ToL,'m':1.0},\n",
    "        legendTitle = legendTitle)\n",
    "    \n",
    "def buildSim(caseName):\n",
    "    ## Create a folder for the case\n",
    "    currentFolder = \"./CASE_{0}\".format(caseName)\n",
    "    currentFile = currentFolder + \"/\" + caseName +\".in\"\n",
    "    system(\"mkdir \" + currentFolder)\n",
    "    \n",
    "    ## Initialize PFLOTRAN model\n",
    "    BoxModel = mo.Model(\n",
    "        templateFile = templateFile,\n",
    "        runFile = currentFile,\n",
    "        execPath = execPath,\n",
    "        verbose=True\n",
    "        )\n",
    "       \n",
    "    ## Copy template input file to folder\n",
    "    BoxModel.cloneTemplate()\n",
    "    \n",
    "    ## Replace tags for values in case\n",
    "    for parameter in listOfAllParameters:\n",
    "        BoxModel.replaceTagInFile(parameter)\n",
    "\n",
    "    return BoxModel\n",
    "\n",
    "## Dummy for caseDict\n",
    "caseDict = {}\n",
    "\n",
    "def getTemplate(key):\n",
    "    templateFiles = {\"TH_RSandbox_Model\":\"tpl_TH_3Dbox_bioparticleTModel_2closedBounds.in\",\\\n",
    "                 \"TH_RSandbox_Const\":\"tpl_TH_3Dbox_bioparticleKte_2closedBounds.in\",\\\n",
    "                 \"TH_RDecay\":\"tpl_TH_3Dbox_radioactiveDecay_2closedBounds.in\",\\\n",
    "                 \"Richards_RDecay\":\"tpl_TH_3Dbox_radioactiveDecay_2closedBounds.in\",\\\n",
    "                 \"Richards\":\"tpl_Richards_3Dbox_conservative_2closedBounds.in\",\\\n",
    "                 \"TH_RSandbox_Model_lineSource\":\"tpl_TH_3Dbox_bioparticleTModel_open_lineSource.in\"}\n",
    "\n",
    "    templateFolder = \"../TEMPLATES/boxes_3D/\"\n",
    "    return templateFolder + templateFiles[key]\n",
    "    \n",
    "templateFile = getTemplate('TH_RSandbox_Const')\n",
    "execPath = \"$PFLOTRAN_DIR/buildExperimental/pflotran\""
   ]
  },
  {
   "cell_type": "code",
   "execution_count": 2,
   "metadata": {},
   "outputs": [],
   "source": [
    "K = 10.**-2.\n",
    "Qin = 0.24\n",
    "f = 10.\n",
    "H = 20.\n",
    "r = 40.\n",
    "I = 0.001\n",
    "C0 = 1.0\n",
    "\n",
    "decayRate = 3.5353E-06\n",
    "#decayRate = 0.0\n",
    "\n",
    "delY,delZ = 1.,H\n",
    "\n",
    "nu = 0.0000013081 #m²/s\n",
    "g = 9.81 #m/s²\n",
    "THETA = 0.35\n",
    "\n",
    "Iarray = np.concatenate((\n",
    "    np.array([1.0E-4,5.0E-4]),\n",
    "    (10.0)**np.linspace(-3,-2,num=10),\n",
    "    np.array([5.0E-2,1.0E-1])),axis=None)"
   ]
  },
  {
   "cell_type": "code",
   "execution_count": 3,
   "metadata": {},
   "outputs": [],
   "source": [
    "resetPickle()\n",
    "caseDict['endTime'].value = 50.\n",
    "\n",
    "caseDict['BIOPARTICLE']['decayAq'].value = decayRate\n",
    "caseDict['Q']['In'].value  = Qin\n",
    "caseDict['Q']['Out'].value = -Qin*f\n",
    "caseDict['k']['X'].value = K*nu/g\n",
    "caseDict['k']['Y'].value = K*nu/g\n",
    "caseDict['k']['Z'].value = K*nu/g\n",
    "caseDict['theta'].value = THETA\n",
    "caseDict['L']['Z'].value = H\n",
    "caseDict['inCoord']['X'][1].value = caseDict['outCoord']['X'][1].value + r\n",
    "caseDict['inCoord']['X'][2].value = caseDict['outCoord']['X'][2].value + r\n",
    "\n",
    "caseDict['inCoord']['Z'][1].value = 0.0\n",
    "caseDict['inCoord']['Z'][2].value = H\n",
    "\n",
    "caseDict['outCoord']['Z'][1].value = 0.0\n",
    "caseDict['outCoord']['Z'][2].value = H"
   ]
  },
  {
   "cell_type": "raw",
   "metadata": {
    "scrolled": false
   },
   "source": [
    "## Build escenarios\n",
    "### Using bioparticle sandbox - TH\n",
    "\n",
    "for i,I in enumerate(Iarray):\n",
    "    caseDict['Gradient']['X'].value  = I\n",
    "    buildSim(\"{:03d}__I_=_{:.1E}\".format(i,I))\n",
    "\n",
    "## Run and plot\n",
    "mo.Model.runAllModels(nProcs=6)\n",
    "legendTitle = \"Decay rates $\\lambda$  [1/s]\"\n",
    "plotResults()"
   ]
  },
  {
   "cell_type": "raw",
   "metadata": {},
   "source": [
    "print(Iarray)\n",
    "import os \n",
    "\n",
    "print(os.listdir(\"MASSBALANCES\"))"
   ]
  },
  {
   "cell_type": "code",
   "execution_count": 4,
   "metadata": {},
   "outputs": [
    {
     "name": "stdout",
     "output_type": "stream",
     "text": [
      "[9.42298879 4.96993694 3.9123515  3.65302133 3.45635245 3.3141931\n",
      " 3.21916362 3.16435079 3.14281106 3.14857241 3.17645833 3.22209497\n",
      " 3.73699512 4.01527365]\n"
     ]
    },
    {
     "data": {
      "image/png": "[encoded data removed]",
      "text/plain": [
       "<Figure size 432x576 with 1 Axes>"
      ]
     },
     "metadata": {
      "needs_background": "light"
     },
     "output_type": "display_data"
    }
   ],
   "source": [
    "## Build escenarios\n",
    "### Using bioparticle sandbox - TH\n",
    "\n",
    "\n",
    "## Run and plot\n",
    "#mo.Model.runAllModels(nProcs=6)\n",
    "legendTitle = \"Worst case:\"\n",
    "plotResults(clean=False)"
   ]
  },
  {
   "cell_type": "code",
   "execution_count": null,
   "metadata": {},
   "outputs": [],
   "source": []
  }
 ],
 "metadata": {
  "kernelspec": {
   "display_name": "Python 3",
   "language": "python",
   "name": "python3"
  },
  "language_info": {
   "codemirror_mode": {
    "name": "ipython",
    "version": 3
   },
   "file_extension": ".py",
   "mimetype": "text/x-python",
   "name": "python",
   "nbconvert_exporter": "python",
   "pygments_lexer": "ipython3",
   "version": "3.8.5"
  }
 },
 "nbformat": 4,
 "nbformat_minor": 4
}
