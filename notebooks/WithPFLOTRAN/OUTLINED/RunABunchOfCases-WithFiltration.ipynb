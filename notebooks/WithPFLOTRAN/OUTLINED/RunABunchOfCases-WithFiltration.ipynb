{
 "cells": [
  {
   "cell_type": "code",
   "execution_count": 1,
   "metadata": {},
   "outputs": [],
   "source": [
    "from os import system\n",
    "import pickle\n",
    "\n",
    "import numpy as np\n",
    "\n",
    "## PFLOTRAN\n",
    "import jupypft.model as mo\n",
    "import jupypft.parameter as pm\n",
    "import jupypft.plotBTC as plotBTC\n",
    "\n",
    "def resetPickle():\n",
    "    mo.Model.resetListOfModels()\n",
    "    global caseDict\n",
    "    with open('caseDict.pkl', 'rb') as f:\n",
    "        caseDict = pickle.load(f)\n",
    "    \n",
    "    pm.Parameter.rebuildListOfObjects(caseDict)\n",
    "    \n",
    "    global listOfAllParameters\n",
    "    listOfAllParameters = pm.Parameter.list_of_vars()\n",
    "    \n",
    "    #system(\"rm -rf CASE*\")\n",
    "    \n",
    "def plotResults(clean=True,BTC=False,EndC=False):\n",
    "    if clean:\n",
    "        system(\"rm -rf MASSBALANCES; mkdir MASSBALANCES\")\n",
    "        system(\"cp ./CASE**/*-mas.dat ./MASSBALANCES\")\n",
    "        mo.Model.folderFixedToCSV(\"MASSBALANCES\")\n",
    "\n",
    "    waterDensity = 999.65\n",
    "    m3ToL = 1000.\n",
    "\n",
    "    if BTC:\n",
    "        plotBTC.plotMassBalancesInFolder(\n",
    "            folderToPlot=\"MASSBALANCES\",\n",
    "            indices = {'t':\"Time [d]\",\\\n",
    "                       'q':\"ExtractWell Water Mass [kg/d]\",\\\n",
    "                       'm':\"ExtractWell Vaq [mol/d]\"},\n",
    "            normalizeWith={'t':1.0,'q':waterDensity/m3ToL,'m':1.0},\n",
    "            legendTitle = legendTitle)\n",
    "\n",
    "    if EndC:\n",
    "        plotBTC.plotEndConcentrations(\n",
    "            folderToPlot=\"MASSBALANCES\",\n",
    "            Xdata = Iarray,\n",
    "            indices = {'t':\"Time [d]\",\\\n",
    "                       'q':\"ExtractWell Water Mass [kg/d]\",\\\n",
    "                       'm':\"ExtractWell Vaq [mol/d]\"},\n",
    "            normalizeWith={'t':1.0,'q':waterDensity/m3ToL,'m':1.0},\n",
    "            legendTitle = legendTitle)\n",
    "    \n",
    "def buildSim(caseName):\n",
    "    ## Create a folder for the case\n",
    "    currentFolder = \"./CASE_{0}\".format(caseName)\n",
    "    currentFile = currentFolder + \"/\" + caseName +\".in\"\n",
    "    system(\"mkdir \" + currentFolder)\n",
    "    \n",
    "    ## Initialize PFLOTRAN model\n",
    "    BoxModel = mo.Model(\n",
    "        templateFile = templateFile,\n",
    "        runFile = currentFile,\n",
    "        execPath = execPath,\n",
    "        verbose=True\n",
    "        )\n",
    "       \n",
    "    ## Copy template input file to folder\n",
    "    BoxModel.cloneTemplate()\n",
    "    \n",
    "    ## Replace tags for values in case\n",
    "    for parameter in listOfAllParameters:\n",
    "        BoxModel.replaceTagInFile(parameter)\n",
    "\n",
    "    return BoxModel\n",
    "\n",
    "## Dummy for caseDict\n",
    "caseDict = {}\n",
    "\n",
    "def getTemplate(key):\n",
    "    templateFiles = {\"TH_RSandbox_Const\":\"tpl_TH_3Dbox_bioparticleKte_NoH5.in\"}\n",
    "\n",
    "    templateFolder = \"../TEMPLATES/boxes_3D/\"\n",
    "    return templateFolder + templateFiles[key]\n",
    "    \n",
    "templateFile = getTemplate('TH_RSandbox_Const')\n",
    "execPath = \"$PFLOTRAN_DIR/buildExperimental/pflotran\""
   ]
  },
  {
   "cell_type": "code",
   "execution_count": 2,
   "metadata": {},
   "outputs": [],
   "source": [
    "K = 10.**-2.\n",
    "Qin = 0.24\n",
    "f = 10.\n",
    "H = 20.\n",
    "r = 40.\n",
    "I = 0.001\n",
    "C0 = 1.0\n",
    "decayRate = 3.5353E-06\n",
    "attachRate = 7.2E-06\n",
    "\n",
    "nu = 0.0000013081 #m²/s\n",
    "g = 9.81 #m/s²\n",
    "THETA = 0.35"
   ]
  },
  {
   "cell_type": "code",
   "execution_count": 3,
   "metadata": {},
   "outputs": [],
   "source": [
    "resetPickle()\n",
    "caseDict['endTime'].value = 50.\n",
    "\n",
    "caseDict['BIOPARTICLE']['decayAq'].value = decayRate\n",
    "caseDict['BIOPARTICLE']['katt'].value = attachRate\n",
    "\n",
    "caseDict['Q']['In'].value  = Qin\n",
    "caseDict['Q']['Out'].value = -Qin*f\n",
    "caseDict['k']['X'].value = K*nu/g\n",
    "caseDict['k']['Y'].value = K*nu/g\n",
    "caseDict['k']['Z'].value = K*nu/g\n",
    "caseDict['theta'].value = THETA\n",
    "caseDict['L']['Z'].value = H\n",
    "caseDict['inCoord']['X'][1].value = caseDict['outCoord']['X'][1].value + r\n",
    "caseDict['inCoord']['X'][2].value = caseDict['outCoord']['X'][2].value + r\n",
    "\n",
    "caseDict['inCoord']['Z'][1].value = 0.0\n",
    "caseDict['inCoord']['Z'][2].value = H\n",
    "\n",
    "caseDict['outCoord']['Z'][1].value = 0.0\n",
    "caseDict['outCoord']['Z'][2].value = H"
   ]
  },
  {
   "cell_type": "code",
   "execution_count": 4,
   "metadata": {},
   "outputs": [],
   "source": [
    "Qin_array = np.array([0.24,1.,10.,100.])\n",
    "r_array = np.array([5,10,40,100])\n",
    "I_array = np.array([[0.07,0.13,0.48,1.20],\n",
    "                    [0.07,0.13,0.48,1.20],\n",
    "                    [0.08,0.13,0.48,1.20],\n",
    "                    [0.17,0.21,0.53,1.20]])/100."
   ]
  },
  {
   "cell_type": "code",
   "execution_count": 5,
   "metadata": {},
   "outputs": [],
   "source": [
    "i,j = 0,0\n",
    "ref = 3\n",
    "for qi,Qin in enumerate(Qin_array):\n",
    "    caseDict['Q']['In'].value  = Qin\n",
    "    for ri,r in enumerate(r_array):\n",
    "        caseDict['inCoord']['X'][1].value = caseDict['outCoord']['X'][1].value + r\n",
    "        caseDict['inCoord']['X'][2].value = caseDict['outCoord']['X'][2].value + r\n",
    "        Icentral = I_array[qi,ri]\n",
    "        I_guess_1 = np.linspace(Icentral/3.,Icentral,num=ref)\n",
    "        I_guess_2 = np.linspace(Icentral,Icentral*3.,num=ref)\n",
    "        I_guess = np.concatenate((I_guess_1,I_guess_2[1:]))\n",
    "        for ii, I in enumerate(I_guess):\n",
    "            caseDict['Gradient']['X'].value  = I\n",
    "            buildSim(\"{:02d}_{:02d}__I_=_{:.1E}\".format(i,j,I))\n",
    "            j += 1\n",
    "        j = 0\n",
    "        i += 1"
   ]
  },
  {
   "cell_type": "code",
   "execution_count": 6,
   "metadata": {},
   "outputs": [],
   "source": [
    "## Run and plot\n",
    "mo.Model.runAllModels(nProcs=8)\n",
    "#legendTitle = \"Decay rates $\\lambda$  [1/s]\"\n",
    "#plotResults()"
   ]
  },
  {
   "cell_type": "code",
   "execution_count": 8,
   "metadata": {},
   "outputs": [
    {
     "name": "stderr",
     "output_type": "stream",
     "text": [
      "NumExpr defaulting to 8 threads.\n"
     ]
    }
   ],
   "source": [
    "waterDensity = 999.65\n",
    "m3ToL = 1000.\n",
    "import os \n",
    "from pandas import read_csv\n",
    "\n",
    "folderToPlot=\"Comparison_MASSBALANCES_att\"\n",
    "\n",
    "#os.system(\"rm -rf MASSBALANCES; mkdir MASSBALANCES\")\n",
    "#os.system(\"cp ./CASE**/*-mas.dat ./MASSBALANCES\")\n",
    "\n",
    "mo.Model.folderFixedToCSV(folderToPlot)     \n",
    "\n",
    "indices = {'t':\"Time [d]\",\\\n",
    "           'q':\"ExtractWell Water Mass [kg/d]\",\\\n",
    "           'm':\"ExtractWell Vaq [mol/d]\"}\n",
    "normalizeWith={'t':1.0,'q':waterDensity/m3ToL,'m':1.0}\n",
    "\n",
    "listOfFiles = os.listdir(folderToPlot)\n",
    "listOfFiles.sort()\n",
    "      \n",
    "logC_arr = np.zeros_like(listOfFiles)\n",
    "    \n",
    "for i,f in enumerate(listOfFiles):\n",
    "    DATA = read_csv(\\\n",
    "    folderToPlot+\"/\"+f,\\\n",
    "    delimiter=\",\")\n",
    "\n",
    "    q = DATA[indices['q']]/normalizeWith['q']\n",
    "    m = DATA[indices['m']]/normalizeWith['m']\n",
    "      \n",
    "    Y = np.divide(m,q)\n",
    "    maxY = np.max(Y)\n",
    "    \n",
    "    logC_val = -np.log10(maxY)\n",
    "    logC_arr[i] = logC_val"
   ]
  },
  {
   "cell_type": "code",
   "execution_count": 9,
   "metadata": {},
   "outputs": [],
   "source": [
    "i,j = 0,0\n",
    "ref = 3\n",
    "\n",
    "I = []\n",
    "for qi,Qin in enumerate(Qin_array):\n",
    "    for ri,r in enumerate(r_array):\n",
    "        Icentral = I_array[qi,ri]\n",
    "        I_guess_1 = np.linspace(Icentral/3.,Icentral,num=ref)\n",
    "        I_guess_2 = np.linspace(Icentral,Icentral*3.,num=ref)\n",
    "        I_guess = np.concatenate((I_guess_1,I_guess_2[1:]))\n",
    "        I.append(I_guess)\n",
    "        \n",
    "minC_array = np.zeros(16)\n",
    "minI_array = np.zeros(16)\n",
    "\n",
    "for i,vect in enumerate(np.reshape(logC_arr,(16,5))):\n",
    "    Ieach = I[i]\n",
    "    minC_array[i] = min(vect)\n",
    "    minI_array[i] = Ieach[np.argmin(vect)]"
   ]
  },
  {
   "cell_type": "code",
   "execution_count": 10,
   "metadata": {},
   "outputs": [
    {
     "data": {
      "text/plain": [
       "array([0.0014, 0.0039, 0.0144, 0.036 , 0.0014, 0.0039, 0.0144, 0.036 ,\n",
       "       0.0016, 0.0039, 0.0144, 0.036 , 0.0017, 0.0063, 0.0159, 0.036 ])"
      ]
     },
     "execution_count": 10,
     "metadata": {},
     "output_type": "execute_result"
    }
   ],
   "source": [
    "minI_array"
   ]
  },
  {
   "cell_type": "code",
   "execution_count": 11,
   "metadata": {},
   "outputs": [
    {
     "data": {
      "text/plain": [
       "array([2.70966103, 3.09070854, 3.61937381, 3.99433636, 2.0934136 ,\n",
       "       2.47294713, 3.00034689, 3.37487213, 1.13490091, 1.49712873,\n",
       "       2.00931935, 2.37863042, 0.39427172, 0.66484608, 1.08376174,\n",
       "       1.41433393])"
      ]
     },
     "execution_count": 11,
     "metadata": {},
     "output_type": "execute_result"
    }
   ],
   "source": [
    "minC_array"
   ]
  },
  {
   "cell_type": "code",
   "execution_count": null,
   "metadata": {},
   "outputs": [],
   "source": []
  }
 ],
 "metadata": {
  "kernelspec": {
   "display_name": "Python 3",
   "language": "python",
   "name": "python3"
  },
  "language_info": {
   "codemirror_mode": {
    "name": "ipython",
    "version": 3
   },
   "file_extension": ".py",
   "mimetype": "text/x-python",
   "name": "python",
   "nbconvert_exporter": "python",
   "pygments_lexer": "ipython3",
   "version": "3.8.5"
  },
  "toc": {
   "base_numbering": 1,
   "nav_menu": {},
   "number_sections": false,
   "sideBar": false,
   "skip_h1_title": false,
   "title_cell": "Table of Contents",
   "title_sidebar": "Contents",
   "toc_cell": false,
   "toc_position": {},
   "toc_section_display": false,
   "toc_window_display": false
  }
 },
 "nbformat": 4,
 "nbformat_minor": 4
}
