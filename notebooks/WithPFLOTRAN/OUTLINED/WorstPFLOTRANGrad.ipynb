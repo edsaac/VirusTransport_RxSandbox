{
 "cells": [
  {
   "cell_type": "code",
   "execution_count": 1,
   "metadata": {},
   "outputs": [],
   "source": [
    "from os import system\n",
    "import pickle\n",
    "\n",
    "import numpy as np\n",
    "\n",
    "## PFLOTRAN\n",
    "import jupypft.model as mo\n",
    "import jupypft.parameter as pm\n",
    "import jupypft.plotBTC as plotBTC\n",
    "\n",
    "def resetPickle(rmAll=True):\n",
    "    mo.Model.resetListOfModels()\n",
    "    global caseDict\n",
    "    with open('caseDict.pkl', 'rb') as f:\n",
    "        caseDict = pickle.load(f)\n",
    "    \n",
    "    pm.Parameter.rebuildListOfObjects(caseDict)\n",
    "    \n",
    "    global listOfAllParameters\n",
    "    listOfAllParameters = pm.Parameter.list_of_vars()\n",
    "    \n",
    "    if rmAll:\n",
    "        system(\"rm -rf CASE*\")\n",
    "    \n",
    "def plotResults(clean=True,BTC=False,EndC=False,folder=\"MASSBALANCES\"):\n",
    "    if clean:\n",
    "        system(\"rm -rf MASSBALANCES; mkdir MASSBALANCES\")\n",
    "        system(\"cp ./CASE**/*-mas.dat ./MASSBALANCES\")\n",
    "        mo.Model.folderFixedToCSV(\"MASSBALANCES\")\n",
    "\n",
    "    waterDensity = 999.65\n",
    "    m3ToL = 1000.\n",
    "\n",
    "    if BTC:\n",
    "        plotBTC.plotMassBalancesInFolder(\n",
    "            folderToPlot=folder,\n",
    "            indices = {'t':\"Time [d]\",\\\n",
    "                       'q':\"ExtractWell Water Mass [kg/d]\",\\\n",
    "                       'm':\"ExtractWell Vaq [mol/d]\"},\n",
    "            normalizeWith={'t':1.0,'q':waterDensity/m3ToL,'m':1.0},\n",
    "            legendTitle = legendTitle)\n",
    "\n",
    "    if EndC:\n",
    "        plotBTC.plotEndConcentrations(\n",
    "            folderToPlot=folder,\n",
    "            Xdata = Iarray,\n",
    "            indices = {'t':\"Time [d]\",\\\n",
    "                       'q':\"ExtractWell Water Mass [kg/d]\",\\\n",
    "                       'm':\"ExtractWell Vaq [mol/d]\"},\n",
    "            normalizeWith={'t':1.0,'q':waterDensity/m3ToL,'m':1.0},\n",
    "            legendTitle = legendTitle)\n",
    "        \n",
    "def buildSim(caseName):\n",
    "    ## Create a folder for the case\n",
    "    currentFolder = \"./CASE_{0}\".format(caseName)\n",
    "    currentFile = currentFolder + \"/\" + caseName +\".in\"\n",
    "    system(\"mkdir \" + currentFolder)\n",
    "    \n",
    "    ## Initialize PFLOTRAN model\n",
    "    BoxModel = mo.Model(\n",
    "        templateFile = templateFile,\n",
    "        runFile = currentFile,\n",
    "        execPath = execPath,\n",
    "        verbose=True\n",
    "        )\n",
    "       \n",
    "    ## Copy template input file to folder\n",
    "    BoxModel.cloneTemplate()\n",
    "    \n",
    "    ## Replace tags for values in case\n",
    "    for parameter in listOfAllParameters:\n",
    "        BoxModel.replaceTagInFile(parameter)\n",
    "\n",
    "    return BoxModel\n",
    "\n",
    "## Dummy for caseDict\n",
    "caseDict = {}\n",
    "\n",
    "def getTemplate(key):\n",
    "    templateFiles = {\"TH_RSandbox_Const\":\"tpl_TH_3Dbox_bioparticleKte_NoH5.in\",\n",
    "                    \"TH_RSandbox_CFT\":\"tpl_TH_3Dbox_bioparticleCFT_NoH5.in\"}\n",
    "\n",
    "    templateFolder = \"../TEMPLATES/boxes_3D/\"\n",
    "    return templateFolder + templateFiles[key]\n"
   ]
  },
  {
   "cell_type": "raw",
   "metadata": {},
   "source": [
    "templateFile = getTemplate('TH_RSandbox_Const')\n",
    "execPath = \"$PFLOTRAN_DIR/buildExperimental/pflotran\"\n",
    "\n",
    "K = 10.**-2.\n",
    "Qin = 0.24\n",
    "f = 10.\n",
    "H = 20.\n",
    "r = 40.\n",
    "I = 0.001\n",
    "C0 = 1.0\n",
    "\n",
    "decayRate = 3.5353E-06\n",
    "#decayRate = 0.0\n",
    "\n",
    "delY,delZ = 1.,H\n",
    "\n",
    "nu = 0.0000013081 #m²/s\n",
    "g = 9.81 #m/s²\n",
    "THETA = 0.35\n",
    "\n",
    "Iarray = np.concatenate((\n",
    "    np.array([1.0E-4,5.0E-4]),\n",
    "    (10.0)**np.linspace(-3,-2,num=10),\n",
    "    np.array([5.0E-2,1.0E-1])),axis=None)"
   ]
  },
  {
   "cell_type": "raw",
   "metadata": {},
   "source": [
    "resetPickle()\n",
    "caseDict['endTime'].value = 50.\n",
    "\n",
    "caseDict['BIOPARTICLE']['decayAq'].value = decayRate\n",
    "caseDict['Q']['In'].value  = Qin\n",
    "caseDict['Q']['Out'].value = -Qin*f\n",
    "caseDict['k']['X'].value = K*nu/g\n",
    "caseDict['k']['Y'].value = K*nu/g\n",
    "caseDict['k']['Z'].value = K*nu/g\n",
    "caseDict['theta'].value = THETA\n",
    "caseDict['L']['Z'].value = H\n",
    "caseDict['inCoord']['X'][1].value = caseDict['outCoord']['X'][1].value + r\n",
    "caseDict['inCoord']['X'][2].value = caseDict['outCoord']['X'][2].value + r\n",
    "\n",
    "caseDict['inCoord']['Z'][1].value = 0.0\n",
    "caseDict['inCoord']['Z'][2].value = H\n",
    "\n",
    "caseDict['outCoord']['Z'][1].value = 0.0\n",
    "caseDict['outCoord']['Z'][2].value = H"
   ]
  },
  {
   "cell_type": "markdown",
   "metadata": {},
   "source": [
    "To run from nothing, flip the following cell to code and run. If only visualization is seeked, only run the last cell of this notebook"
   ]
  },
  {
   "cell_type": "raw",
   "metadata": {
    "scrolled": false
   },
   "source": [
    "## Build escenarios\n",
    "### Using bioparticle sandbox - TH\n",
    "\n",
    "for i,I in enumerate(Iarray):\n",
    "    caseDict['Gradient']['X'].value  = I\n",
    "    buildSim(\"{:02d}__I_=_{:.1E}\".format(i,I))\n",
    "\n",
    "## Run and plot\n",
    "mo.Model.runAllModels(nProcs=6)\n",
    "legendTitle = \"Decay rates $\\lambda$  [1/s]\"\n",
    "plotResults(EndC=True)"
   ]
  },
  {
   "cell_type": "raw",
   "metadata": {
    "scrolled": false
   },
   "source": [
    "## Run and plot\n",
    "mo.Model.runAllModels(nProcs=6)\n",
    "legendTitle = \"Decay rates $\\lambda$  [1/s]\"\n",
    "plotResults(EndC=True,folder=\"LittleValidation_MASSBALANCES\")"
   ]
  },
  {
   "cell_type": "markdown",
   "metadata": {},
   "source": [
    "# With Attachment"
   ]
  },
  {
   "cell_type": "code",
   "execution_count": 2,
   "metadata": {},
   "outputs": [],
   "source": [
    "templateFile = getTemplate('TH_RSandbox_CFT')\n",
    "execPath = \"$PFLOTRAN_DIR/buildExperimental/pflotran\"\n",
    "\n",
    "K = 10.**-2.\n",
    "Qin = 0.24\n",
    "f = 10.\n",
    "H = 20.\n",
    "r = 40.\n",
    "I = 0.001\n",
    "C0 = 1.0\n",
    "\n",
    "decayRate = 3.5353E-06\n",
    "\n",
    "delY,delZ = 1.,H\n",
    "\n",
    "nu = 0.0000013081 #m²/s\n",
    "g = 9.81 #m/s²\n",
    "THETA = 0.35\n",
    "\n",
    "Iarray = np.concatenate((\n",
    "    np.array([5.0E-4,1.0E-3]),\n",
    "    4.0*((10.0)**np.linspace(-3,-2,num=10)),\n",
    "    np.array([1.0E-1])),axis=None)"
   ]
  },
  {
   "cell_type": "code",
   "execution_count": 3,
   "metadata": {},
   "outputs": [],
   "source": [
    "resetPickle()\n",
    "caseDict['endTime'].value = 50.\n",
    "\n",
    "caseDict['BIOPARTICLE']['decayAq'].value = decayRate\n",
    "caseDict['Q']['In'].value  = Qin\n",
    "caseDict['Q']['Out'].value = -Qin*f\n",
    "caseDict['k']['X'].value = K*nu/g\n",
    "caseDict['k']['Y'].value = K*nu/g\n",
    "caseDict['k']['Z'].value = K*nu/g\n",
    "caseDict['theta'].value = THETA\n",
    "caseDict['L']['Z'].value = H\n",
    "caseDict['inCoord']['X'][1].value = caseDict['outCoord']['X'][1].value + r\n",
    "caseDict['inCoord']['X'][2].value = caseDict['outCoord']['X'][2].value + r\n",
    "\n",
    "caseDict['inCoord']['Z'][1].value = 0.0\n",
    "caseDict['inCoord']['Z'][2].value = H\n",
    "\n",
    "caseDict['outCoord']['Z'][1].value = 0.0\n",
    "caseDict['outCoord']['Z'][2].value = H"
   ]
  },
  {
   "cell_type": "code",
   "execution_count": 4,
   "metadata": {},
   "outputs": [],
   "source": [
    "kattDict = dict(\n",
    "    dp = 1.0E-7,\n",
    "    dc = 2.0E-3,\n",
    "    theta = THETA,\n",
    "    visco = 0.0008891,\n",
    "    rho_f = 999.79,\n",
    "    rho_p = 1050.0,\n",
    "    A = 5.0E-21,\n",
    "    T = 10. + 273.15,\n",
    "    alpha = 0.01)\n",
    "\n",
    "CD_dc = pm.Real(\"<diamCollector>\",value=kattDict['dc'])\n",
    "CD_dp = pm.Real(\"<diamParticle>\",value=kattDict['dp'])\n",
    "CD_A  = pm.Real(\"<hamakerConstant>\",value=kattDict['A'])\n",
    "CD_rp = pm.Real(\"<rhoParticle>\",value=kattDict['rho_p'])\n",
    "CD_alpha = pm.Real(\"<stickingEfficiency>\",value=kattDict['alpha'])"
   ]
  },
  {
   "cell_type": "code",
   "execution_count": 5,
   "metadata": {},
   "outputs": [
    {
     "name": "stdout",
     "output_type": "stream",
     "text": [
      "[7.80757401 6.32913167 4.49985454 4.31630475 4.17306394 4.06612125\n",
      " 3.99154717 3.94530841 3.92387452 3.92353508 3.94131772 3.97453013\n",
      " 4.18675896]\n"
     ]
    },
    {
     "data": {
      "image/png": "[encoded data removed]",
      "text/plain": [
       "<Figure size 432x576 with 1 Axes>"
      ]
     },
     "metadata": {
      "needs_background": "light"
     },
     "output_type": "display_data"
    }
   ],
   "source": [
    "## Build escenarios\n",
    "### Using bioparticle sandbox - TH\n",
    "\n",
    "for i,I in enumerate(Iarray):\n",
    "    caseDict['Gradient']['X'].value  = I\n",
    "    buildSim(\"{:02d}__I_=_{:.1E}\".format(i,I))\n",
    "\n",
    "## Run and plot\n",
    "mo.Model.runAllModels(nProcs=6)\n",
    "legendTitle = \"Decay rates $\\lambda$  [1/s]\"\n",
    "plotResults(EndC=True)"
   ]
  }
 ],
 "metadata": {
  "kernelspec": {
   "display_name": "Python 3",
   "language": "python",
   "name": "python3"
  },
  "language_info": {
   "codemirror_mode": {
    "name": "ipython",
    "version": 3
   },
   "file_extension": ".py",
   "mimetype": "text/x-python",
   "name": "python",
   "nbconvert_exporter": "python",
   "pygments_lexer": "ipython3",
   "version": "3.8.5"
  }
 },
 "nbformat": 4,
 "nbformat_minor": 4
}
