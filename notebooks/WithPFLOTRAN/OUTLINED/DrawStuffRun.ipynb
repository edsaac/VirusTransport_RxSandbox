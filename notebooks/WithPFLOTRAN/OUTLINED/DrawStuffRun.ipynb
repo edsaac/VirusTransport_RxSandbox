{
 "cells": [
  {
   "cell_type": "code",
   "execution_count": 1,
   "id": "b874f9b0",
   "metadata": {},
   "outputs": [],
   "source": [
    "from os import system\n",
    "import pickle\n",
    "\n",
    "## PFLOTRAN\n",
    "import jupypft.model as mo\n",
    "import jupypft.parameter as pm\n",
    "import jupypft.plotBTC as plotBTC\n",
    "\n",
    "def resetPickle():\n",
    "    mo.Model.resetListOfModels()\n",
    "    global caseDict\n",
    "    with open('caseDict.pkl', 'rb') as f:\n",
    "        caseDict = pickle.load(f)\n",
    "    \n",
    "    pm.Parameter.rebuildListOfObjects(caseDict)\n",
    "    \n",
    "    global listOfAllParameters\n",
    "    listOfAllParameters = pm.Parameter.list_of_vars()\n",
    "    \n",
    "    system(\"rm -rf CASE*\")\n",
    "    \n",
    "def plotResults():\n",
    "    system(\"rm -rf MASSBALANCES; mkdir MASSBALANCES\")\n",
    "    system(\"cp ./CASE**/*-mas.dat ./MASSBALANCES\")\n",
    "    mo.Model.folderFixedToCSV(\"MASSBALANCES\")\n",
    "\n",
    "    waterDensity = 999.65\n",
    "    m3ToL = 1000.\n",
    "\n",
    "    plotBTC.plotMassBalancesInFolder(\n",
    "        folderToPlot=\"MASSBALANCES\",\n",
    "        indices = {'t':\"Time [d]\",\\\n",
    "                   'q':\"ExtractWell Water Mass [kg/d]\",\\\n",
    "                   'm':\"ExtractWell Vaq [mol/d]\"},\n",
    "        normalizeWith={'t':1.0,'q':waterDensity/m3ToL,'m':1.0},\n",
    "        legendTitle = legendTitle)\n",
    "    \n",
    "def buildSim(caseName):\n",
    "    ## Create a folder for the case\n",
    "    currentFolder = \"./CASE_{0}\".format(caseName)\n",
    "    currentFile = currentFolder + \"/\" + caseName +\".in\"\n",
    "    system(\"mkdir \" + currentFolder)\n",
    "    \n",
    "    ## Initialize PFLOTRAN model\n",
    "    BoxModel = mo.Model(\n",
    "        templateFile = templateFile,\n",
    "        runFile = currentFile,\n",
    "        execPath = execPath,\n",
    "        verbose=True\n",
    "        )\n",
    "       \n",
    "    ## Copy template input file to folder\n",
    "    BoxModel.cloneTemplate()\n",
    "    \n",
    "    ## Replace tags for values in case\n",
    "    for parameter in listOfAllParameters:\n",
    "        BoxModel.replaceTagInFile(parameter)\n",
    "\n",
    "    return BoxModel\n",
    "\n",
    "## Dummy for caseDict\n",
    "caseDict = {}"
   ]
  },
  {
   "cell_type": "code",
   "execution_count": 2,
   "id": "c9a6fa49",
   "metadata": {},
   "outputs": [],
   "source": [
    "def getTemplate(key):\n",
    "    templateFiles = {\"TH_RSandbox_Model\":\"tpl_TH_3Dbox_bioparticleTModel_2closedBounds.in\",\\\n",
    "                 \"TH_RSandbox_Const\":\"tpl_TH_3Dbox_bioparticleKte_2closedBounds.in\",\\\n",
    "                 \"TH_RDecay\":\"tpl_TH_3Dbox_radioactiveDecay_2closedBounds.in\",\\\n",
    "                 \"Richards_RDecay\":\"tpl_TH_3Dbox_radioactiveDecay_2closedBounds.in\",\\\n",
    "                 \"Richards\":\"tpl_Richards_3Dbox_conservative_2closedBounds.in\",\\\n",
    "                 \"TH_RSandbox_Model_lineSource\":\"tpl_TH_3Dbox_bioparticleTModel_open_lineSource.in\"}\n",
    "\n",
    "    templateFolder = \"../TEMPLATES/boxes_3D/\"\n",
    "    return templateFolder + templateFiles[key]\n",
    "    \n",
    "templateFile = getTemplate('TH_RSandbox_Const')\n",
    "execPath = \"$PFLOTRAN_DIR/buildExperimental/pflotran\""
   ]
  },
  {
   "cell_type": "code",
   "execution_count": 3,
   "id": "d997dabb",
   "metadata": {},
   "outputs": [
    {
     "name": "stderr",
     "output_type": "stream",
     "text": [
      "NumExpr defaulting to 8 threads.\n"
     ]
    },
    {
     "data": {
      "image/png": "[encoded data removed]",
      "text/plain": [
       "<Figure size 504x360 with 1 Axes>"
      ]
     },
     "metadata": {
      "needs_background": "light"
     },
     "output_type": "display_data"
    }
   ],
   "source": [
    "resetPickle()\n",
    "caseDict['Gradient']['X'].value = 1.0E-3\n",
    "\n",
    "## Build escenarios\n",
    "\n",
    "### Using bioparticle sandbox - TH\n",
    "templateFile = getTemplate('TH_RSandbox_Const')\n",
    "caseDict['BIOPARTICLE']['decayAq'].value = 3.5353E-06\n",
    "buildSim(\"ConstantDecay\")\n",
    "\n",
    "## Run and plot\n",
    "mo.Model.runAllModels(nProcs=6)\n",
    "legendTitle = \"Decay rates $\\lambda$  [1/s]\"\n",
    "plotResults()"
   ]
  },
  {
   "cell_type": "code",
   "execution_count": 5,
   "id": "9af40237",
   "metadata": {},
   "outputs": [
    {
     "data": {
      "text/plain": [
       "{'Temp': {'Reference': <initialTemp> = 1.000E+01,\n",
       "  'Atmosphere': <atmosphereTemp> = 1.000E+01,\n",
       "  'Injection': <leakageTemp> = 1.000E+01},\n",
       " 'longDisp': <longDisp> = 0.000E+00,\n",
       " 'Gradient': {'X': <GradientX> = 1.000E-03,\n",
       "  'Y': <GradientY> = 0.000E+00,\n",
       "  'Z': <Gradient>> = 0.000E+00},\n",
       " 'L': {'X': <LenX> = 2.000E+02,\n",
       "  'Y': <LenY> = 1.000E+02,\n",
       "  'Z': <LenZ> = 2.000E+01},\n",
       " 'k': {'X': <PermX> = 1.000E-08,\n",
       "  'Y': <PermY> = 1.000E-08,\n",
       "  'Z': <PermZ> = 1.000E-08},\n",
       " 'theta': <porosity> = 3.500E-01,\n",
       " 'outCoord': {'X': {1: <outX1> = 1.000E+02, 2: <outX2> = 1.000E+02},\n",
       "  'Y': {1: <outY1> = 5.000E+01, 2: <outY2> = 5.000E+01},\n",
       "  'Z': {1: <outZ1> = 1.000E+01, 2: <outZ2> = 1.900E+01}},\n",
       " 'inCoord': {'X': {1: <inX1> = 1.400E+02, 2: <inX2> = 1.400E+02},\n",
       "  'Y': {1: <inY1> = 5.000E+01, 2: <inY2> = 5.000E+01},\n",
       "  'Z': {1: <inZ1> = 1.500E+01, 2: <inZ2> = 1.900E+01}},\n",
       " 'C0': <initialConcentration> = 1.000E+00,\n",
       " 'Q': {'In': <inRate> = 2.400E-01, 'Out': <outRate> = -2.100E+01},\n",
       " 'nGrid': {'X': <nX> = 41, 'Y': <nY> = 41, 'Z': <nZ> = 1},\n",
       " 'dGrid': {'X': <dX> = 6.7900 6.5600 \\\\ \\n    6.3200 6.0900 \\\\ \\n    5.8800 5.6700 \\\\ \\n    5.4600 5.2700 \\\\ \\n    5.0800 4.9000 \\\\ \\n    4.7200 4.5500 \\\\ \\n    4.3900 4.2300 \\\\ \\n    4.0800 3.9300 \\\\ \\n    3.7900 3.6600 \\\\ \\n    3.5300 3.4000 \\\\ \\n    3.4000 3.4000 \\\\ \\n    3.5300 3.6600 \\\\ \\n    3.7900 3.9300 \\\\ \\n    4.0800 4.2300 \\\\ \\n    4.3900 4.5500 \\\\ \\n    4.7200 4.9000 \\\\ \\n    5.0800 5.2700 \\\\ \\n    5.4600 5.6700 \\\\ \\n    5.8800 6.0900 \\\\ \\n    6.3200 6.5600 \\\\ \\n    6.7900  \\n    ,\n",
       "  'Y': <dY> = 4.0250 3.8200 \\\\ \\n    3.6000 3.4000 \\\\ \\n    3.2100 3.0300 \\\\ \\n    2.8600 2.7000 \\\\ \\n    2.5500 2.4000 \\\\ \\n    2.2700 2.1400 \\\\ \\n    2.0200 1.9100 \\\\ \\n    1.8000 1.7000 \\\\ \\n    1.6000 1.5100 \\\\ \\n    1.4300 1.3500 \\\\ \\n    1.3500 1.3500 \\\\ \\n    1.4300 1.5100 \\\\ \\n    1.6000 1.7000 \\\\ \\n    1.8000 1.9100 \\\\ \\n    2.0200 2.1400 \\\\ \\n    2.2700 2.4000 \\\\ \\n    2.5500 2.7000 \\\\ \\n    2.8600 3.0300 \\\\ \\n    3.2100 3.4000 \\\\ \\n    3.6000 3.8200 \\\\ \\n    4.0250  \\n    ,\n",
       "  'Z': <dZ> = 2.000E+01},\n",
       " 'endTime': <endTime> = 1.000E+02,\n",
       " 'BIOPARTICLE': {'katt': <katt> = 1.000E-30,\n",
       "  'kdet': <kdet> = 1.000E-30,\n",
       "  'decayAq': <decayAq> = 3.535E-06,\n",
       "  'decayIm': <decayIm> = 1.000E-30}}"
      ]
     },
     "execution_count": 5,
     "metadata": {},
     "output_type": "execute_result"
    }
   ],
   "source": [
    "caseDict"
   ]
  },
  {
   "cell_type": "code",
   "execution_count": null,
   "id": "d6cea2d8",
   "metadata": {},
   "outputs": [],
   "source": []
  }
 ],
 "metadata": {
  "kernelspec": {
   "display_name": "Python 3",
   "language": "python",
   "name": "python3"
  },
  "language_info": {
   "codemirror_mode": {
    "name": "ipython",
    "version": 3
   },
   "file_extension": ".py",
   "mimetype": "text/x-python",
   "name": "python",
   "nbconvert_exporter": "python",
   "pygments_lexer": "ipython3",
   "version": "3.8.5"
  },
  "toc": {
   "base_numbering": 1,
   "nav_menu": {},
   "number_sections": false,
   "sideBar": false,
   "skip_h1_title": false,
   "title_cell": "Table of Contents",
   "title_sidebar": "Contents",
   "toc_cell": false,
   "toc_position": {},
   "toc_section_display": false,
   "toc_window_display": false
  }
 },
 "nbformat": 4,
 "nbformat_minor": 5
}
