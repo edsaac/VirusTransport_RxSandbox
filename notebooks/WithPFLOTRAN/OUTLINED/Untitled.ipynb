{
 "cells": [
  {
   "cell_type": "markdown",
   "metadata": {},
   "source": [
    "# Attachment rate"
   ]
  },
  {
   "cell_type": "code",
   "execution_count": null,
   "metadata": {},
   "outputs": [],
   "source": [
    "%reset -f\n",
    "\n",
    "from os import system\n",
    "import pickle\n",
    "\n",
    "## PFLOTRAN\n",
    "import jupypft.model as mo\n",
    "import jupypft.parameter as pm\n",
    "import jupypft.attachmentRateCFT as arCFT\n",
    "import jupypft.plotBTC as plotBTC"
   ]
  }
 ],
 "metadata": {
  "kernelspec": {
   "display_name": "Python 3",
   "language": "python",
   "name": "python3"
  },
  "language_info": {
   "codemirror_mode": {
    "name": "ipython",
    "version": 3
   },
   "file_extension": ".py",
   "mimetype": "text/x-python",
   "name": "python",
   "nbconvert_exporter": "python",
   "pygments_lexer": "ipython3",
   "version": "3.8.5"
  }
 },
 "nbformat": 4,
 "nbformat_minor": 4
}
