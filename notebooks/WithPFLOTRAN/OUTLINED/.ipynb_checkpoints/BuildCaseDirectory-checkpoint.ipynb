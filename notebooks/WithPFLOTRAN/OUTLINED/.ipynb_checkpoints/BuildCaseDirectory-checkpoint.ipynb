{
 "cells": [
  {
   "cell_type": "code",
   "execution_count": 1,
   "metadata": {},
   "outputs": [],
   "source": [
    "%reset -f\n",
    "\n",
    "## PFLOTRAN\n",
    "import jupypft.model as mo\n",
    "import jupypft.parameter as pm\n",
    "import jupypft.attachmentRateCFT as arCFT\n",
    "import jupypft.plotBTC as plotBTC"
   ]
  },
  {
   "cell_type": "markdown",
   "metadata": {},
   "source": [
    "# Build the Case Directory"
   ]
  },
  {
   "cell_type": "code",
   "execution_count": 2,
   "metadata": {},
   "outputs": [],
   "source": [
    "## Temperatures\n",
    "Ref,Atm,Tin = pm.Real(tag=\"<initialTemp>\",value=10.,units=\"C\",mathRep=\"$$T_{0}$$\"),\\\n",
    "              pm.Real(tag=\"<atmosphereTemp>\",value=10,units=\"C\",mathRep=\"$$T_{atm}$$\"),\\\n",
    "              pm.Real(tag=\"<leakageTemp>\",value=10., units=\"m³/d\",mathRep=\"$$T_{in}$$\")"
   ]
  },
  {
   "cell_type": "code",
   "execution_count": 3,
   "metadata": {},
   "outputs": [],
   "source": [
    "LongDisp  = pm.Real(tag=\"<longDisp>\",value=0.0,units=\"m\",mathRep=\"$$\\\\alpha_L$$\")"
   ]
  },
  {
   "cell_type": "code",
   "execution_count": 4,
   "metadata": {},
   "outputs": [],
   "source": [
    "#Gradients\n",
    "GX,GY,GZ  = pm.Real(tag=\"<GradientX>\",value=0.,units=\"-\",mathRep=\"$$\\partial_x h$$\"),\\\n",
    "            pm.Real(tag=\"<GradientY>\",value=0.,units=\"-\",mathRep=\"$$\\partial_y h$$\"),\\\n",
    "            pm.Real(tag=\"<Gradient>>\",value=0.,units=\"-\",mathRep=\"$$\\partial_z h$$\")"
   ]
  },
  {
   "cell_type": "code",
   "execution_count": 5,
   "metadata": {},
   "outputs": [],
   "source": [
    "## Dimensions\n",
    "LX,LY,LZ = pm.Real(\"<LenX>\",value=200,units=\"m\",mathRep=\"$$LX$$\"),\\\n",
    "           pm.Real(\"<LenY>\",value=100,units=\"m\",mathRep=\"$$LY$$\"),\\\n",
    "           pm.Real(\"<LenZ>\",value=20,units=\"m\",mathRep=\"$$LZ$$\")"
   ]
  },
  {
   "cell_type": "code",
   "execution_count": 6,
   "metadata": {},
   "outputs": [],
   "source": [
    "## Permeability\n",
    "kX,kY,kZ = pm.Real(tag=\"<PermX>\",value=1.0E-8,units=\"m²\",mathRep=\"$$k_{xx}$$\"),\\\n",
    "           pm.Real(tag=\"<PermY>\",value=1.0E-8,units=\"m²\",mathRep=\"$$k_{yy}$$\"),\\\n",
    "           pm.Real(tag=\"<PermZ>\",value=1.0E-8,units=\"m²\",mathRep=\"$$k_{zz}$$\")\n",
    "\n",
    "theta = pm.Real(tag=\"<porosity>\",value=0.35,units=\"adim\",mathRep=\"$$\\\\theta$$\")"
   ]
  },
  {
   "cell_type": "code",
   "execution_count": 7,
   "metadata": {},
   "outputs": [],
   "source": [
    "## Extraction well\n",
    "outX1,outX2 = pm.Real(tag=\"<outX1>\",value=LX.value/2.,units=\"m\",mathRep=\"$$x_{1,Q_{out}}$$\"),\\\n",
    "              pm.Real(tag=\"<outX2>\",value=LX.value/2.,units=\"m\",mathRep=\"$$x_{2,Q_{out}}$$\")\n",
    "\n",
    "outY1,outY2 = pm.Real(tag=\"<outY1>\",value=LY.value/2.,units=\"m\",mathRep=\"$$y_{1,Q_{out}}$$\"),\\\n",
    "              pm.Real(tag=\"<outY2>\",value=LY.value/2.,units=\"m\",mathRep=\"$$y_{2,Q_{out}}$$\")\n",
    "\n",
    "outZ1,outZ2 = pm.Real(tag=\"<outZ1>\",value=LZ.value/2.   ,units=\"m\",mathRep=\"$$z_{1,Q_{out}}$$\"),\\\n",
    "              pm.Real(tag=\"<outZ2>\",value=LZ.value - 1.0,units=\"m\",mathRep=\"$$z_{2,Q_{out}}$$\")\n",
    "\n",
    "## Extraction rate\n",
    "Qout = pm.Real(tag=\"<outRate>\",value=-21.0,units=\"m³/d\",mathRep=\"$$Q_{out}$$\")"
   ]
  },
  {
   "cell_type": "code",
   "execution_count": 8,
   "metadata": {},
   "outputs": [],
   "source": [
    "setbackDist = 40.\n",
    "\n",
    "## Injection point\n",
    "inX1,inX2 = pm.Real(tag=\"<inX1>\",value=outX1.value + setbackDist,units=\"m\",mathRep=\"$$x_{1,Q_{in}}$$\"),\\\n",
    "            pm.Real(tag=\"<inX2>\",value=outX2.value + setbackDist,units=\"m\",mathRep=\"$$x_{2,Q_{in}}$$\")\n",
    "\n",
    "inY1,inY2 = pm.Real(tag=\"<inY1>\",value=outY1.value + 0.0,units=\"m\",mathRep=\"$$y_{1,Q_{in}}$$\"),\\\n",
    "            pm.Real(tag=\"<inY2>\",value=outY2.value + 0.0,units=\"m\",mathRep=\"$$y_{2,Q_{in}}$$\")\n",
    "\n",
    "inZ1,inZ2 = pm.Real(tag=\"<inZ1>\",value=LZ.value - 5.0,units=\"m\",mathRep=\"$$z_{1,Q_{in}}$$\"),\\\n",
    "            pm.Real(tag=\"<inZ2>\",value=LZ.value - 1.0,units=\"m\",mathRep=\"$$z_{2,Q_{in}}$$\")"
   ]
  },
  {
   "cell_type": "code",
   "execution_count": 9,
   "metadata": {},
   "outputs": [],
   "source": [
    "## Concentration\n",
    "C0 = pm.Real(\"<initialConcentration>\", value=1.0, units=\"mol/L\")\n",
    "\n",
    "## Injection rate\n",
    "Qin = pm.Real(tag=\"<inRate>\",value=0.24, units=\"m³/d\",mathRep=\"$$Q_{in}$$\")"
   ]
  },
  {
   "cell_type": "code",
   "execution_count": 10,
   "metadata": {},
   "outputs": [
    {
     "ename": "ZeroDivisionError",
     "evalue": "division by zero",
     "output_type": "error",
     "traceback": [
      "\u001b[0;31m---------------------------------------------------------------------------\u001b[0m",
      "\u001b[0;31mZeroDivisionError\u001b[0m                         Traceback (most recent call last)",
      "\u001b[0;32m<ipython-input-10-2c2857fe093f>\u001b[0m in \u001b[0;36m<module>\u001b[0;34m\u001b[0m\n\u001b[1;32m     13\u001b[0m \u001b[0mdX\u001b[0m\u001b[0;34m.\u001b[0m\u001b[0mvalue\u001b[0m \u001b[0;34m=\u001b[0m \u001b[0mmo\u001b[0m\u001b[0;34m.\u001b[0m\u001b[0mbuildDXYZ\u001b[0m\u001b[0;34m(\u001b[0m\u001b[0mLX\u001b[0m\u001b[0;34m.\u001b[0m\u001b[0mvalue\u001b[0m\u001b[0;34m,\u001b[0m\u001b[0mCellRatio\u001b[0m\u001b[0;34m[\u001b[0m\u001b[0;34m'X'\u001b[0m\u001b[0;34m]\u001b[0m\u001b[0;34m,\u001b[0m\u001b[0mnX\u001b[0m\u001b[0;34m.\u001b[0m\u001b[0mvalue\u001b[0m\u001b[0;34m,\u001b[0m\u001b[0mhasBump\u001b[0m\u001b[0;34m=\u001b[0m\u001b[0;32mTrue\u001b[0m\u001b[0;34m)\u001b[0m\u001b[0;34m\u001b[0m\u001b[0;34m\u001b[0m\u001b[0m\n\u001b[1;32m     14\u001b[0m \u001b[0mdY\u001b[0m\u001b[0;34m.\u001b[0m\u001b[0mvalue\u001b[0m \u001b[0;34m=\u001b[0m \u001b[0mmo\u001b[0m\u001b[0;34m.\u001b[0m\u001b[0mbuildDXYZ\u001b[0m\u001b[0;34m(\u001b[0m\u001b[0mLY\u001b[0m\u001b[0;34m.\u001b[0m\u001b[0mvalue\u001b[0m\u001b[0;34m,\u001b[0m\u001b[0mCellRatio\u001b[0m\u001b[0;34m[\u001b[0m\u001b[0;34m'Y'\u001b[0m\u001b[0;34m]\u001b[0m\u001b[0;34m,\u001b[0m\u001b[0mnY\u001b[0m\u001b[0;34m.\u001b[0m\u001b[0mvalue\u001b[0m\u001b[0;34m,\u001b[0m\u001b[0mhasBump\u001b[0m\u001b[0;34m=\u001b[0m\u001b[0;32mTrue\u001b[0m\u001b[0;34m)\u001b[0m\u001b[0;34m\u001b[0m\u001b[0;34m\u001b[0m\u001b[0m\n\u001b[0;32m---> 15\u001b[0;31m \u001b[0mdZ\u001b[0m\u001b[0;34m.\u001b[0m\u001b[0mvalue\u001b[0m \u001b[0;34m=\u001b[0m \u001b[0mmo\u001b[0m\u001b[0;34m.\u001b[0m\u001b[0mbuildDXYZ\u001b[0m\u001b[0;34m(\u001b[0m\u001b[0mLZ\u001b[0m\u001b[0;34m.\u001b[0m\u001b[0mvalue\u001b[0m\u001b[0;34m,\u001b[0m\u001b[0mCellRatio\u001b[0m\u001b[0;34m[\u001b[0m\u001b[0;34m'Z'\u001b[0m\u001b[0;34m]\u001b[0m\u001b[0;34m,\u001b[0m\u001b[0mnZ\u001b[0m\u001b[0;34m.\u001b[0m\u001b[0mvalue\u001b[0m\u001b[0;34m,\u001b[0m\u001b[0mhasBump\u001b[0m\u001b[0;34m=\u001b[0m\u001b[0;32mFalse\u001b[0m\u001b[0;34m)\u001b[0m\u001b[0;34m\u001b[0m\u001b[0;34m\u001b[0m\u001b[0m\n\u001b[0m",
      "\u001b[0;32m~/VirusPFLOTRAN/bioparticle/src/jupypft/jupypft/model.py\u001b[0m in \u001b[0;36mbuildDXYZ\u001b[0;34m(lenght, growRatio, numberOfElements, hasBump)\u001b[0m\n\u001b[1;32m    341\u001b[0m \u001b[0;34m\u001b[0m\u001b[0m\n\u001b[1;32m    342\u001b[0m     \u001b[0;31m# Cell-to-cell ratio (K)\u001b[0m\u001b[0;34m\u001b[0m\u001b[0;34m\u001b[0m\u001b[0;34m\u001b[0m\u001b[0m\n\u001b[0;32m--> 343\u001b[0;31m     \u001b[0mK\u001b[0m \u001b[0;34m=\u001b[0m \u001b[0mnp\u001b[0m\u001b[0;34m.\u001b[0m\u001b[0mabs\u001b[0m\u001b[0;34m(\u001b[0m\u001b[0mgrowRatio\u001b[0m\u001b[0;34m)\u001b[0m\u001b[0;34m**\u001b[0m\u001b[0;34m(\u001b[0m\u001b[0;36m1\u001b[0m\u001b[0;34m/\u001b[0m\u001b[0;34m(\u001b[0m\u001b[0mnumberOfElements\u001b[0m\u001b[0;34m-\u001b[0m\u001b[0;36m1\u001b[0m\u001b[0;34m)\u001b[0m\u001b[0;34m)\u001b[0m\u001b[0;34m\u001b[0m\u001b[0;34m\u001b[0m\u001b[0m\n\u001b[0m\u001b[1;32m    344\u001b[0m     \u001b[0mlistIntegers\u001b[0m \u001b[0;34m=\u001b[0m \u001b[0mlist\u001b[0m\u001b[0;34m(\u001b[0m\u001b[0mrange\u001b[0m\u001b[0;34m(\u001b[0m\u001b[0mnumberOfElements\u001b[0m\u001b[0;34m)\u001b[0m\u001b[0;34m)\u001b[0m\u001b[0;34m\u001b[0m\u001b[0;34m\u001b[0m\u001b[0m\n\u001b[1;32m    345\u001b[0m     \u001b[0mKPow\u001b[0m \u001b[0;34m=\u001b[0m \u001b[0;34m[\u001b[0m\u001b[0mK\u001b[0m\u001b[0;34m**\u001b[0m\u001b[0mi\u001b[0m \u001b[0;32mfor\u001b[0m \u001b[0mi\u001b[0m \u001b[0;32min\u001b[0m \u001b[0mlistIntegers\u001b[0m\u001b[0;34m]\u001b[0m\u001b[0;34m\u001b[0m\u001b[0;34m\u001b[0m\u001b[0m\n",
      "\u001b[0;31mZeroDivisionError\u001b[0m: division by zero"
     ]
    }
   ],
   "source": [
    "## Grid\n",
    "nX,nY,nZ = pm.Integer(\"<nX>\",value=41,units=\"-\",mathRep=\"$$nX$$\"),\\\n",
    "           pm.Integer(\"<nY>\",value=21 ,units=\"-\",mathRep=\"$$nY$$\"),\\\n",
    "           pm.Integer(\"<nZ>\",value=1,units=\"-\",mathRep=\"$$nZ$$\")\n",
    "\n",
    "dX,dY,dZ = pm.JustText(\"<dX>\"),\\\n",
    "           pm.JustText(\"<dY>\"),\\\n",
    "           pm.JustText(\"<dZ>\")\n",
    "\n",
    "CellRatio = { 'X' : 2.0, 'Y' : 2.0, 'Z' : 0.75 }\n",
    "#CellRatio = { 'X' : 1.00, 'Y' : 0.50, 'Z' : 0.75 }\n",
    "\n",
    "dX.value = mo.buildDXYZ(LX.value,CellRatio['X'],nX.value,hasBump=True)\n",
    "dY.value = mo.buildDXYZ(LY.value,CellRatio['Y'],nY.value,hasBump=True)\n",
    "\n",
    "if nZ == 1:\n",
    "    dZ.value = LZ.value\n",
    "else:\n",
    "    dZ.value = mo.buildDXYZ(LZ.value,CellRatio['Z'],nZ.value,hasBump=False)"
   ]
  },
  {
   "cell_type": "code",
   "execution_count": null,
   "metadata": {},
   "outputs": [],
   "source": [
    "# Time config\n",
    "endTime = pm.Real(\"<endTime>\",value=100.,units=\"d\")"
   ]
  },
  {
   "cell_type": "code",
   "execution_count": null,
   "metadata": {},
   "outputs": [],
   "source": [
    "## Bioparticle\n",
    "kAtt,kDet = pm.Real(tag=\"<katt>\",value=1.0E-30,units=\"1/s\",mathRep=\"$$k_{att}$$\"),\\\n",
    "            pm.Real(tag=\"<kdet>\",value=1.0E-30,units=\"1/s\",mathRep=\"$$k_{det}$$\")\n",
    "\n",
    "decayAq,decayIm = pm.Real(tag=\"<decayAq>\",value=1.0E-30,units=\"1/s\",mathRep=\"$$\\lambda_{aq}$$\"),\\\n",
    "                  pm.Real(tag=\"<decayIm>\",value=1.0E-30,units=\"1/s\",mathRep=\"$$\\lambda_{im}$$\")"
   ]
  },
  {
   "cell_type": "code",
   "execution_count": null,
   "metadata": {},
   "outputs": [],
   "source": [
    "caseDict = {\n",
    "    \"Temp\":{\n",
    "        \"Reference\" : Ref,\n",
    "        \"Atmosphere\": Atm,\n",
    "        \"Injection\" : Tin },\n",
    "   \"longDisp\":LongDisp,\n",
    "   \"Gradient\":{\n",
    "       \"X\" :GX,\n",
    "       \"Y\" :GY,\n",
    "       \"Z\" :GZ },\n",
    "   \"L\":{\n",
    "       \"X\" :LX,\n",
    "       \"Y\" :LY,\n",
    "       \"Z\" :LZ },\n",
    "   \"k\":{\n",
    "       \"X\" :kX,\n",
    "       \"Y\" :kY,\n",
    "       \"Z\" :kZ },\n",
    "   \"theta\":theta,\n",
    "   \"outCoord\":{\n",
    "       \"X\" : { 1 : outX1,\n",
    "               2 : outX2},\n",
    "       \"Y\" : { 1 : outY1,\n",
    "               2 : outY2},\n",
    "       \"Z\" : { 1 : outZ1,\n",
    "               2 : outZ2}},\n",
    "   \"inCoord\":{\n",
    "       \"X\" : { 1 : inX1,\n",
    "               2 : inX2},\n",
    "       \"Y\" : { 1 : inY1,\n",
    "               2 : inY2},\n",
    "       \"Z\" : { 1 : inZ1,\n",
    "               2 : inZ2}},\n",
    "    \"C0\":C0,\n",
    "    \"Q\":{\"In\":Qin,\n",
    "         \"Out\":Qout},\n",
    "    \"nGrid\":{\"X\":nX,\n",
    "             \"Y\":nY,\n",
    "             \"Z\":nZ},\n",
    "    \"dGrid\":{\"X\":dX,\n",
    "             \"Y\":dY,\n",
    "             \"Z\":dZ},\n",
    "    \"endTime\":endTime,\n",
    "    \"BIOPARTICLE\":{\n",
    "        \"katt\" : kAtt,\n",
    "        \"kdet\" : kDet,\n",
    "        \"decayAq\" : decayAq,\n",
    "        \"decayIm\" : decayIm}\n",
    "           }"
   ]
  },
  {
   "cell_type": "code",
   "execution_count": null,
   "metadata": {},
   "outputs": [],
   "source": [
    "import pickle\n",
    "\n",
    "with open('caseDict.pkl', 'wb') as f:\n",
    "    pickle.dump(caseDict,f)"
   ]
  }
 ],
 "metadata": {
  "kernelspec": {
   "display_name": "Python 3",
   "language": "python",
   "name": "python3"
  },
  "language_info": {
   "codemirror_mode": {
    "name": "ipython",
    "version": 3
   },
   "file_extension": ".py",
   "mimetype": "text/x-python",
   "name": "python",
   "nbconvert_exporter": "python",
   "pygments_lexer": "ipython3",
   "version": "3.8.5"
  }
 },
 "nbformat": 4,
 "nbformat_minor": 4
}
