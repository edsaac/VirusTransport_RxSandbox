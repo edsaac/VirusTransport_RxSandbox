{
 "cells": [
  {
   "cell_type": "code",
   "execution_count": 1,
   "metadata": {},
   "outputs": [],
   "source": [
    "%reset -f\n",
    "\n",
    "import numpy as np\n",
    "import matplotlib.pyplot as plt\n",
    "from os import system\n",
    "\n",
    "## Widgets\n",
    "from ipywidgets import interact_manual, interactive_output\n",
    "import ipywidgets as wd\n",
    "\n",
    "## Visualization\n",
    "from IPython.display import display, clear_output, Pretty\n",
    "\n",
    "## PFLOTRAN\n",
    "import jupypft.model as mo\n",
    "import jupypft.parameter as pm\n",
    "import jupypft.attachmentRateCFT as arCFT\n",
    "import jupypft.plotBTC as plotBTC"
   ]
  },
  {
   "cell_type": "markdown",
   "metadata": {},
   "source": [
    "# 2. Exponential Decay based on temperature"
   ]
  },
  {
   "cell_type": "code",
   "execution_count": 2,
   "metadata": {},
   "outputs": [],
   "source": [
    "def getTemplate(key):\n",
    "    templateFiles = {\"TH_RSandbox_Model\":\"tpl_TH_3Dbox_bioparticleTModel_2closedBounds.in\",\\\n",
    "                 \"TH_RSandbox_Const\":\"tpl_TH_3Dbox_bioparticleKte_2closedBounds.in\",\\\n",
    "                 \"TH_RDecay\":\"tpl_TH_3Dbox_radioactiveDecay_2closedBounds.in\",\\\n",
    "                 \"Richards_RDecay\":\"tpl_TH_3Dbox_radioactiveDecay_2closedBounds.in\",\\\n",
    "                 \"Richards\":\"tpl_Richards_3Dbox_conservative_2closedBounds.in\",\\\n",
    "                 \"TH_RSandbox_Model_lineSource\":\"tpl_TH_3Dbox_bioparticleTModel_open_lineSource.in\"}\n",
    "\n",
    "    templateFolder = \"../TEMPLATES/boxes_3D/\"\n",
    "    return templateFolder + templateFiles[key]\n",
    "    \n",
    "templateFile = getTemplate('TH_RSandbox_Const')\n",
    "execPath = \"$PFLOTRAN_DIR/buildExperimental/pflotran\""
   ]
  },
  {
   "cell_type": "code",
   "execution_count": 3,
   "metadata": {},
   "outputs": [],
   "source": [
    "## Ref. Stuff\n",
    "RefTemp   = pm.Real(tag=\"<initialTemp>\",value=10.,units=\"C\",mathRep=\"$$T_{0}$$\")\n",
    "AtmTemp   = pm.Real(tag=\"<atmosphereTemp>\",value=RefTemp.value,units=\"C\",mathRep=\"$$T_{atm}$$\")\n",
    "LongDisp  = pm.Real(tag=\"<longDisp>\",value=0.0,units=\"m\",mathRep=\"$$\\\\alpha_L$$\")\n",
    "\n",
    "GradientX,GradientY = pm.Real(tag=\"<GradientX>\",value=0.,units=\"-\",mathRep=\"$$\\partial_x h$$\"),\\\n",
    "                      pm.Real(tag=\"<GradientY>\",value=0.,units=\"-\",mathRep=\"$$\\partial_y h$$\")"
   ]
  },
  {
   "cell_type": "code",
   "execution_count": 4,
   "metadata": {},
   "outputs": [],
   "source": [
    "## Dimensions\n",
    "LX,LY,LZ = pm.Real(\"<LenX>\",value=200,units=\"m\",mathRep=\"$$LX$$\"),\\\n",
    "           pm.Real(\"<LenY>\",value=100,units=\"m\",mathRep=\"$$LY$$\"),\\\n",
    "           pm.Real(\"<LenZ>\",value=20,units=\"m\",mathRep=\"$$LZ$$\")"
   ]
  },
  {
   "cell_type": "code",
   "execution_count": 5,
   "metadata": {},
   "outputs": [],
   "source": [
    "## Permeability\n",
    "kX,kY,kZ = pm.Real(tag=\"<PermX>\",value=1.0E-8,units=\"m²\",mathRep=\"$$k_{xx}$$\"),\\\n",
    "           pm.Real(tag=\"<PermY>\",value=1.0E-8,units=\"m²\",mathRep=\"$$k_{yy}$$\"),\\\n",
    "           pm.Real(tag=\"<PermZ>\",value=1.0E-8,units=\"m²\",mathRep=\"$$k_{zz}$$\")\n",
    "\n",
    "theta = pm.Real(tag=\"<porosity>\",value=0.35,units=\"adim\",mathRep=\"$$\\\\theta$$\")"
   ]
  },
  {
   "cell_type": "code",
   "execution_count": 6,
   "metadata": {},
   "outputs": [],
   "source": [
    "## Extraction well\n",
    "outX,outY = pm.Real(tag=\"<outX>\",value=LX.value/2.,units=\"m\",mathRep=\"$$x_{Q_{out}}$$\"),\\\n",
    "            pm.Real(tag=\"<outY>\",value=LY.value/2.,units=\"m\",mathRep=\"$$y_{Q_{out}}$$\"),\\\n",
    "\n",
    "\n",
    "outZ1,outZ2 = pm.Real(tag=\"<outZ1>\",units=\"m\",mathRep=\"$$z_{1,Q_{out}}$$\"),\\\n",
    "              pm.Real(tag=\"<outZ2>\",units=\"m\",mathRep=\"$$z_{2,Q_{out}}$$\")\n",
    "\n",
    "### Top half of the well is open\n",
    "outZ1.value = LZ.value/2.0\n",
    "outZ2.value = LZ.value - 1.0\n",
    "\n",
    "## Extraction rate\n",
    "Qout = pm.Real(tag=\"<outRate>\",value=-21.0,units=\"m³/d\",mathRep=\"$$Q_{out}$$\")"
   ]
  },
  {
   "cell_type": "code",
   "execution_count": 7,
   "metadata": {},
   "outputs": [],
   "source": [
    "setbackDist = 40.\n",
    "\n",
    "## Injection point\n",
    "inX = pm.Real(tag=\"<inX>\",value=outX.value + setbackDist,units=\"m\",mathRep=\"$$x_{Q_{in}}$$\")\n",
    "\n",
    "inY,inY1,inY2 = pm.Real(tag=\"<inY>\",value=outY.value,units=\"m\",mathRep=\"$$x_{Q_{in}}$$\"),\\\n",
    "                pm.Real(tag=\"<inY1>\",value=0.0,units=\"m\",mathRep=\"$$x_{Q_{in}}$$\"),\\\n",
    "                pm.Real(tag=\"<inY2>\",value=LY.value,units=\"m\",mathRep=\"$$y_{Q_{in}}$$\")\n",
    "\n",
    "inZ1,inZ2 = pm.Real(tag=\"<inZ1>\",value=LZ.value - 5.0,units=\"m\",mathRep=\"$$z_{1,Q_{in}}$$\"),\\\n",
    "            pm.Real(tag=\"<inZ2>\",value=LZ.value - 1.0,units=\"m\",mathRep=\"$$z_{2,Q_{in}}$$\")\n",
    "\n",
    "## Concentration\n",
    "C0 = pm.Real(\"<initialConcentration>\", value=1.0, units=\"mol/L\")\n",
    "\n",
    "## Injection rate\n",
    "Qin = pm.Real(tag=\"<inRate>\",value=0.24, units=\"m³/d\",mathRep=\"$$Q_{in}$$\")\n",
    "\n",
    "## Temperature \n",
    "Tin = pm.Real(tag=\"<leakageTemp>\",value=10., units=\"m³/d\",mathRep=\"$$T_{in}$$\")"
   ]
  },
  {
   "cell_type": "code",
   "execution_count": 8,
   "metadata": {},
   "outputs": [],
   "source": [
    "## Adsorption\n",
    "kAtt,kDet = pm.Real(tag=\"<katt>\",value=1.0E-30,units=\"1/s\",mathRep=\"$$k_{att}$$\"),\\\n",
    "            pm.Real(tag=\"<kdet>\",value=1.0E-30,units=\"1/s\",mathRep=\"$$k_{det}$$\")\n",
    "\n",
    "decayAq,decayIm = pm.Real(tag=\"<decayAq>\",value=1.0E-30,units=\"1/s\",mathRep=\"$$\\lambda_{aq}$$\"),\\\n",
    "                  pm.Real(tag=\"<decayIm>\",value=1.0E-30,units=\"1/s\",mathRep=\"$$\\lambda_{im}$$\")"
   ]
  },
  {
   "cell_type": "code",
   "execution_count": 9,
   "metadata": {},
   "outputs": [],
   "source": [
    "## Grid\n",
    "nX,nY,nZ = pm.Integer(\"<nX>\",value=21,units=\"-\",mathRep=\"$$nX$$\"),\\\n",
    "           pm.Integer(\"<nY>\",value=9 ,units=\"-\",mathRep=\"$$nY$$\"),\\\n",
    "           pm.Integer(\"<nZ>\",value=11,units=\"-\",mathRep=\"$$nZ$$\")\n",
    "\n",
    "dX,dY,dZ = pm.JustText(\"<dX>\"),\\\n",
    "           pm.JustText(\"<dY>\"),\\\n",
    "           pm.JustText(\"<dZ>\")\n",
    "\n",
    "CellRatio = { 'X' : 2.0, 'Y' : 2.0, 'Z' : 0.75 }\n",
    "#CellRatio = { 'X' : 1.00, 'Y' : 0.50, 'Z' : 0.75 }"
   ]
  },
  {
   "cell_type": "code",
   "execution_count": 10,
   "metadata": {},
   "outputs": [],
   "source": [
    "dX.value = mo.buildDXYZ(LX.value,CellRatio['X'],nX.value,hasBump=True)\n",
    "dY.value = mo.buildDXYZ(LY.value,CellRatio['Y'],nY.value,hasBump=True)\n",
    "dZ.value = mo.buildDXYZ(LZ.value,CellRatio['Z'],nZ.value,hasBump=False)"
   ]
  },
  {
   "cell_type": "code",
   "execution_count": 11,
   "metadata": {},
   "outputs": [],
   "source": [
    "# Time config\n",
    "endTime = pm.Real(\"<endTime>\",value=100.,units=\"d\")"
   ]
  },
  {
   "cell_type": "code",
   "execution_count": 12,
   "metadata": {},
   "outputs": [],
   "source": [
    "listOfAllParameters = pm.Parameter.list_of_vars()"
   ]
  },
  {
   "cell_type": "code",
   "execution_count": 13,
   "metadata": {},
   "outputs": [
    {
     "data": {
      "text/plain": [
       "0"
      ]
     },
     "execution_count": 13,
     "metadata": {},
     "output_type": "execute_result"
    }
   ],
   "source": [
    "listOfAllModels = mo.Model.list_of_models()\n",
    "system(\"rm -rf CASE*\")"
   ]
  },
  {
   "cell_type": "code",
   "execution_count": 14,
   "metadata": {},
   "outputs": [],
   "source": [
    "def buildSim(caseName):\n",
    "    \n",
    "    ## Create a folder for the case\n",
    "    currentFolder = \"./CASE_{0}\".format(caseName)\n",
    "    currentFile = currentFolder + \"/\" + caseName +\".in\"\n",
    "    system(\"mkdir \" + currentFolder)\n",
    "    \n",
    "    ## Initialize PFLOTRAN model\n",
    "    BoxModel = mo.Model(\n",
    "        templateFile = templateFile,\n",
    "        runFile = currentFile,\n",
    "        execPath = execPath,\n",
    "        verbose=True\n",
    "        )\n",
    "       \n",
    "    ## Copy template input file to folder\n",
    "    BoxModel.cloneTemplate()\n",
    "    \n",
    "    ## Replace tags for values in case\n",
    "    for parameter in listOfAllParameters:\n",
    "        BoxModel.replaceTagInFile(parameter)\n",
    "\n",
    "    return BoxModel"
   ]
  },
  {
   "cell_type": "markdown",
   "metadata": {},
   "source": [
    "\n",
    "## 1.1 Adding a decay rate"
   ]
  },
  {
   "cell_type": "raw",
   "metadata": {},
   "source": [
    "## Build escenarios\n",
    "\n",
    "### Using no decay\n",
    "templateFile = getTemplate('TH_RDecay')\n",
    "decayAq.value = 0.0\n",
    "buildSim(\"Conservative\")\n",
    "\n",
    "### Using bioparticle sandbox - TH\n",
    "templateFile = getTemplate('TH_RSandbox_Const')\n",
    "decayAq.value = 3.5353E-06\n",
    "buildSim(\"ConstantDecay\")\n",
    "\n",
    "### Using bioparticle sandbox - TH\n",
    "templateFile = getTemplate('TH_RSandbox_Model')\n",
    "decayAq.value = 0.0\n",
    "RefTemp.value,AtmTemp.value,Tin.value = 10.,10.,10.\n",
    "buildSim(\"TemperatureModel\")\n",
    "\n",
    "mo.Model.runAllModels(nProcs=6)\n",
    "legendTitle = \"Decay rates $\\lambda$  [1/s]\""
   ]
  },
  {
   "cell_type": "markdown",
   "metadata": {},
   "source": [
    "\n",
    "## 1.2 Varying the system temperature"
   ]
  },
  {
   "cell_type": "raw",
   "metadata": {},
   "source": [
    "GradientX.value = 5.0E-5\n",
    "\n",
    "## Build escenarios\n",
    "\n",
    "templateFile = getTemplate('TH_RSandbox_Cornst')\n",
    "RefTemp.value,AtmTemp.value,Tin.value = 10.,10.,10.\n",
    "decayAq.value = 0.0\n",
    "buildSim(\"Conservative\")\n",
    "\n",
    "templateFile = getTemplate('TH_RSandbox_Model')\n",
    "RefTemp.value,AtmTemp.value,Tin.value = 4.,4.,4.\n",
    "buildSim(\"4C\")\n",
    "\n",
    "templateFile = getTemplate('TH_RSandbox_Model')\n",
    "RefTemp.value,AtmTemp.value,Tin.value = 10.,10.,10.\n",
    "buildSim(\"10C\")\n",
    "\n",
    "templateFile = getTemplate('TH_RSandbox_Model')\n",
    "decayAq.value = 0.0\n",
    "RefTemp.value,AtmTemp.value,Tin.value = 15.,15.,15.\n",
    "buildSim(\"15C\")\n",
    "\n",
    "mo.Model.runAllModels(nProcs=6)\n",
    "legendTitle = \"Varying Temperature $T$  [°C]\""
   ]
  },
  {
   "cell_type": "markdown",
   "metadata": {},
   "source": [
    "\n",
    "## 1.3 Varying temperature of injection water"
   ]
  },
  {
   "cell_type": "raw",
   "metadata": {},
   "source": [
    "## Build escenarios\n",
    "GradientX.value = 5.0E-4\n",
    "endTime.value = 50\n",
    "\n",
    "RefTemp.value,AtmTemp.value,Tin.value = 10.,10.,10.\n",
    "templateFile = getTemplate('TH_RSandbox_Model')\n",
    "\n",
    "Tin.value = 4.\n",
    "buildSim(\"Tin4C\")\n",
    "\n",
    "Tin.value = 10.\n",
    "buildSim(\"Tin10C\")\n",
    "\n",
    "Tin.value = 25.\n",
    "buildSim(\"Tin25C\")\n",
    "\n",
    "mo.Model.runAllModels(nProcs=6)\n",
    "legendTitle = \"Varying Injection Temp. $T_{in}$  [°C]\""
   ]
  },
  {
   "cell_type": "markdown",
   "metadata": {},
   "source": [
    "\n",
    "## 1.3 Revisiting water table gradient"
   ]
  },
  {
   "cell_type": "raw",
   "metadata": {},
   "source": [
    "## Build escenarios\n",
    "GradientX.value = 5.0E-4\n",
    "RefTemp.value,AtmTemp.value,Tin.value = 10.,10.,10.\n",
    "endTime.value = 50\n",
    "\n",
    "templateFile = getTemplate('TH_RSandbox_Model')\n",
    "\n",
    "GradientX.value = 1E-2\n",
    "buildSim(\"1E-2\")\n",
    "\n",
    "GradientX.value = 1E-3\n",
    "buildSim(\"1E-3\")\n",
    "\n",
    "GradientX.value = 1E-4\n",
    "buildSim(\"1E-4\")\n",
    "\n",
    "GradientX.value = 1E-5\n",
    "buildSim(\"1E-5\")\n",
    "\n",
    "GradientX.value = 0\n",
    "buildSim(\"0\")\n",
    "\n",
    "\n",
    "mo.Model.runAllModels(nProcs=6)\n",
    "legendTitle = \"Varying Gradient $dh/dx$  [m/m]\""
   ]
  },
  {
   "cell_type": "markdown",
   "metadata": {},
   "source": [
    "### Narrow down the worst gradient"
   ]
  },
  {
   "cell_type": "raw",
   "metadata": {},
   "source": [
    "## Build escenarios\n",
    "RefTemp.value,AtmTemp.value,Tin.value = 10.,10.,10.\n",
    "endTime.value = 50\n",
    "\n",
    "templateFile = getTemplate('TH_RSandbox_Model')\n",
    "\n",
    "GradientX.value = 1.0E-2\n",
    "buildSim(\"0.01\")\n",
    "\n",
    "GradientX.value = 5.0E-3\n",
    "buildSim(\"0.005\")\n",
    "\n",
    "GradientX.value = 1.0E-3\n",
    "buildSim(\"0.001\")\n",
    "\n",
    "GradientX.value = 5.0E-4\n",
    "buildSim(\"0.0005\")\n",
    "\n",
    "GradientX.value = 1.0E-4\n",
    "buildSim(\"0.0001\")\n",
    "\n",
    "mo.Model.runAllModels(nProcs=6)\n",
    "legendTitle = \"Varying Gradient $dh/dx$  [m/m]\""
   ]
  },
  {
   "cell_type": "markdown",
   "metadata": {},
   "source": [
    "## 1.4 Varying permeability"
   ]
  },
  {
   "cell_type": "raw",
   "metadata": {},
   "source": [
    "## Build escenarios\n",
    "GradientX.value = 1.0E-3\n",
    "RefTemp.value,AtmTemp.value,Tin.value = 10.,10.,10.\n",
    "endTime.value = 50\n",
    "\n",
    "templateFile = getTemplate('TH_RSandbox_Model')\n",
    "\n",
    "kX.value,kY.value,kZ.value = 1.0E-8,1E-8,1E-8\n",
    "buildSim(\"Iso_Gravel_1E-8\")\n",
    "\n",
    "kX.value,kY.value,kZ.value = 1.0E-9,1E-9,1E-9\n",
    "buildSim(\"Iso_CoarseSand_1E-9\")\n",
    "\n",
    "kX.value,kY.value,kZ.value = 1.0E-10,1E-10,1E-10\n",
    "buildSim(\"Iso_Sand_1E-10\")\n",
    "\n",
    "kX.value,kY.value,kZ.value = 1.0E-8,1E-8,1E-9\n",
    "buildSim(\"Aniso_Gravel_1E-8\")\n",
    "\n",
    "kX.value,kY.value,kZ.value = 1.0E-9,1E-9,1E-10\n",
    "buildSim(\"Aniso_CoarseSand_1E-9\")\n",
    "\n",
    "kX.value,kY.value,kZ.value = 1.0E-10,1E-10,1E-11\n",
    "buildSim(\"Aniso_Sand_1E-10\")\n",
    "\n",
    "mo.Model.runAllModels(nProcs=6)\n",
    "legendTitle = \"Varying permeability $k_{xyz}$  [m²]\""
   ]
  },
  {
   "cell_type": "markdown",
   "metadata": {},
   "source": [
    "## 1.5 Varying longitudinal dispersivity"
   ]
  },
  {
   "cell_type": "raw",
   "metadata": {},
   "source": [
    "## Build escenarios\n",
    "GradientX.value = 1.0E-3\n",
    "RefTemp.value,AtmTemp.value,Tin.value = 10.,10.,10.\n",
    "endTime.value = 50\n",
    "\n",
    "templateFile = getTemplate('TH_RSandbox_Model')\n",
    "\n",
    "LongDisp.value = 0.0\n",
    "buildSim(\"αL_0.00\")\n",
    "\n",
    "LongDisp.value = 2E-1\n",
    "buildSim(\"αL_2E-1\")\n",
    "\n",
    "LongDisp.value = 2E-2\n",
    "buildSim(\"αL_2E-2\")\n",
    "\n",
    "LongDisp.value = 2E-3\n",
    "buildSim(\"αL_2E-3\")\n",
    "\n",
    "LongDisp.value = 2E-4\n",
    "buildSim(\"αL_2E-4\")\n",
    "\n",
    "mo.Model.runAllModels(nProcs=6)\n",
    "legendTitle = \"Long. dispersivity $\\\\alpha_{L}$  [m]\""
   ]
  },
  {
   "cell_type": "markdown",
   "metadata": {},
   "source": [
    "## 1.6 LineSource v. Point Source\n",
    "### 1.6.1 When the well is perfectly aligned with the water table gradient"
   ]
  },
  {
   "cell_type": "raw",
   "metadata": {},
   "source": [
    "## Build escenarios\n",
    "GradientX.value = 1.0E-3\n",
    "RefTemp.value,AtmTemp.value,Tin.value = 10.,10.,10.\n",
    "endTime.value = 50\n",
    "\n",
    "templateFile = getTemplate('TH_RSandbox_Model')\n",
    "buildSim(\"Point_Source\")\n",
    "\n",
    "templateFile = getTemplate('TH_RSandbox_Model_lineSource')\n",
    "buildSim(\"Line_Source\")\n",
    "\n",
    "mo.Model.runAllModels(nProcs=6)\n",
    "legendTitle = \"Injection rate $Q_{in} = {0.24}$  [m³/d]\""
   ]
  },
  {
   "cell_type": "markdown",
   "metadata": {},
   "source": [
    "### 1.6.2 With a gradient in Y direction"
   ]
  },
  {
   "cell_type": "code",
   "execution_count": 15,
   "metadata": {},
   "outputs": [],
   "source": [
    "## Build escenarios\n",
    "GradientX.value = 1.0E-3\n",
    "RefTemp.value,AtmTemp.value,Tin.value = 10.,10.,10.\n",
    "templateFile = getTemplate('TH_RSandbox_Model_lineSource')\n",
    "endTime.value = 50\n",
    "\n",
    "GradientY.value = 1.0E-3\n",
    "templateFile = getTemplate('TH_RSandbox_Model')\n",
    "buildSim(\"Point_Source\")\n",
    "\n",
    "\n",
    "buildSim(\"Line_Source\")\n",
    "\n",
    "mo.Model.runAllModels(nProcs=6)\n",
    "legendTitle = \"With a perpendicular gradient $\\partial_yh$  [-]\""
   ]
  },
  {
   "cell_type": "markdown",
   "metadata": {},
   "source": [
    "\n",
    "# Plot results"
   ]
  },
  {
   "cell_type": "code",
   "execution_count": 16,
   "metadata": {},
   "outputs": [],
   "source": [
    "system(\"rm -rf MASSBALANCES; mkdir MASSBALANCES\")\n",
    "system(\"cp ./CASE**/*-mas.dat ./MASSBALANCES\")\n",
    "mo.Model.folderFixedToCSV(\"MASSBALANCES\")"
   ]
  },
  {
   "cell_type": "code",
   "execution_count": 17,
   "metadata": {
    "scrolled": false
   },
   "outputs": [
    {
     "data": {
      "image/png": "[encoded data removed]",
      "text/plain": [
       "<Figure size 432x360 with 1 Axes>"
      ]
     },
     "metadata": {},
     "output_type": "display_data"
    }
   ],
   "source": [
    "waterDensity = 999.65\n",
    "m3ToL = 1000.\n",
    "\n",
    "plotBTC.plotMassBalancesInFolder(\n",
    "    folderToPlot=\"MASSBALANCES\",\n",
    "    indices = {'t':\"Time [d]\",\\\n",
    "               'q':\"ExtractWell Water Mass [kg/d]\",\\\n",
    "               'm':\"ExtractWell Vaq [mol/d]\"},\n",
    "    normalizeWith={'t':1.0,'q':waterDensity/m3ToL,'m':1.0},\n",
    "    legendTitle = legendTitle)"
   ]
  },
  {
   "cell_type": "code",
   "execution_count": 18,
   "metadata": {},
   "outputs": [
    {
     "data": {
      "text/plain": [
       "'HOLI HELLO'"
      ]
     },
     "execution_count": 18,
     "metadata": {},
     "output_type": "execute_result"
    }
   ],
   "source": [
    "\"HOLI_HELLO\".replace(\"_\",\" \")"
   ]
  },
  {
   "cell_type": "code",
   "execution_count": null,
   "metadata": {},
   "outputs": [],
   "source": []
  }
 ],
 "metadata": {
  "kernelspec": {
   "display_name": "Python 3",
   "language": "python",
   "name": "python3"
  },
  "language_info": {
   "codemirror_mode": {
    "name": "ipython",
    "version": 3
   },
   "file_extension": ".py",
   "mimetype": "text/x-python",
   "name": "python",
   "nbconvert_exporter": "python",
   "pygments_lexer": "ipython3",
   "version": "3.8.5"
  }
 },
 "nbformat": 4,
 "nbformat_minor": 4
}
