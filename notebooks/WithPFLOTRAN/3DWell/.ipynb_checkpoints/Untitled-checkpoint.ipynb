{
 "cells": [
  {
   "cell_type": "code",
   "execution_count": 1,
   "metadata": {},
   "outputs": [],
   "source": [
    "%reset -f\n",
    "import numpy as np\n",
    "import matplotlib.pyplot as plt\n",
    "from pandas import read_csv\n",
    "\n",
    "from ipywidgets import interact_manual\n",
    "import ipywidgets as wd\n",
    "\n",
    "from os import system\n",
    "\n",
    "## New functions \n",
    "import jupypft.model as mo\n",
    "import jupypft.parameter as pm"
   ]
  },
  {
   "cell_type": "code",
   "execution_count": 2,
   "metadata": {},
   "outputs": [],
   "source": [
    "import pickle"
   ]
  },
  {
   "cell_type": "code",
   "execution_count": null,
   "metadata": {},
   "outputs": [],
   "source": [
    "CellRatioX = pm.Real(\"<CellRatioX>\")\n",
    "CellRatioY = pm.Real(\"<CellRatioY>\")\n",
    "CellRatioZ = pm.Real(\"<CellRatioZ>\")\n",
    "\n",
    "nX = pm.Integer(\"<nX>\")\n",
    "nY = pm.Integer(\"<nY>\")\n",
    "nZ = pm.Integer(\"<nZ>\")\n",
    "\n",
    "dX = pm.JustText(\"<dX>\")\n",
    "dY = pm.JustText(\"<dY>\")\n",
    "dZ = pm.JustText(\"<dZ>\")\n",
    "\n",
    "## GEOMETRY  \n",
    "LX      = pm.Real(\"<LX>\")\n",
    "LY      = pm.Real(\"<LY>\")\n",
    "LZ      = pm.Real(\"<LZ>\")\n",
    "H_1         = pm.Real(\"<zInBetweenLayers>\")\n",
    "\n",
    "r_s\t      \t= pm.Real(\"<setbackDist>\")\n",
    "r_sl_s   \t= pm.Real(\"<setbackPlusLeak>\")\n",
    "LeakingYN   = pm.Real(\"<leakingYNorth>\")\n",
    "LeakingYS   = pm.Real(\"<leakingYSouth>\")\n",
    "z_t       \t= pm.Real(\"<wellZTop>\")\n",
    "z_b\t      \t= pm.Real(\"<wellZBottom>\")\n",
    "xyWell\t   \t= pm.Real(\"<wellXY>\")\n",
    "\n",
    "### Layer(1) | Top\n",
    "theta1     = pm.Real(\"<porosity1>\")\n",
    "k_x1       = pm.Real(\"<permX1>\")\n",
    "k_y1       = pm.Real(\"<permY1>\")\n",
    "k_z1       = pm.Real(\"<permZ1>\")\n",
    "\n",
    "### Layer(2) | Bottom\n",
    "theta2    \t= pm.Real(\"<porosity2>\")\n",
    "k_x2        = pm.Real(\"<permX2>\")\n",
    "k_y2        = pm.Real(\"<permY2>\")\n",
    "k_z2        = pm.Real(\"<permZ2>\")\n",
    "\n",
    "## FLOW CONDITIONS \n",
    "WaterTable  = pm.Real(\"<boundaryWaterTable>\")\n",
    "q_in        = pm.Real(\"<rateLeaking>\")\n",
    "Q_out       = pm.Real(\"<rateExtraction>\")\n",
    "C0          = pm.Real(\"<initialConcentration>\")\n",
    "\n",
    "## HEAD GRADIENT\n",
    "HeadGradient = pm.Real(\"<headGradientX>\")\n",
    "\n",
    "## BIOPARTICLE\n",
    "AttachRate  = pm.Real(\"<katt>\")\n",
    "DetachRate  = pm.Real(\"<kdet>\")\n",
    "DecayAq     = pm.Real(\"<decayAq>\")\n",
    "DecayIm     = pm.Real(\"<decayIm>\")"
   ]
  }
 ],
 "metadata": {
  "kernelspec": {
   "display_name": "Python 3",
   "language": "python",
   "name": "python3"
  },
  "language_info": {
   "codemirror_mode": {
    "name": "ipython",
    "version": 3
   },
   "file_extension": ".py",
   "mimetype": "text/x-python",
   "name": "python",
   "nbconvert_exporter": "python",
   "pygments_lexer": "ipython3",
   "version": "3.8.5"
  }
 },
 "nbformat": 4,
 "nbformat_minor": 4
}
