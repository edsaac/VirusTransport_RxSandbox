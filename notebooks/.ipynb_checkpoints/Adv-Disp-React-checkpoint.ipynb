{
 "cells": [
  {
   "cell_type": "code",
   "execution_count": 1,
   "metadata": {},
   "outputs": [],
   "source": [
    "%reset -f\n",
    "import numpy as np\n",
    "import matplotlib.pyplot as plt\n",
    "\n",
    "from ipywidgets import interact, interact_manual\n",
    "import ipywidgets as wd\n",
    "\n",
    "from scipy.special import erfc"
   ]
  },
  {
   "cell_type": "code",
   "execution_count": 2,
   "metadata": {},
   "outputs": [],
   "source": [
    "xf = 0.50 #m\n",
    "C0 = 1.0 #mol/L"
   ]
  },
  {
   "cell_type": "code",
   "execution_count": 3,
   "metadata": {},
   "outputs": [],
   "source": [
    "def RunAll(D,U,LAMBDA,PV):\n",
    "    \n",
    "    def EXP(sign):\n",
    "        if sign:\n",
    "            return np.exp(U * xf * (1.0 + GAMMA)/(2*D))\n",
    "        else:\n",
    "            return np.exp(U * xf * (1.0 - GAMMA)/(2*D))\n",
    "\n",
    "    def ERFC(sign):\n",
    "        if sign:\n",
    "            return erfc((xf + U*t*GAMMA)/(2.*np.sqrt(D*t)))\n",
    "        else:\n",
    "            return erfc((xf - U*t*GAMMA)/(2.*np.sqrt(D*t)))\n",
    "\n",
    "    def ERFC_SHIFT(sign):\n",
    "        if sign:\n",
    "            return erfc((xf + U*(t-TAO)*GAMMA)/(2.*np.sqrt(D*(t-TAO))))\n",
    "        else:\n",
    "            return erfc((xf - U*(t-TAO)*GAMMA)/(2.*np.sqrt(D*(t-TAO))))\n",
    "\n",
    "    def C(t):\n",
    "        if t < TAO:\n",
    "            return C0/2 * ((EXP(False) * ERFC(False)) \\\n",
    "                                + (EXP(True) * ERFC(True)))\n",
    "        elif t > TAO:\n",
    "            return C0/2 * ((EXP(False) * (ERFC(False) - ERFC_SHIFT(False))) \\\n",
    "                               + (EXP(True) * (ERFC(True) - ERFC_SHIFT(True))))\n",
    "    \n",
    "    ############################################################################\n",
    "    \n",
    "    D = 10**D\n",
    "    U = 10**U\n",
    "    LAMBDA = 10**LAMBDA\n",
    "\n",
    "    TAO = PV * xf/U\n",
    "    EndTIME = 6.0*TAO\n",
    "    TIMESTEPS = np.linspace(0.01,EndTIME,100)\n",
    "    CFIN = np.zeros_like(TIMESTEPS)\n",
    "    \n",
    "    H = 2.*LAMBDA*D/U**2.0  \n",
    "    GAMMA = np.sqrt(1.0+(2.0*H))\n",
    "    \n",
    "    for i in range(len(TIMESTEPS)):\n",
    "        t = TIMESTEPS[i]\n",
    "        CFIN[i] = C(t)\n",
    "\n",
    "    fig = plt.figure(figsize=(8,5),facecolor=\"white\");\n",
    "    ax1 = plt.subplot(1,1,1)\n",
    "    ax1.plot(TIMESTEPS*U/xf,CFIN,c='k',lw=4)\n",
    "    ax1.set_yscale(\"symlog\",linthresh=1.0E-6)\n",
    "    ax1.set_ylim(0,1.2)\n",
    "    ax1.set_xlim(0,6)\n",
    "    ax1.axhspan(ymin=-1,ymax=1.0E-6,color=\"purple\",alpha=0.05)\n",
    "    ax1.annotate(\"Peclet = %.1E \\nDamköhler = %.1E \" %(xf*U/D,xf*LAMBDA/D),\\\n",
    "                     (6,1.0E-1),\\\n",
    "                     c=\"gray\",fontsize=\"small\",fontweight=\"bold\",\\\n",
    "                     va='center',ha='right',size=12,zorder=4)\n",
    "    plt.show()"
   ]
  },
  {
   "cell_type": "code",
   "execution_count": 4,
   "metadata": {},
   "outputs": [
    {
     "data": {
      "application/vnd.jupyter.widget-view+json": {
       "model_id": "fb24d982921740588053e400587d6eb2",
       "version_major": 2,
       "version_minor": 0
      },
      "text/plain": [
       "interactive(children=(FloatSlider(value=-6.3, description='log-Disp', max=-2.0, min=-10.0), FloatSlider(value=…"
      ]
     },
     "metadata": {},
     "output_type": "display_data"
    }
   ],
   "source": [
    "DESCR=[\"log-Disp\",\"log-Decay\",\"log-U\",\"Pulse Duration\"]\n",
    "\n",
    "interact_manual(RunAll,\n",
    "              D=wd.FloatSlider(description=DESCR[0], min=-10, max=-2, value=-6.3),\\\n",
    "              LAMBDA=wd.FloatSlider(description=DESCR[1], min=-10, max=-2, value=-6),\\\n",
    "              U=wd.FloatSlider(description=DESCR[2], min=-10, max=-2, value=-6),\\\n",
    "              PV=wd.FloatSlider(description=DESCR[3], min=0, max=5, value=1.10));\\\n",
    "              "
   ]
  },
  {
   "cell_type": "code",
   "execution_count": null,
   "metadata": {},
   "outputs": [],
   "source": []
  },
  {
   "cell_type": "code",
   "execution_count": null,
   "metadata": {},
   "outputs": [],
   "source": []
  }
 ],
 "metadata": {
  "kernelspec": {
   "display_name": "Python 3",
   "language": "python",
   "name": "python3"
  },
  "language_info": {
   "codemirror_mode": {
    "name": "ipython",
    "version": 3
   },
   "file_extension": ".py",
   "mimetype": "text/x-python",
   "name": "python",
   "nbconvert_exporter": "python",
   "pygments_lexer": "ipython3",
   "version": "3.8.5"
  },
  "widgets": {
   "application/vnd.jupyter.widget-state+json": {
    "state": {
     "323951d0e43e40b19be16d9f0dfc60f0": {
      "model_module": "@jupyter-widgets/base",
      "model_module_version": "1.2.0",
      "model_name": "LayoutModel",
      "state": {}
     },
     "41bf17682323470185c8d5beba727243": {
      "model_module": "@jupyter-widgets/controls",
      "model_module_version": "1.5.0",
      "model_name": "SliderStyleModel",
      "state": {
       "description_width": ""
      }
     },
     "457d1a76124a4e73a794678b2e451de8": {
      "model_module": "@jupyter-widgets/controls",
      "model_module_version": "1.5.0",
      "model_name": "FloatSliderModel",
      "state": {
       "description": "Pulse Duration",
       "layout": "IPY_MODEL_c1b82890f2c04f9ba7e398f9e049b895",
       "max": 5,
       "step": 0.1,
       "style": "IPY_MODEL_eb06d23d66654f67a56552bb08e0e2bd",
       "value": 1.1
      }
     },
     "53e7de75722d45f198e77cf2648a67d0": {
      "model_module": "@jupyter-widgets/controls",
      "model_module_version": "1.5.0",
      "model_name": "SliderStyleModel",
      "state": {
       "description_width": ""
      }
     },
     "5d6e9a5b159a4f33af0544592fa836d6": {
      "model_module": "@jupyter-widgets/controls",
      "model_module_version": "1.5.0",
      "model_name": "FloatSliderModel",
      "state": {
       "description": "log-Disp",
       "layout": "IPY_MODEL_fa35909cccb346ee86111f9fdf7b28fc",
       "max": -2,
       "min": -10,
       "step": 0.1,
       "style": "IPY_MODEL_41bf17682323470185c8d5beba727243",
       "value": -6.3
      }
     },
     "6ce074bcf79f453cae4a54e7c806a53e": {
      "model_module": "@jupyter-widgets/controls",
      "model_module_version": "1.5.0",
      "model_name": "ButtonStyleModel",
      "state": {}
     },
     "73592dca2fe44d178b92a04be95fc5f7": {
      "model_module": "@jupyter-widgets/controls",
      "model_module_version": "1.5.0",
      "model_name": "SliderStyleModel",
      "state": {
       "description_width": ""
      }
     },
     "73e07e61bd964c878fe1fceae0889342": {
      "model_module": "@jupyter-widgets/controls",
      "model_module_version": "1.5.0",
      "model_name": "FloatSliderModel",
      "state": {
       "description": "log-U",
       "layout": "IPY_MODEL_d90e0c196e39486287e1752e9b3ca323",
       "max": -2,
       "min": -10,
       "step": 0.1,
       "style": "IPY_MODEL_73592dca2fe44d178b92a04be95fc5f7",
       "value": -6
      }
     },
     "9680c5a64cfe491d8cead2a937fdedb9": {
      "model_module": "@jupyter-widgets/base",
      "model_module_version": "1.2.0",
      "model_name": "LayoutModel",
      "state": {}
     },
     "c1b82890f2c04f9ba7e398f9e049b895": {
      "model_module": "@jupyter-widgets/base",
      "model_module_version": "1.2.0",
      "model_name": "LayoutModel",
      "state": {}
     },
     "c490cdc4594349bda15b5b3f8e907f84": {
      "model_module": "@jupyter-widgets/controls",
      "model_module_version": "1.5.0",
      "model_name": "ButtonModel",
      "state": {
       "description": "Run Interact",
       "layout": "IPY_MODEL_dfce59704e5a469688e6eea294d3c09a",
       "style": "IPY_MODEL_6ce074bcf79f453cae4a54e7c806a53e"
      }
     },
     "cda00ab5f30d4ee0bb26309f9b27387d": {
      "model_module": "@jupyter-widgets/output",
      "model_module_version": "1.0.0",
      "model_name": "OutputModel",
      "state": {
       "layout": "IPY_MODEL_323951d0e43e40b19be16d9f0dfc60f0"
      }
     },
     "d90e0c196e39486287e1752e9b3ca323": {
      "model_module": "@jupyter-widgets/base",
      "model_module_version": "1.2.0",
      "model_name": "LayoutModel",
      "state": {}
     },
     "de547a7d59ea42efb2a71023a5dc4b82": {
      "model_module": "@jupyter-widgets/controls",
      "model_module_version": "1.5.0",
      "model_name": "FloatSliderModel",
      "state": {
       "description": "log-Decay",
       "layout": "IPY_MODEL_9680c5a64cfe491d8cead2a937fdedb9",
       "max": -2,
       "min": -10,
       "step": 0.1,
       "style": "IPY_MODEL_53e7de75722d45f198e77cf2648a67d0",
       "value": -6
      }
     },
     "dfce59704e5a469688e6eea294d3c09a": {
      "model_module": "@jupyter-widgets/base",
      "model_module_version": "1.2.0",
      "model_name": "LayoutModel",
      "state": {}
     },
     "eb06d23d66654f67a56552bb08e0e2bd": {
      "model_module": "@jupyter-widgets/controls",
      "model_module_version": "1.5.0",
      "model_name": "SliderStyleModel",
      "state": {
       "description_width": ""
      }
     },
     "f7a9755c79444bcca0085bae82e3dd94": {
      "model_module": "@jupyter-widgets/base",
      "model_module_version": "1.2.0",
      "model_name": "LayoutModel",
      "state": {}
     },
     "fa35909cccb346ee86111f9fdf7b28fc": {
      "model_module": "@jupyter-widgets/base",
      "model_module_version": "1.2.0",
      "model_name": "LayoutModel",
      "state": {}
     },
     "fb24d982921740588053e400587d6eb2": {
      "model_module": "@jupyter-widgets/controls",
      "model_module_version": "1.5.0",
      "model_name": "VBoxModel",
      "state": {
       "_dom_classes": [
        "widget-interact"
       ],
       "children": [
        "IPY_MODEL_5d6e9a5b159a4f33af0544592fa836d6",
        "IPY_MODEL_73e07e61bd964c878fe1fceae0889342",
        "IPY_MODEL_de547a7d59ea42efb2a71023a5dc4b82",
        "IPY_MODEL_457d1a76124a4e73a794678b2e451de8",
        "IPY_MODEL_c490cdc4594349bda15b5b3f8e907f84",
        "IPY_MODEL_cda00ab5f30d4ee0bb26309f9b27387d"
       ],
       "layout": "IPY_MODEL_f7a9755c79444bcca0085bae82e3dd94"
      }
     }
    },
    "version_major": 2,
    "version_minor": 0
   }
  }
 },
 "nbformat": 4,
 "nbformat_minor": 4
}
