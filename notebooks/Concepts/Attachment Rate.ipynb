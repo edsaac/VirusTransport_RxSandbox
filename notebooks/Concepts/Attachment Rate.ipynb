{
 "cells": [
  {
   "cell_type": "markdown",
   "metadata": {},
   "source": [
    "**This functions have been moved to jupypft.attachmentRateCFT**"
   ]
  },
  {
   "cell_type": "code",
   "execution_count": 1,
   "metadata": {},
   "outputs": [],
   "source": [
    "%reset -f\n",
    "import numpy as np\n",
    "import matplotlib.pyplot as plt\n",
    "\n",
    "from ipywidgets import interact_manual\n",
    "import ipywidgets as wd\n",
    "\n",
    "from math import floor, log10\n",
    "from os import system\n",
    "\n",
    "''' GLOBAL CONSTANTS '''\n",
    "PI = 3.141592\n",
    "BOLTZMANN = 1.380649E-23 #N·m/K\n",
    "TEMP = 10 + 273.15 #K\n",
    "g = 9.81 #m/s²\n",
    "\n",
    "def sci_notation(num, decimal_digits=1, precision=None, exponent=None):\n",
    "    \"\"\"\n",
    "    Returns a string representation of the scientific\n",
    "    notation of the given number formatted for use with\n",
    "    LaTeX or Mathtext, with specified number of significant\n",
    "    decimal digits and precision (number of decimal digits\n",
    "    to show). The exponent to be used can also be specified\n",
    "    explicitly.\n",
    "    \"\"\"\n",
    "    if exponent is None:\n",
    "        exponent = int(floor(log10(abs(num))))\n",
    "    coeff = round(num / float(10**exponent), decimal_digits)\n",
    "    if precision is None:\n",
    "        precision = decimal_digits\n",
    "\n",
    "    return r\"${0:.{2}f}\\times10^{{{1:d}}}$\".format(coeff, exponent, precision)\n"
   ]
  },
  {
   "cell_type": "markdown",
   "metadata": {},
   "source": [
    "# Calculate the attachment coefficient via filtration theory\n",
    "\n",
    "## Our model:\n",
    "\n",
    "\\begin{equation}\n",
    "\\begin{array}{rr}\n",
    "    \\dfrac{\\partial C}{\\partial t} + \\dfrac{1}{\\theta}\\:\\vec{q} \\cdot \\nabla C  - \\nabla \\cdot (D_T\\nabla C) =& - k_{\\rm att}C + \\dfrac{1}{\\theta}k_{\\rm det}S -\\lambda_{\\rm aq} C\\\\\n",
    "    \\\\\n",
    "    \\dfrac{1}{\\theta}\\dfrac{\\partial S}{\\partial t} =& k_{\\rm att}C - \\dfrac{1}{\\theta}k_{\\rm det}S -\\lambda_{\\rm im} S\\\\\n",
    "\\end{array}\n",
    "\\end{equation}\n",
    "\n",
    "**Concentrations**\n",
    "- $C$ : concentration of infective viruses in the water phase\n",
    "- $S$ : concentration of infective viruses attached to the solid phase\n",
    "\n",
    "**Reaction rates**\n",
    "- $k_{\\rm att}$ : attachment rate (C -> S)\n",
    "- $k_{\\rm det}$ : detachment rate (S -> C)\n",
    "- $\\lambda_{\\rm aq}$ : decay rate while in aqueous phase (C -> X)\n",
    "- $\\lambda_{\\rm im}$ : decay rate while attached to solid phase (S -> X)\n",
    "\n",
    "**Advection/diffusion parameters**\n",
    "- $\\vec{q}$ : darcy velocity\n",
    "- $t$ : time\n",
    "- $\\theta$ : porosity\n",
    "- $D_T$ : Dispersion coefficient"
   ]
  },
  {
   "cell_type": "markdown",
   "metadata": {},
   "source": [
    "### Dispersion coefficient $D_T$\n",
    "\n",
    "$ D_T = D_m + \\alpha_LU^n $\n",
    "\n",
    "- $D_m$ : molecular diffusion coefficient\n",
    "- $\\alpha_L$ : longitudinal dispersion coefficient\n",
    "- $U$ : intersticial flow velocity\n",
    "- $n$ : empirical fitting exponent\n",
    "\n",
    "*Neglecting transversal dispersion*b"
   ]
  },
  {
   "cell_type": "code",
   "execution_count": 2,
   "metadata": {},
   "outputs": [],
   "source": [
    "def dispCoef(D_m,alpha_L,U,n=1.0): \n",
    "    return D_m + alpha_L*(U**n)"
   ]
  },
  {
   "cell_type": "markdown",
   "metadata": {},
   "source": [
    "### Intersticial flow velocity $U$\n",
    "\n",
    "Pore-water velocity from the darcy velocity:\n",
    "\n",
    "$\\vec{U} = \\dfrac{\\vec{q}}{\\theta}$"
   ]
  },
  {
   "cell_type": "code",
   "execution_count": 3,
   "metadata": {},
   "outputs": [],
   "source": [
    "def poreVel(q,theta): \n",
    "    return q/theta"
   ]
  },
  {
   "cell_type": "markdown",
   "metadata": {},
   "source": [
    "### Molecular diffusion coefficient $D_m$\n",
    "\n",
    "From the Stokes-Einstein equation:\n",
    "\n",
    "$D_m = \\dfrac{k_BT}{3\\pi\\eta d_p}$\n",
    "\n",
    "- $T$ : Temperature\n",
    "- $k_B$ : Boltzmann constant\n",
    "- $\\eta$ : water dynamic viscosity\n",
    "- $d_p$ : (virus) particle diameter\n",
    "_____"
   ]
  },
  {
   "cell_type": "code",
   "execution_count": 4,
   "metadata": {},
   "outputs": [],
   "source": [
    "def molecularDiff(visco,dp): \n",
    "    return (BOLTZMANN*TEMP)/(3*PI*visco*dp)"
   ]
  },
  {
   "cell_type": "markdown",
   "metadata": {},
   "source": [
    "## Attachment rate coefficient: $k_{\\rm att}$\n",
    "\n",
    "\\begin{equation}\n",
    "    k_{\\rm att} = \\dfrac{3 }{2d}(1-\\theta)\\alpha||\\vec{U}||\\eta_0\n",
    "\\end{equation}\n",
    "\n",
    "- $d$ : collector diameter (soil grain size)\n",
    "- $\\alpha$ : collision/attachment efficiency\n",
    "- $\\eta_0$ : collector efficiency"
   ]
  },
  {
   "cell_type": "code",
   "execution_count": 5,
   "metadata": {},
   "outputs": [],
   "source": [
    "def attachmentRate(dc,theta,alpha,U,eta0): \n",
    "    return (3*(1-theta)*alpha*U*eta0)/(2*dc)"
   ]
  },
  {
   "cell_type": "markdown",
   "metadata": {},
   "source": [
    "### Collision/attachment efficiency $\\alpha$\n",
    "\n",
    "\\begin{equation}\n",
    "    \\alpha = \n",
    "    \\dfrac{\\text{Rate at which particles attach to the collector}}\n",
    "        {\\text{Rate at which particles collide with the collector}}\n",
    "\\end{equation}\n",
    "\n",
    "$\\alpha = 1.0$ for **favorable attachment conditions**, e.g., opposed electrostatic charges between the collector (soil grains) and the particles.\n",
    "\n",
    "For **infavorable conditions** such as the movement of viruses in soils, $\\alpha < 1.0$. In these cases, it will be dependant of the isoelectric point of the particles and the soil matrix. "
   ]
  },
  {
   "cell_type": "markdown",
   "metadata": {},
   "source": [
    "### The collector efficiency: $\\eta_0$"
   ]
  },
  {
   "cell_type": "markdown",
   "metadata": {},
   "source": [
    "$\n",
    "    \\eta_0 = \\overbrace{\\eta_{\\rm D}}^\\text{Diffusion} + \\underbrace{\\eta_{\\rm I}}_\\text{Interception} + \\overbrace{\\eta_{\\rm G}}^\\text{Grav. deposition}\n",
    "$"
   ]
  },
  {
   "cell_type": "code",
   "execution_count": 6,
   "metadata": {},
   "outputs": [],
   "source": [
    "def collectorEff(etaD,etaI,etaG):\n",
    "    return etaD + etaI + etaG"
   ]
  },
  {
   "cell_type": "markdown",
   "metadata": {},
   "source": [
    "Each term is approximated by Tufenkji & Elimelech (2004) [\\[10.1021/es034049r\\]](https://pubs.acs.org/doi/10.1021/es034049r):\n",
    "\n",
    "$\n",
    "\\begin{array}{rl}\n",
    "    \\eta_{\\rm D} =& 2.4 A_s^{1/3}N_{\\rm R}^{-0.081}N_{\\rm Pe}^{-0.715}N_{\\rm vdW}^{0.052}\\\\\n",
    "    \\\\\n",
    "    \\eta_{\\rm I} =& 0.55 A_sN_{\\rm R}^{1.55}N_{\\rm Pe}^{-0.125}N_{\\rm vdW}^{0.125}\\\\\n",
    "    \\\\\n",
    "    \\eta_{\\rm G} =& 0.475 N_{\\rm gr}^{1.11} N_{\\rm R}^{-1.35}N_{\\rm Pe}^{-1.11}N_{\\rm vdW}^{0.053}\\\\\n",
    "\\end{array}\n",
    "$"
   ]
  },
  {
   "cell_type": "code",
   "execution_count": 7,
   "metadata": {},
   "outputs": [],
   "source": [
    "def collectorEfficiency_Diffusion(A_s,N_R,N_Pe,N_vdW):\n",
    "    return 2.40 * (A_s**(1./3.)) * (N_R**-0.081) * (N_Pe**-0.715) * (N_vdW**0.052)\n",
    "\n",
    "def collectorEfficiency_Interception(A_s,N_R,N_Pe,N_vdW):\n",
    "    return 0.55 * A_s * (N_R**1.55) * (N_Pe**-0.125) * (N_vdW**0.125)\n",
    "\n",
    "def collectorEfficiency_GDeposition(N_gr,N_R,N_Pe,N_vdW):\n",
    "    return 0.475 * (N_gr**1.11)   * (N_R**-1.35)  * (N_Pe**-1.11)  * (N_vdW**0.053)"
   ]
  },
  {
   "cell_type": "markdown",
   "metadata": {},
   "source": [
    "All these collector efficiencies come from **non-dimensional numbers** that defined as follows:\n",
    "\n",
    "- $\n",
    "\\begin{array}{lcl}\n",
    "    A_s = \\dfrac{2(1-s^{5/3})}{2-3s^{1/3}+3s^{5/3}-2s^2} &\\quad& s = 1-\\theta\n",
    "\\end{array}\n",
    "$"
   ]
  },
  {
   "cell_type": "code",
   "execution_count": 8,
   "metadata": {},
   "outputs": [],
   "source": [
    "def happelParameter(theta):\n",
    "    s = 1-theta\n",
    "    s53 = s**(5./3.)\n",
    "    s13 = s**(1./3.)\n",
    "    s21 = s**2\n",
    "    return (2*(1-s53))/(2 - (3*s13) + (3*s53) - (2*s21))"
   ]
  },
  {
   "cell_type": "markdown",
   "metadata": {},
   "source": [
    "**Size ratio:**\n",
    "\n",
    "- $N_{\\rm R} = \\dfrac{d_p}{d}$"
   ]
  },
  {
   "cell_type": "code",
   "execution_count": 9,
   "metadata": {},
   "outputs": [],
   "source": [
    " def noDim_SizeRatio(dp,dc):\n",
    "    return dp/dc"
   ]
  },
  {
   "cell_type": "markdown",
   "metadata": {},
   "source": [
    "**Péclet number:**\n",
    "\n",
    "- $N_{\\rm Pe} = \\dfrac{qd}{D_m}$"
   ]
  },
  {
   "cell_type": "code",
   "execution_count": 10,
   "metadata": {},
   "outputs": [],
   "source": [
    "def noDim_Péclet(q,dc,Dm):\n",
    "     return q*dc/Dm"
   ]
  },
  {
   "cell_type": "markdown",
   "metadata": {},
   "source": [
    "**van der Waals number:**\n",
    "\n",
    "- $N_{\\rm vdW} = \\dfrac{A}{k_BT}$"
   ]
  },
  {
   "cell_type": "code",
   "execution_count": 11,
   "metadata": {},
   "outputs": [],
   "source": [
    "def noDim_vanderWaals(A):\n",
    "    return A/(BOLTZMANN*TEMP)"
   ]
  },
  {
   "cell_type": "markdown",
   "metadata": {},
   "source": [
    "**Gravitational number:**\n",
    "\n",
    "- $N_{\\rm gr} = \\dfrac{4\\pi r_p^4 (\\rho_p - \\rho_f)g}{3k_BT} = \\dfrac{\\pi d_p^4 (\\rho_p - \\rho_f)g}{12k_BT}$"
   ]
  },
  {
   "cell_type": "code",
   "execution_count": 12,
   "metadata": {},
   "outputs": [],
   "source": [
    "def noDim_Gravitational(dp,rhof,rhop):\n",
    "    return (PI*(dp**4)*(rhop-rhof)*g)/(12.*BOLTZMANN*TEMP)"
   ]
  },
  {
   "cell_type": "markdown",
   "metadata": {},
   "source": [
    "_________\n",
    "\n",
    "# Attachment rate $k_{\\rm att}$ as a function of particle size"
   ]
  },
  {
   "cell_type": "code",
   "execution_count": 13,
   "metadata": {},
   "outputs": [],
   "source": [
    "'''CASE CONSTANTS'''\n",
    "#Porosity\n",
    "theta = 0.35 # adim\n",
    "dc = 2.0E-3 # 2mm << sand\n",
    "A = 5.0E-21 # J = N·m\n",
    "viscosity = 0.0008891 # N·s/m²\n",
    "water_density = 999.79 # kg/m³\n",
    "particle_density = 1050.0 # kg/m³ \n",
    "alpha = 1.00 # adim << favorable conditions"
   ]
  },
  {
   "cell_type": "code",
   "execution_count": 14,
   "metadata": {},
   "outputs": [],
   "source": [
    "def flowNumber():\n",
    "    return (4.0*K*I*H*r) / (Qin*(1+f))\n",
    "\n",
    "def uChar():\n",
    "    return -(K*I*flowNumber())/(theta*(flowNumber() + 1))"
   ]
  },
  {
   "cell_type": "code",
   "execution_count": 15,
   "metadata": {},
   "outputs": [],
   "source": [
    "#Darcy flow velocity\n",
    "K = 10**-2\n",
    "I = -4.8E-3\n",
    "H = 20.\n",
    "r = 40.\n",
    "f = 10.\n",
    "Qin = 0.24/86400.\n",
    "q = uChar()*theta\n",
    "decayRate = 3.5353E-06"
   ]
  },
  {
   "cell_type": "code",
   "execution_count": 16,
   "metadata": {},
   "outputs": [],
   "source": [
    "def kattFromdp(dp,report=False):\n",
    "\n",
    "    #Molecular diffusion\n",
    "    Dm  = molecularDiff(viscosity,dp)\n",
    "    \n",
    "    #Pore water velocity\n",
    "    U   = poreVel(q,theta)\n",
    "    \n",
    "    #Non-dimensional numbers\n",
    "    As  = happelParameter(theta)\n",
    "    NR  = noDim_SizeRatio(dp,dc)\n",
    "    NPe = noDim_Péclet(q,dc,Dm)\n",
    "    NvW = noDim_vanderWaals(A)\n",
    "    NGr = noDim_Gravitational(dp,water_density,particle_density)\n",
    "    \n",
    "    #Collector efficiency\n",
    "    etaD = collectorEfficiency_Diffusion(As,NR,NPe,NvW)\n",
    "    etaI = collectorEfficiency_Interception(As,NR,NPe,NvW)\n",
    "    etaG = collectorEfficiency_GDeposition(NGr,NR,NPe,NvW)\n",
    "    eta0 = collectorEff(etaD,etaI,etaG)\n",
    "    \n",
    "    #Attachment rate\n",
    "    kAtt = attachmentRate(dc,theta,alpha,U,eta0)\n",
    "     \n",
    "    #Print report\n",
    "    if(report):\n",
    "        print(\"Diffusion coeff:  {0:.4E}\".format(Dm))\n",
    "        print(\"Darcy velocity:   {0:.4E}\".format(q))\n",
    "        print(\"Pore-water vel:   {0:.4E}\".format(U))\n",
    "        print(\"---\")\n",
    "        print(\"Happel parameter: {0:.4E}\".format(As))\n",
    "        print(\"NR number:        {0:.4E}\".format(NR))\n",
    "        print(\"NPe number:       {0:.4E}\".format(NPe))\n",
    "        print(\"NvW number:       {0:.4E}\".format(NvW))\n",
    "        print(\"NGr number:       {0:.4E}\".format(NGr))\n",
    "        print(\"---\")\n",
    "        print(\"etaD collector:   {0:.4E}\".format(etaD))\n",
    "        print(\"etaI collector:   {0:.4E}\".format(etaI))\n",
    "        print(\"etaG collector:   {0:.4E}\".format(etaG))\n",
    "        print(\"eta0 collector:   {0:.4E}\".format(eta0))\n",
    "        print(\"---\")\n",
    "        print(\"Attach rate   :   {0:.4E}\".format(kAtt))\n",
    "\n",
    "    return kAtt"
   ]
  },
  {
   "cell_type": "markdown",
   "metadata": {},
   "source": [
    "## Calculator for a single particle size value"
   ]
  },
  {
   "cell_type": "code",
   "execution_count": 17,
   "metadata": {},
   "outputs": [
    {
     "data": {
      "application/vnd.jupyter.widget-view+json": {
       "model_id": "b6531c7e1aa644cb9fc056be42ef6341",
       "version_major": 2,
       "version_minor": 0
      },
      "text/plain": [
       "interactive(children=(FloatLogSlider(value=1e-07, description='Part. size [m]', max=-2.0, min=-9.0), Checkbox(…"
      ]
     },
     "metadata": {},
     "output_type": "display_data"
    },
    {
     "name": "stdout",
     "output_type": "stream",
     "text": [
      "DONE\n"
     ]
    }
   ],
   "source": [
    "dpSlider = wd.FloatLogSlider(value=100.0E-9,base=10.,min=-9,max=-2,description=\"Part. size [m]\")\n",
    "interact_manual(kattFromdp,dp=dpSlider);\n",
    "print(\"DONE\")"
   ]
  },
  {
   "cell_type": "markdown",
   "metadata": {},
   "source": [
    "## Plot particle size v. attachment rate "
   ]
  },
  {
   "cell_type": "code",
   "execution_count": 22,
   "metadata": {
    "scrolled": false
   },
   "outputs": [
    {
     "data": {
      "image/png": "[encoded data removed]",
      "text/plain": [
       "<Figure size 576x360 with 1 Axes>"
      ]
     },
     "metadata": {},
     "output_type": "display_data"
    }
   ],
   "source": [
    "dp = np.power(10.,np.arange(-9,-2,0.2))\n",
    "dc = 2.0E-3 # 2mm << sand\n",
    "dpVirus = [60.0E-9, 140.0E-9] #Measured sarscov2\n",
    "dpFloc = 10.0E-6 #A floc?\n",
    "\n",
    "plt.figure(figsize=(8,5),facecolor=\"white\")\n",
    "ax1 = plt.subplot(1,1,1)\n",
    "\n",
    "## Sizes of POM\n",
    "#ax1.axvspan(1.0E-9,1.0E-6,ymax=1,\\\n",
    "#            label=\"Dissolved solids\",\\\n",
    "#            color=\"seagreen\",alpha=0.1)\n",
    "\n",
    "#ax1.axvspan(1.0E-6,1.0E-4,ymax=1,\\\n",
    "#            label=\"Suspended solids\",\\\n",
    "#            color=\"teal\",alpha=0.1)\n",
    "\n",
    "#ax1.axvline(x=100.0E-6,ymax=1,\\\n",
    "#            label=\"Settleable solids\",\\\n",
    "#            ls=\"dashed\",lw=2,c=\"teal\")\n",
    "\n",
    "## Efficiency 100%\n",
    "alpha = 1.00\n",
    "kAtt = kattFromdp(dp)\n",
    "ax1.plot(dp,kAtt,lw=4,c=\"cornflowerblue\")\n",
    "\n",
    "rotang = -22.0\n",
    "bbox = dict(boxstyle='square', fc='white', ec='cornflowerblue')\n",
    "ax1.text(2.0E-9,kAtt[0]*0.15,r'$\\alpha =$ '+'{:}'.format(alpha),\n",
    "         fontsize=12,rotation=rotang,bbox=bbox)\n",
    "\n",
    "## Efficiency 1%\n",
    "alpha = 0.01\n",
    "kAtt = kattFromdp(dp)\n",
    "ax1.plot(dp,kAtt,lw=4,c=\"slateblue\")\n",
    "\n",
    "bbox = dict(boxstyle='square', fc='white', ec='slateblue')\n",
    "ax1.text(2.0E-9,kAtt[0]*0.15,r'$\\alpha =$ '+'{:}'.format(alpha),\n",
    "         fontsize=12,rotation=rotang,bbox=bbox)\n",
    "\n",
    "## Efficiency 0.01%\n",
    "alpha = 0.0001\n",
    "kAtt = kattFromdp(dp)\n",
    "ax1.plot(dp,kAtt,lw=4,c=\"blue\")\n",
    "\n",
    "bbox = dict(boxstyle='square', fc='white', ec='blue')\n",
    "ax1.text(2.0E-9,kAtt[0]*0.10,r'$\\alpha =$ '+'{:}'.format(alpha),\n",
    "         fontsize=12,rotation=rotang,bbox=bbox)\n",
    "\n",
    "## Virus size\n",
    "ax1.axvspan(dpVirus[0],dpVirus[1],ymax=0.8,\\\n",
    "            color=\"orangered\",alpha=0.20)\n",
    "\n",
    "ax1.annotate('SARS-CoV-2\\nsize range', xy=(0.4, 0.82), xytext=(0.4, 0.92), xycoords='axes fraction', \n",
    "            fontsize=10, ha='center', va='center',\n",
    "            bbox=dict(boxstyle='square', fc='orangered',alpha=0.20),\n",
    "            arrowprops=dict(arrowstyle='-[, widthB=1.4, lengthB=0.2', lw=1.0))\n",
    "\n",
    "\n",
    "## Decay rate \n",
    "ax1.axhline(y=decayRate,\\\n",
    "            ls=\"dashed\",lw=2,c=\"red\")\n",
    "\n",
    "bbox = dict(boxstyle='square', fc='white', ec='red')\n",
    "ax1.text(1.E-4,decayRate,r\"$\\lambda_{\\rm aq}$\",\\\n",
    "         fontsize=12,bbox=bbox)\n",
    "\n",
    "## Parameter info:\n",
    "information = \\\n",
    "    r\"$\\bf{\\theta}$\" + \" = {:.2f} \".format(theta) + \"\\n\"\\\n",
    "    r\"$\\bf{d}$ = \" + sci_notation(dc) + \" m\\n\"\\\n",
    "    r\"$\\bf{u}$ = \" + sci_notation(uChar()) + \" m/s\\n\"\\\n",
    "    r\"$\\bf{A}$ = \" + sci_notation(A) + \" J\\n\"\\\n",
    "    r\"$\\bf{\\rho_p}$ = \" + \"{:.1f}\".format(particle_density) + \" kg/m³\\n\"\\\n",
    "    r\"$\\bf{\\rho_f}$ = \" + \"{:.1f}\".format(water_density) + \" kg/m³\\n\"\\\n",
    "    r\"$\\bf{\\mu}$ = \" + sci_notation(viscosity) + \" N·s/m²\\n\"\\\n",
    "    r\"$\\bf{T}$ = \" + \"{:.1f}\".format(TEMP) + \" K\" \n",
    "\n",
    "bbox = dict(boxstyle='round', facecolor='mintcream', alpha=0.90)\n",
    "ax1.text(1.05,0.5,information,bbox=bbox,transform=ax1.transAxes)\n",
    "\n",
    "## Miscelaneous\n",
    "ax1.set(xscale='log',yscale='log')\n",
    "ax1.set(xlim=[1.0E-9,1.0E-4],ylim=[1.0E-8,1.0E0])\n",
    "font = {'size': 12}\n",
    "ax1.set_ylabel(\"Attachment rate\\n\"+r\"$k_{\\rm att}$ [s$^{-1}$]\",fontdict=font)\n",
    "ax1.set_xlabel(\"Particle size\\n$d_p$ [m]\",fontdict=font)\n",
    "\n",
    "## Legend\n",
    "#ax1.legend(loc=\"lower left\",ncol=1,bbox_to_anchor=(1.05, 0),\\\n",
    "#           title=\"$d_c = $\" + \"{:.1E} m\".format(dc),\\\n",
    "#           title_fontsize=\"large\")\n",
    "\n",
    "plt.tight_layout()\n",
    "plt.show()"
   ]
  },
  {
   "cell_type": "markdown",
   "metadata": {},
   "source": [
    "## Plot collector size v. attachment rate "
   ]
  },
  {
   "cell_type": "code",
   "execution_count": 21,
   "metadata": {
    "scrolled": false
   },
   "outputs": [
    {
     "data": {
      "image/png": "[encoded data removed]",
      "text/plain": [
       "<Figure size 432x360 with 1 Axes>"
      ]
     },
     "metadata": {},
     "output_type": "display_data"
    }
   ],
   "source": [
    "dc = np.power(10.,np.arange(-5,0,0.2))\n",
    "dp = 100.0E-9 #A sarscov2?\n",
    "\n",
    "plt.figure(figsize=(6,5),facecolor=\"white\")\n",
    "ax1 = plt.subplot(1,1,1)\n",
    "## Efficiency 100%\n",
    "alpha = 1.00\n",
    "K = kattFromdp(dp)\n",
    "ax1.plot(dc,K,lw=3,c=\"gray\",\\\n",
    "         label=\"$\\\\alpha = $\"+\"{:.1f}%\".format(alpha*100))\n",
    "## Different efficiencies\n",
    "alpha = 0.15\n",
    "K = kattFromdp(dp)\n",
    "ax1.plot(dc,K,lw=3,c=\"purple\",\\\n",
    "         label=\"$\\\\alpha = $\"+\"{:.1f}%\".format(alpha*100))\n",
    "\n",
    "alpha = 0.015\n",
    "K = kattFromdp(dp)\n",
    "ax1.plot(dc,K,lw=3,c=\"blue\",\\\n",
    "         label=\"$\\\\alpha = $\"+\"{:.1f}%\".format(alpha*100))\n",
    "\n",
    "## Miscelaneous\n",
    "ax1.set_yscale(\"log\")\n",
    "ax1.set_xscale(\"log\")\n",
    "ax1.set_ylabel(\"Attachment rate [s$^{-1}$]\")\n",
    "ax1.set_xlabel(\"Collector size [m]\")\n",
    "ax1.set_xlim(1.0E-5,1.0E-2)\n",
    "#ax1.set_ylim(2.0E-4,2.0E+2)\n",
    "\n",
    "## Legend\n",
    "ax1.legend(loc=\"best\",\\\n",
    "           title=\"$d_p = $\" + \"{:.1E} m\".format(dp),\\\n",
    "           title_fontsize=\"large\")\n",
    "\n",
    "plt.tight_layout()\n",
    "plt.show()"
   ]
  },
  {
   "cell_type": "markdown",
   "metadata": {},
   "source": [
    "## Plot collector size v. attachment rate "
   ]
  },
  {
   "cell_type": "code",
   "execution_count": 22,
   "metadata": {
    "scrolled": false
   },
   "outputs": [
    {
     "data": {
      "image/png": "[encoded data removed]",
      "text/plain": [
       "<Figure size 432x360 with 1 Axes>"
      ]
     },
     "metadata": {},
     "output_type": "display_data"
    }
   ],
   "source": [
    "dc = np.power(10.,np.arange(-5,0,0.2))\n",
    "\n",
    "plt.figure(figsize=(6,5),facecolor=\"white\")\n",
    "ax1 = plt.subplot(1,1,1)\n",
    "\n",
    "## Individual virus\n",
    "alpha = 1.00\n",
    "dp = 100.0E-9 #A sarscov2\n",
    "particle_density=1400\n",
    "K = kattFromdp(dp)\n",
    "ax1.plot(dc,K,lw=3,c=\"gray\",\\\n",
    "         label=\"Single virus\\n $d_p = $\" + \"{:.1E} m\".format(dp)\\\n",
    "         + \"\\n$\\\\rho_p = $\" + \" {:.2f} g/cm³\".format(particle_density/1000))\n",
    "\n",
    "dp = 10.0E-6 #A biomass floc\n",
    "particle_density=1050\n",
    "K = kattFromdp(dp)\n",
    "ax1.plot(dc,K,lw=3,c=\"purple\",\\\n",
    "         label=\"Floc\\n $d_p = $\" + \"{:.1E} m\".format(dp)\\\n",
    "         + \"\\n$\\\\rho_p = $\" + \" {:.2f} g/cm³\".format(particle_density/1000))\n",
    "\n",
    "## Individual virus\n",
    "alpha = 0.15\n",
    "dp = 100.0E-9 #A sarscov2\n",
    "particle_density=1400\n",
    "K = kattFromdp(dp)\n",
    "ax1.plot(dc,K,lw=2,c=\"gray\",ls='dashed')\n",
    "\n",
    "dp = 10.0E-6 #A biomass floc\n",
    "particle_density=1050\n",
    "K = kattFromdp(dp)\n",
    "ax1.plot(dc,K,lw=2,c=\"purple\",ls='dashed')\n",
    "\n",
    "\n",
    "## Miscelaneous\n",
    "ax1.set_yscale(\"log\")\n",
    "ax1.set_xscale(\"log\")\n",
    "ax1.set_ylabel(\"Attachment rate [s$^{-1}$]\")\n",
    "ax1.set_xlabel(\"Collector size [m]\")\n",
    "ax1.set_xlim(1.0E-5,1.0E-2)\n",
    "ax1.set_ylim(2.0E-4,2.0E+2)\n",
    "\n",
    "## Legend\n",
    "ax1.legend(loc=\"best\",\\\n",
    "           title=\"Different particle types\",\\\n",
    "           title_fontsize=\"large\",\\\n",
    "           ncol=2)\n",
    "\n",
    "plt.tight_layout()\n",
    "plt.show()"
   ]
  },
  {
   "cell_type": "code",
   "execution_count": 50,
   "metadata": {
    "scrolled": true
   },
   "outputs": [
    {
     "data": {
      "image/png": "[encoded data removed]",
      "text/plain": [
       "<Figure size 432x360 with 1 Axes>"
      ]
     },
     "metadata": {},
     "output_type": "display_data"
    }
   ],
   "source": [
    "dc = np.power(10.,np.arange(-5,0,0.2))\n",
    "\n",
    "plt.figure(figsize=(6,5),facecolor=\"white\")\n",
    "ax1 = plt.subplot(1,1,1)\n",
    "\n",
    "## Individual virus\n",
    "alpha = 0.01 #Over SiO2\n",
    "dp = 100.0E-9 #A sarscov2\n",
    "particle_density=1400\n",
    "K = kattFromdp(dp)\n",
    "ax1.plot(dc,K,lw=3,c=\"darkgreen\",\\\n",
    "         label=\"Single virus\\n $d_p = $\" + \"{:.1E} m\".format(dp)\\\n",
    "         + \"\\n$\\\\rho_p = $\" + \" {:.2f} g/cm³\".format(particle_density/1000)\n",
    "         + \"\\n$\\\\alpha = $\" + \" {:.1f} %\".format(alpha*100))\n",
    "\n",
    "## A sand colloid\n",
    "alpha = 0.32 #Check ren & packman - 2000\n",
    "dp = 137.0E-6 #A #100 sand colloid\n",
    "particle_density=1050\n",
    "K = kattFromdp(dp)\n",
    "ax1.plot(dc,K,lw=3,c=\"purple\",\\\n",
    "         label=\"Sand colloid\\n $d_p = $\" + \"{:.1E} m\".format(dp)\\\n",
    "         + \"\\n$\\\\rho_p = $\" + \" {:.2f} g/cm³\".format(particle_density/1000)\n",
    "         + \"\\n$\\\\alpha = $\" + \" {:.1f} %\".format(alpha*100))\n",
    "\n",
    "## Miscelaneous\n",
    "ax1.set_yscale(\"log\")\n",
    "ax1.set_xscale(\"log\")\n",
    "ax1.set_ylabel(\"Attachment rate [s$^{-1}$]\")\n",
    "ax1.set_xlabel(\"Collector size [m]\")\n",
    "ax1.set_xlim(1.0E-5,1.0E-2)\n",
    "#ax1.set_ylim(2.0E-4,2.0E+2)\n",
    "\n",
    "## Legend\n",
    "ax1.legend(loc=\"best\",\\\n",
    "           title=\"Different particle types\",\\\n",
    "           title_fontsize=\"large\",\\\n",
    "           ncol=2)\n",
    "\n",
    "plt.tight_layout()\n",
    "plt.show()"
   ]
  },
  {
   "cell_type": "markdown",
   "metadata": {},
   "source": [
    "### Flow velocity v. attachment rate"
   ]
  },
  {
   "cell_type": "code",
   "execution_count": 51,
   "metadata": {},
   "outputs": [],
   "source": [
    "'''CASE CONSTANTS'''\n",
    "#Porosity\n",
    "theta = 0.37 # adim\n",
    "\n",
    "#Collector diameter\n",
    "dc = 2.0E-3 # 2mm << sand\n",
    "\n",
    "#Particle diameter\n",
    "dp = 1.0E-7 # 100nm << particle\n",
    "\n",
    "#Hamaker constant\n",
    "A = 5.0E-21 # J = N·m\n",
    "\n",
    "#Water dynamic viscosity\n",
    "viscosity = 0.0008891 # N·s/m²\n",
    "\n",
    "#Densities\n",
    "water_density = 997.05 # kg/m³\n",
    "particle_density = 1050.0 # kg/m³ \n",
    "\n",
    "#Collision/attachment efficiency\n",
    "alpha = 1.00 # adim << favorable conditions\n",
    "\n",
    "#Darcy flow velocity\n",
    "q = np.power(10.,np.arange(-50,-2,1)) # 0.0001 # m/s "
   ]
  },
  {
   "cell_type": "code",
   "execution_count": 52,
   "metadata": {},
   "outputs": [],
   "source": [
    "def kattFromdp():\n",
    "\n",
    "    #Molecular diffusion\n",
    "    Dm  = molecularDiff(viscosity,dp)\n",
    "    \n",
    "    #Pore water velocity\n",
    "    U   = poreVel(q,theta)\n",
    "\n",
    "    #Non-dimensional numbers\n",
    "    As  = happelParameter(theta)\n",
    "    NR  = noDim_SizeRatio(dp,dc)\n",
    "    NPe = noDim_Péclet(q,dc,Dm)\n",
    "    NvW = noDim_vanderWaals(A)\n",
    "    NGr = noDim_Gravitational(dp,water_density,particle_density)\n",
    "    \n",
    "    #Collector efficiency\n",
    "    etaD = collectorEfficiency_Diffusion(As,NR,NPe,NvW)\n",
    "    etaI = collectorEfficiency_Interception(As,NR,NPe,NvW)\n",
    "    etaG = collectorEfficiency_GDeposition(NGr,NR,NPe,NvW)\n",
    "    eta0 = collectorEff(etaD,etaI,etaG)\n",
    "    \n",
    "    #Attachment rate\n",
    "    kAtt = attachmentRate(dc,theta,alpha,U,eta0)\n",
    "    \n",
    "    #Print report\n",
    "    if(True):\n",
    "        print(\"Molecular diffusion coef:\",Dm)\n",
    "        print(\"Darcy velocity:          \",q)\n",
    "        print(\"Pore-water velocity:     \",U)\n",
    "        print(\"\\n\")\n",
    "        print(\"Happel parameter:\",As)\n",
    "        print(\"NR number:       \",NR)\n",
    "        print(\"NPe number:      \",NPe)\n",
    "        print(\"NvW number:      \",NvW)\n",
    "        print(\"NGr number:      \",NGr)\n",
    "        print(\"\\n\")\n",
    "        print(\"etaD collector:  \",etaD)\n",
    "        print(\"etaI collector:  \",etaI)\n",
    "        print(\"etaG collector:  \",etaG)\n",
    "        print(\"eta0 collector:  \",eta0)\n",
    "        \n",
    "    return kAtt"
   ]
  },
  {
   "cell_type": "code",
   "execution_count": 22,
   "metadata": {
    "scrolled": false
   },
   "outputs": [
    {
     "name": "stdout",
     "output_type": "stream",
     "text": [
      "Molecular diffusion coef: 4.66528523204759e-12\n",
      "Darcy velocity:           [1.e-50 1.e-49 1.e-48 1.e-47 1.e-46 1.e-45 1.e-44 1.e-43 1.e-42 1.e-41\n",
      " 1.e-40 1.e-39 1.e-38 1.e-37 1.e-36 1.e-35 1.e-34 1.e-33 1.e-32 1.e-31\n",
      " 1.e-30 1.e-29 1.e-28 1.e-27 1.e-26 1.e-25 1.e-24 1.e-23 1.e-22 1.e-21\n",
      " 1.e-20 1.e-19 1.e-18 1.e-17 1.e-16 1.e-15 1.e-14 1.e-13 1.e-12 1.e-11\n",
      " 1.e-10 1.e-09 1.e-08 1.e-07 1.e-06 1.e-05 1.e-04 1.e-03]\n",
      "Pore-water velocity:      [2.7027027e-50 2.7027027e-49 2.7027027e-48 2.7027027e-47 2.7027027e-46\n",
      " 2.7027027e-45 2.7027027e-44 2.7027027e-43 2.7027027e-42 2.7027027e-41\n",
      " 2.7027027e-40 2.7027027e-39 2.7027027e-38 2.7027027e-37 2.7027027e-36\n",
      " 2.7027027e-35 2.7027027e-34 2.7027027e-33 2.7027027e-32 2.7027027e-31\n",
      " 2.7027027e-30 2.7027027e-29 2.7027027e-28 2.7027027e-27 2.7027027e-26\n",
      " 2.7027027e-25 2.7027027e-24 2.7027027e-23 2.7027027e-22 2.7027027e-21\n",
      " 2.7027027e-20 2.7027027e-19 2.7027027e-18 2.7027027e-17 2.7027027e-16\n",
      " 2.7027027e-15 2.7027027e-14 2.7027027e-13 2.7027027e-12 2.7027027e-11\n",
      " 2.7027027e-10 2.7027027e-09 2.7027027e-08 2.7027027e-07 2.7027027e-06\n",
      " 2.7027027e-05 2.7027027e-04 2.7027027e-03]\n",
      "\n",
      "\n",
      "Happel parameter: 45.9547236374307\n",
      "NR number:        4.9999999999999996e-05\n",
      "NPe number:       [4.28698333e-42 4.28698333e-41 4.28698333e-40 4.28698333e-39\n",
      " 4.28698333e-38 4.28698333e-37 4.28698333e-36 4.28698333e-35\n",
      " 4.28698333e-34 4.28698333e-33 4.28698333e-32 4.28698333e-31\n",
      " 4.28698333e-30 4.28698333e-29 4.28698333e-28 4.28698333e-27\n",
      " 4.28698333e-26 4.28698333e-25 4.28698333e-24 4.28698333e-23\n",
      " 4.28698333e-22 4.28698333e-21 4.28698333e-20 4.28698333e-19\n",
      " 4.28698333e-18 4.28698333e-17 4.28698333e-16 4.28698333e-15\n",
      " 4.28698333e-14 4.28698333e-13 4.28698333e-12 4.28698333e-11\n",
      " 4.28698333e-10 4.28698333e-09 4.28698333e-08 4.28698333e-07\n",
      " 4.28698333e-06 4.28698333e-05 4.28698333e-04 4.28698333e-03\n",
      " 4.28698333e-02 4.28698333e-01 4.28698333e+00 4.28698333e+01\n",
      " 4.28698333e+02 4.28698333e+03 4.28698333e+04 4.28698333e+05]\n",
      "NvW number:       1.2789988550308884\n",
      "NGr number:       3.478593326700923e-06\n",
      "\n",
      "\n",
      "etaD collector:   [7.34976477e+30 1.41668547e+30 2.73069654e+29 5.26348560e+28\n",
      " 1.01454996e+28 1.95557033e+27 3.76941053e+26 7.26563270e+25\n",
      " 1.40046880e+25 2.69943851e+24 5.20323498e+23 1.00293651e+23\n",
      " 1.93318510e+22 3.72626244e+21 7.18246369e+20 1.38443777e+20\n",
      " 2.66853829e+19 5.14367404e+18 9.91455986e+17 1.91105611e+17\n",
      " 3.68360827e+16 7.10024671e+15 1.36859024e+15 2.63799179e+14\n",
      " 5.08479489e+13 9.80106884e+12 1.88918044e+12 3.64144236e+11\n",
      " 7.01897086e+10 1.35292412e+10 2.60779495e+09 5.02658973e+08\n",
      " 9.68887693e+07 1.86755517e+07 3.59975911e+06 6.93862537e+05\n",
      " 1.33743733e+05 2.57794376e+04 4.96905083e+03 9.57796927e+02\n",
      " 1.84617744e+02 3.55855301e+01 6.85919958e+00 1.32212781e+00\n",
      " 2.54843429e-01 4.91217058e-02 9.46833116e-03 1.82504442e-03]\n",
      "etaI collector:   [8.32599508e-01 6.24361550e-01 4.68205111e-01 3.51104301e-01\n",
      " 2.63291082e-01 1.97440458e-01 1.48059456e-01 1.11028929e-01\n",
      " 8.32599508e-02 6.24361550e-02 4.68205111e-02 3.51104301e-02\n",
      " 2.63291082e-02 1.97440458e-02 1.48059456e-02 1.11028929e-02\n",
      " 8.32599508e-03 6.24361550e-03 4.68205111e-03 3.51104301e-03\n",
      " 2.63291082e-03 1.97440458e-03 1.48059456e-03 1.11028929e-03\n",
      " 8.32599508e-04 6.24361550e-04 4.68205111e-04 3.51104301e-04\n",
      " 2.63291082e-04 1.97440458e-04 1.48059456e-04 1.11028929e-04\n",
      " 8.32599508e-05 6.24361550e-05 4.68205111e-05 3.51104301e-05\n",
      " 2.63291082e-05 1.97440458e-05 1.48059456e-05 1.11028929e-05\n",
      " 8.32599508e-06 6.24361550e-06 4.68205111e-06 3.51104301e-06\n",
      " 2.63291082e-06 1.97440458e-06 1.48059456e-06 1.11028929e-06]\n",
      "etaG collector:   [2.22852645e+45 1.72988723e+44 1.34281997e+43 1.04236013e+42\n",
      " 8.09129047e+40 6.28084090e+39 4.87548464e+38 3.78458089e+37\n",
      " 2.93777001e+36 2.28043550e+35 1.77018148e+34 1.37409827e+33\n",
      " 1.06663982e+32 8.27976084e+30 6.42714048e+29 4.98904926e+28\n",
      " 3.87273511e+27 3.00619946e+26 2.33355366e+25 1.81141430e+24\n",
      " 1.40610513e+23 1.09148505e+22 8.47262124e+20 6.57684781e+19\n",
      " 5.10525915e+18 3.96294269e+17 3.07622284e+16 2.38790911e+15\n",
      " 1.85360756e+14 1.43885752e+13 1.11690900e+12 8.66997394e+10\n",
      " 6.73004228e+09 5.22417591e+08 4.05525149e+07 3.14787727e+06\n",
      " 2.44353066e+05 1.89678363e+04 1.47237282e+03 1.14292516e+02\n",
      " 8.87192358e+00 6.88680510e-01 5.34586260e-02 4.14971043e-03\n",
      " 3.22120076e-04 2.50044780e-05 1.94096539e-06 1.50666879e-07]\n",
      "eta0 collector:   [2.22852645e+45 1.72988723e+44 1.34281997e+43 1.04236013e+42\n",
      " 8.09129047e+40 6.28084090e+39 4.87548464e+38 3.78458089e+37\n",
      " 2.93777001e+36 2.28043550e+35 1.77018148e+34 1.37409827e+33\n",
      " 1.06663982e+32 8.27976084e+30 6.42714048e+29 4.98904928e+28\n",
      " 3.87273513e+27 3.00619951e+26 2.33355376e+25 1.81141449e+24\n",
      " 1.40610550e+23 1.09148576e+22 8.47263493e+20 6.57687419e+19\n",
      " 5.10531000e+18 3.96304071e+17 3.07641176e+16 2.38827325e+15\n",
      " 1.85430946e+14 1.44021045e+13 1.11951680e+12 8.72023984e+10\n",
      " 6.82693105e+09 5.41093143e+08 4.41522740e+07 3.84173981e+06\n",
      " 3.78096798e+05 4.47472739e+04 6.44142367e+03 1.07208945e+03\n",
      " 1.93489676e+02 3.62742168e+01 6.91266289e+00 1.32628103e+00\n",
      " 2.55168182e-01 4.91486846e-02 9.47175272e-03 1.82630538e-03]\n"
     ]
    },
    {
     "data": {
      "image/png": "[encoded data removed]",
      "text/plain": [
       "<Figure size 432x360 with 1 Axes>"
      ]
     },
     "metadata": {},
     "output_type": "display_data"
    }
   ],
   "source": [
    "plt.figure(figsize=(6,5),facecolor=\"white\")\n",
    "ax1 = plt.subplot(1,1,1)\n",
    "\n",
    "## Individual virus\n",
    "K = kattFromdp()\n",
    "ax1.plot(q,K,lw=3,c=\"darkgreen\",marker='o',\\\n",
    "         label=\"Single virus\\n $d_p = $\" + \"{:.1E} m\".format(dp)\\\n",
    "         + \"\\n$\\\\rho_p = $\" + \" {:.2f} g/cm³\".format(particle_density/1000)\n",
    "         + \"\\n$\\\\alpha = $\" + \" {:.1f} %\".format(alpha*100))\n",
    "\n",
    "## Miscelaneous\n",
    "ax1.set_yscale(\"log\")\n",
    "ax1.set_xscale(\"log\")\n",
    "ax1.set_ylabel(\"Attachment rate [s$^{-1}$]\")\n",
    "ax1.set_xlabel(\"Darcy velocity [m/s]\")\n",
    "#ax1.set_xlim(1.0E-5,1.0E-2)\n",
    "#ax1.set_ylim(2.0E-4,2.0E+2)\n",
    "\n",
    "## Legend\n",
    "ax1.legend(loc=\"best\",\\\n",
    "           title=\"Different flow velocity\",\\\n",
    "           title_fontsize=\"large\",\\\n",
    "           ncol=2)\n",
    "\n",
    "plt.tight_layout()\n",
    "plt.show()"
   ]
  },
  {
   "cell_type": "markdown",
   "metadata": {},
   "source": [
    "___________\n",
    "\n",
    "# Collision/Attachment efficiency"
   ]
  },
  {
   "cell_type": "markdown",
   "metadata": {},
   "source": [
    "\\begin{equation}\n",
    "    \\alpha = \n",
    "    \\dfrac{\\text{Rate at which particles attach to the collector}}\n",
    "        {\\text{Rate at which particles collide with the collector}}\n",
    "    \\quad\n",
    "    \\propto\n",
    "    \\quad\n",
    "    \\exp\\left(-|\\Phi_{max}|\\right)\n",
    "\\end{equation}    "
   ]
  },
  {
   "cell_type": "markdown",
   "metadata": {},
   "source": [
    "### Soil geochemical heterogenity\n",
    "Elimelech et al. (2000) [10.1021/es9910309](https://pubs.acs.org/doi/10.1021/es9910309)\n",
    "\n",
    "\\begin{equation}\n",
    "    \\alpha = \\lambda \n",
    "\\end{equation}\n",
    "\n",
    "- $\\lambda$ : proportion of favorable (oppositely charged) sites in the collector to total number of sites for attachment"
   ]
  },
  {
   "cell_type": "markdown",
   "metadata": {},
   "source": [
    "### Interaction Force Boundary Layer"
   ]
  },
  {
   "cell_type": "markdown",
   "metadata": {},
   "source": [
    "\\begin{equation}\n",
    "    \\alpha = \\left(\\dfrac{\\beta}{1+\\beta}\\right)S(\\beta)\n",
    "\\end{equation}\n",
    "\n",
    "\\begin{equation}\n",
    "    \\beta = \\dfrac{\\sqrt[3]{2}}{3}\\Gamma{(1/3)}A_s^{-1/3}\\left(\\dfrac{D_m}{ur_c}\\right)^{1/3}\\left(\\dfrac{K_Fr_c}{D_m}\\right)\n",
    "\\end{equation}\n",
    "\n",
    "\\begin{equation}\n",
    "    K_F = D_m \\left[\\int_0^\\infty\n",
    "        \\left( f(x,r_p) \\exp\\left(\\dfrac{\\Phi_T}{k_BT}\\right)-1\n",
    "        \\right) dx \\right]^{-1}\n",
    "\\end{equation}\n",
    "\n",
    "\\begin{equation}\n",
    "    f(x,r_p) = 1 + \\dfrac{r_p}{x}\n",
    "\\end{equation}\n"
   ]
  },
  {
   "cell_type": "markdown",
   "metadata": {},
   "source": [
    "### Maxwell Model\n",
    "\n",
    "\\begin{equation}\n",
    "    \\alpha = \\alpha_{\\rm pri} + \\alpha_{\\rm sec}\n",
    "\\end{equation}\n",
    "\n",
    "- $\\alpha_{\\rm pri}$ : attachment efficiency of particles in the primary minimum on the DLVO interaction\n",
    "- $\\alpha_{\\rm sec}$ : attachment efficiency of particles in the secondary minimum on the DLVO interaction"
   ]
  },
  {
   "cell_type": "markdown",
   "metadata": {},
   "source": [
    "\\begin{equation}\n",
    "    \\alpha_{\\rm pri} = \\int_{\\sqrt{\\Delta\\Phi}}^{\\infty}\\left[\n",
    "        \\dfrac{4}{\\sqrt{\\pi}}\\chi^2\\exp\\left(-\\chi^2\\right)\n",
    "    \\right]d\\chi\n",
    "\\end{equation}\n",
    "\n",
    "\\begin{equation}\n",
    "    \\alpha_{\\rm sec} = \\int_{0}^{\\sqrt{\\Phi_{\\rm \\sec}}}\\left[\n",
    "        \\dfrac{4}{\\sqrt{\\pi}}\\chi^2\\exp\\left(-\\chi^2\\right)\n",
    "    \\right]d\\chi\n",
    "\\end{equation}"
   ]
  },
  {
   "cell_type": "markdown",
   "metadata": {},
   "source": [
    "- $\\Phi_{\\rm sec}$ : DLVO interaction energy at the secondary minimum\n",
    "- $\\Delta\\Phi$ : Energy barrier towards the primary minimum. It is the difference between the DLVO interaction energy at the secondary minimum and the maximum\n",
    "- $\\chi$ : dimensionless kinetic energy of a particle\n",
    "\n",
    "\\begin{equation}\n",
    "    \\chi^2 = \\dfrac{m_p v^2}{2k_BT}\n",
    "\\end{equation}\n",
    "\n",
    "- $m_p$ : mass of the particle\n",
    "- $v$ : velocity of the particle (check Maxwell-Boltzmann distribution)"
   ]
  },
  {
   "cell_type": "markdown",
   "metadata": {},
   "source": [
    "\\begin{equation}\n",
    "    \\alpha = 1 - \\int_{\\sqrt{\\Phi_{\\rm sec}}}^{\\sqrt{\\Delta\\Phi}}\\left[\n",
    "        \\dfrac{4}{\\sqrt{\\pi}}\\chi^2\\exp\\left(-\\chi^2\\right)\n",
    "    \\right]d\\chi\n",
    "\\end{equation}"
   ]
  },
  {
   "cell_type": "code",
   "execution_count": null,
   "metadata": {},
   "outputs": [],
   "source": []
  }
 ],
 "metadata": {
  "kernelspec": {
   "display_name": "Python 3",
   "language": "python",
   "name": "python3"
  },
  "language_info": {
   "codemirror_mode": {
    "name": "ipython",
    "version": 3
   },
   "file_extension": ".py",
   "mimetype": "text/x-python",
   "name": "python",
   "nbconvert_exporter": "python",
   "pygments_lexer": "ipython3",
   "version": "3.8.5"
  },
  "toc": {
   "base_numbering": 1,
   "nav_menu": {},
   "number_sections": false,
   "sideBar": false,
   "skip_h1_title": false,
   "title_cell": "Table of Contents",
   "title_sidebar": "Contents",
   "toc_cell": false,
   "toc_position": {},
   "toc_section_display": false,
   "toc_window_display": false
  }
 },
 "nbformat": 4,
 "nbformat_minor": 4
}
