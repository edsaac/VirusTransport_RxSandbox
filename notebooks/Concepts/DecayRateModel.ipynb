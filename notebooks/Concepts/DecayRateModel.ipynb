{
 "cells": [
  {
   "cell_type": "code",
   "execution_count": 1,
   "metadata": {},
   "outputs": [],
   "source": [
    "%reset -f\n",
    "import numpy as np\n",
    "import matplotlib.pyplot as plt\n",
    "\n",
    "from ipywidgets import interact_manual\n",
    "import ipywidgets as wd\n",
    "\n",
    "from os import system"
   ]
  },
  {
   "cell_type": "code",
   "execution_count": 2,
   "metadata": {},
   "outputs": [],
   "source": [
    "'''Other Constants in the model'''\n",
    "LOG10DREF = 2.3\n",
    "TREF = 4.0 \n",
    "ZT = 29.1"
   ]
  },
  {
   "cell_type": "code",
   "execution_count": 3,
   "metadata": {},
   "outputs": [],
   "source": [
    "log10D = lambda T : LOG10DREF - ((T - TREF)/ZT)**2"
   ]
  },
  {
   "cell_type": "code",
   "execution_count": 4,
   "metadata": {},
   "outputs": [],
   "source": [
    "log10D_4C = log10D(10)\n"
   ]
  },
  {
   "cell_type": "code",
   "execution_count": 5,
   "metadata": {},
   "outputs": [
    {
     "name": "stdout",
     "output_type": "stream",
     "text": [
      "Time to 1-log reduction [h] = 1.8092E+02 \n",
      "                        [d] = 7.5383E+00 \n",
      "\n",
      "Time to 6-log reduction [h] = 1.0855E+03 \n",
      "                        [d] = 4.5230E+01 \n"
     ]
    }
   ],
   "source": [
    "D = np.power(10.0,log10D_4C)\n",
    "print(\"Time to 1-log reduction [h] = {0:.4E} \".format(D))\n",
    "print(\"                        [d] = {0:.4E} \".format(D/24))\n",
    "print(\"\")\n",
    "print(\"Time to 6-log reduction [h] = {0:.4E} \".format(D*6))\n",
    "print(\"                        [d] = {0:.4E} \".format(D*6/24))"
   ]
  },
  {
   "cell_type": "code",
   "execution_count": 6,
   "metadata": {},
   "outputs": [],
   "source": [
    "decayRate = np.log(10.0)/D"
   ]
  },
  {
   "cell_type": "code",
   "execution_count": 7,
   "metadata": {},
   "outputs": [
    {
     "name": "stdout",
     "output_type": "stream",
     "text": [
      "decay Rate [1/h] = 1.27E-02 \n",
      "           [1/d] = 3.05E-01 \n",
      "           [1/s] = 3.5353E-06 \n"
     ]
    }
   ],
   "source": [
    "print(\"decay Rate [1/h] = {0:.2E} \".format(decayRate))\n",
    "print(\"           [1/d] = {0:.2E} \".format(decayRate*24))\n",
    "print(\"           [1/s] = {0:.4E} \".format(decayRate/3600))"
   ]
  },
  {
   "cell_type": "code",
   "execution_count": null,
   "metadata": {},
   "outputs": [],
   "source": []
  },
  {
   "cell_type": "code",
   "execution_count": null,
   "metadata": {},
   "outputs": [],
   "source": []
  }
 ],
 "metadata": {
  "kernelspec": {
   "display_name": "Python 3",
   "language": "python",
   "name": "python3"
  },
  "language_info": {
   "codemirror_mode": {
    "name": "ipython",
    "version": 3
   },
   "file_extension": ".py",
   "mimetype": "text/x-python",
   "name": "python",
   "nbconvert_exporter": "python",
   "pygments_lexer": "ipython3",
   "version": "3.8.5"
  }
 },
 "nbformat": 4,
 "nbformat_minor": 4
}
