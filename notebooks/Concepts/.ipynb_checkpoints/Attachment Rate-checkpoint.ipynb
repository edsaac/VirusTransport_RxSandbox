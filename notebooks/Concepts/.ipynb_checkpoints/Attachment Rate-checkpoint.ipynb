{
 "cells": [
  {
   "cell_type": "markdown",
   "metadata": {},
   "source": [
    "**This functions have been moved to jupypft.attachmentRateCFT**"
   ]
  },
  {
   "cell_type": "code",
   "execution_count": 45,
   "metadata": {},
   "outputs": [],
   "source": [
    "%reset -f\n",
    "import numpy as np\n",
    "import matplotlib.pyplot as plt\n",
    "\n",
    "from ipywidgets import interact_manual\n",
    "import ipywidgets as wd\n",
    "\n",
    "from os import system\n",
    "\n",
    "''' GLOBAL CONSTANTS '''\n",
    "PI = 3.141592\n",
    "BOLTZMANN = 1.380649E-23 #N·m/K\n",
    "TEMP = 10 + 273.15 #K\n",
    "g = 9.81 #m/s²"
   ]
  },
  {
   "cell_type": "markdown",
   "metadata": {},
   "source": [
    "# Calculate the attachment coefficient via filtration theory\n",
    "\n",
    "## Our model:\n",
    "\n",
    "\\begin{equation}\n",
    "\\begin{array}{rr}\n",
    "    \\dfrac{\\partial C}{\\partial t} + \\dfrac{1}{\\theta}\\:\\vec{q} \\cdot \\nabla C  - \\nabla \\cdot (D_T\\nabla C) =& - k_{\\rm att}C + \\dfrac{1}{\\theta}k_{\\rm det}S -\\lambda_{\\rm aq} C\\\\\n",
    "    \\\\\n",
    "    \\dfrac{1}{\\theta}\\dfrac{\\partial S}{\\partial t} =& k_{\\rm att}C - \\dfrac{1}{\\theta}k_{\\rm det}S -\\lambda_{\\rm im} S\\\\\n",
    "\\end{array}\n",
    "\\end{equation}\n",
    "\n",
    "**Concentrations**\n",
    "- $C$ : concentration of infective viruses in the water phase\n",
    "- $S$ : concentration of infective viruses attached to the solid phase\n",
    "\n",
    "**Reaction rates**\n",
    "- $k_{\\rm att}$ : attachment rate (C -> S)\n",
    "- $k_{\\rm det}$ : detachment rate (S -> C)\n",
    "- $\\lambda_{\\rm aq}$ : decay rate while in aqueous phase (C -> X)\n",
    "- $\\lambda_{\\rm im}$ : decay rate while attached to solid phase (S -> X)\n",
    "\n",
    "**Advection/diffusion parameters**\n",
    "- $\\vec{q}$ : darcy velocity\n",
    "- $t$ : time\n",
    "- $\\theta$ : porosity\n",
    "- $D_T$ : Dispersion coefficient"
   ]
  },
  {
   "cell_type": "markdown",
   "metadata": {},
   "source": [
    "### Dispersion coefficient $D_T$\n",
    "\n",
    "$ D_T = D_m + \\alpha_LU^n $\n",
    "\n",
    "- $D_m$ : molecular diffusion coefficient\n",
    "- $\\alpha_L$ : longitudinal dispersion coefficient\n",
    "- $U$ : intersticial flow velocity\n",
    "- $n$ : empirical fitting exponent\n",
    "\n",
    "*Neglecting transversal dispersion*b"
   ]
  },
  {
   "cell_type": "code",
   "execution_count": 46,
   "metadata": {},
   "outputs": [],
   "source": [
    "def dispCoef(D_m,alpha_L,U,n=1.0): \n",
    "    return D_m + alpha_L*(U**n)"
   ]
  },
  {
   "cell_type": "markdown",
   "metadata": {},
   "source": [
    "### Intersticial flow velocity $U$\n",
    "\n",
    "Pore-water velocity from the darcy velocity:\n",
    "\n",
    "$\\vec{U} = \\dfrac{\\vec{q}}{\\theta}$"
   ]
  },
  {
   "cell_type": "code",
   "execution_count": 47,
   "metadata": {},
   "outputs": [],
   "source": [
    "def poreVel(q,theta): \n",
    "    return q/theta"
   ]
  },
  {
   "cell_type": "markdown",
   "metadata": {},
   "source": [
    "### Molecular diffusion coefficient $D_m$\n",
    "\n",
    "From the Stokes-Einstein equation:\n",
    "\n",
    "$D_m = \\dfrac{k_BT}{3\\pi\\eta d_p}$\n",
    "\n",
    "- $T$ : Temperature\n",
    "- $k_B$ : Boltzmann constant\n",
    "- $\\eta$ : water dynamic viscosity\n",
    "- $d_p$ : (virus) particle diameter\n",
    "_____"
   ]
  },
  {
   "cell_type": "code",
   "execution_count": 48,
   "metadata": {},
   "outputs": [],
   "source": [
    "def molecularDiff(visco,dp): \n",
    "    return (BOLTZMANN*TEMP)/(3*PI*visco*dp)"
   ]
  },
  {
   "cell_type": "markdown",
   "metadata": {},
   "source": [
    "## Attachment rate coefficient: $k_{\\rm att}$\n",
    "\n",
    "\\begin{equation}\n",
    "    k_{\\rm att} = \\dfrac{3 }{2d}(1-\\theta)\\alpha||\\vec{U}||\\eta_0\n",
    "\\end{equation}\n",
    "\n",
    "- $d$ : collector diameter (soil grain size)\n",
    "- $\\alpha$ : collision/attachment efficiency\n",
    "- $\\eta_0$ : collector efficiency"
   ]
  },
  {
   "cell_type": "code",
   "execution_count": 49,
   "metadata": {},
   "outputs": [],
   "source": [
    "def attachmentRate(dc,theta,alpha,U,eta0): \n",
    "    return (3*(1-theta)*alpha*U*eta0)/(2*dc)"
   ]
  },
  {
   "cell_type": "markdown",
   "metadata": {},
   "source": [
    "### Collision/attachment efficiency $\\alpha$\n",
    "\n",
    "\\begin{equation}\n",
    "    \\alpha = \n",
    "    \\dfrac{\\text{Rate at which particles attach to the collector}}\n",
    "        {\\text{Rate at which particles collide with the collector}}\n",
    "\\end{equation}\n",
    "\n",
    "$\\alpha = 1.0$ for **favorable attachment conditions**, e.g., opposed electrostatic charges between the collector (soil grains) and the particles.\n",
    "\n",
    "For **infavorable conditions** such as the movement of viruses in soils, $\\alpha < 1.0$. In these cases, it will be dependant of the isoelectric point of the particles and the soil matrix. "
   ]
  },
  {
   "cell_type": "markdown",
   "metadata": {},
   "source": [
    "### The collector efficiency: $\\eta_0$"
   ]
  },
  {
   "cell_type": "markdown",
   "metadata": {},
   "source": [
    "$\n",
    "    \\eta_0 = \\overbrace{\\eta_{\\rm D}}^\\text{Diffusion} + \\underbrace{\\eta_{\\rm I}}_\\text{Interception} + \\overbrace{\\eta_{\\rm G}}^\\text{Grav. deposition}\n",
    "$"
   ]
  },
  {
   "cell_type": "code",
   "execution_count": 50,
   "metadata": {},
   "outputs": [],
   "source": [
    "def collectorEff(etaD,etaI,etaG):\n",
    "    return etaD + etaI + etaG"
   ]
  },
  {
   "cell_type": "markdown",
   "metadata": {},
   "source": [
    "Each term is approximated by Tufenkji & Elimelech (2004) [\\[10.1021/es034049r\\]](https://pubs.acs.org/doi/10.1021/es034049r):\n",
    "\n",
    "$\n",
    "\\begin{array}{rl}\n",
    "    \\eta_{\\rm D} =& 2.4 A_s^{1/3}N_{\\rm R}^{-0.081}N_{\\rm Pe}^{-0.715}N_{\\rm vdW}^{0.052}\\\\\n",
    "    \\\\\n",
    "    \\eta_{\\rm I} =& 0.55 A_sN_{\\rm R}^{1.55}N_{\\rm Pe}^{-0.125}N_{\\rm vdW}^{0.125}\\\\\n",
    "    \\\\\n",
    "    \\eta_{\\rm G} =& 0.475 N_{\\rm gr}^{1.11} N_{\\rm R}^{-1.35}N_{\\rm Pe}^{-1.11}N_{\\rm vdW}^{0.053}\\\\\n",
    "\\end{array}\n",
    "$"
   ]
  },
  {
   "cell_type": "code",
   "execution_count": 51,
   "metadata": {},
   "outputs": [],
   "source": [
    "def collectorEfficiency_Diffusion(A_s,N_R,N_Pe,N_vdW):\n",
    "    return 2.40 * (A_s**(1./3.)) * (N_R**-0.081) * (N_Pe**-0.715) * (N_vdW**0.052)\n",
    "\n",
    "def collectorEfficiency_Interception(A_s,N_R,N_Pe,N_vdW):\n",
    "    return 0.55 * A_s * (N_R**1.55) * (N_Pe**-0.125) * (N_vdW**0.125)\n",
    "\n",
    "def collectorEfficiency_GDeposition(N_gr,N_R,N_Pe,N_vdW):\n",
    "    return 0.475 * (N_gr**1.11)   * (N_R**-1.35)  * (N_Pe**-1.11)  * (N_vdW**0.053)"
   ]
  },
  {
   "cell_type": "markdown",
   "metadata": {},
   "source": [
    "All these collector efficiencies come from **non-dimensional numbers** that defined as follows:\n",
    "\n",
    "- $\n",
    "\\begin{array}{lcl}\n",
    "    A_s = \\dfrac{2(1-s^{5/3})}{2-3s^{1/3}+3s^{5/3}-2s^2} &\\quad& s = 1-\\theta\n",
    "\\end{array}\n",
    "$"
   ]
  },
  {
   "cell_type": "code",
   "execution_count": 52,
   "metadata": {},
   "outputs": [],
   "source": [
    "def happelParameter(theta):\n",
    "    s = 1-theta\n",
    "    s53 = s**(5./3.)\n",
    "    s13 = s**(1./3.)\n",
    "    s21 = s**2\n",
    "    return (2*(1-s53))/(2 - (3*s13) + (3*s53) - (2*s21))"
   ]
  },
  {
   "cell_type": "markdown",
   "metadata": {},
   "source": [
    "**Size ratio:**\n",
    "\n",
    "- $N_{\\rm R} = \\dfrac{d_p}{d}$"
   ]
  },
  {
   "cell_type": "code",
   "execution_count": 60,
   "metadata": {},
   "outputs": [],
   "source": [
    " def noDim_SizeRatio(dp,dc):\n",
    "    return dp/dc"
   ]
  },
  {
   "cell_type": "markdown",
   "metadata": {},
   "source": [
    "**Péclet number:**\n",
    "\n",
    "- $N_{\\rm Pe} = \\dfrac{qd}{D_m}$"
   ]
  },
  {
   "cell_type": "code",
   "execution_count": 61,
   "metadata": {},
   "outputs": [],
   "source": [
    "def noDim_Péclet(q,dc,Dm):\n",
    "     return q*dc/Dm"
   ]
  },
  {
   "cell_type": "markdown",
   "metadata": {},
   "source": [
    "**van der Waals number:**\n",
    "\n",
    "- $N_{\\rm vdW} = \\dfrac{A}{k_BT}$"
   ]
  },
  {
   "cell_type": "code",
   "execution_count": 62,
   "metadata": {},
   "outputs": [],
   "source": [
    "def noDim_vanderWaals(A):\n",
    "    return A/(BOLTZMANN*TEMP)"
   ]
  },
  {
   "cell_type": "markdown",
   "metadata": {},
   "source": [
    "**Gravitational number:**\n",
    "\n",
    "- $N_{\\rm gr} = \\dfrac{4\\pi r_p^4 (\\rho_p - \\rho_f)g}{3k_BT} = \\dfrac{\\pi d_p^4 (\\rho_p - \\rho_f)g}{12k_BT}$"
   ]
  },
  {
   "cell_type": "code",
   "execution_count": 63,
   "metadata": {},
   "outputs": [],
   "source": [
    "def noDim_Gravitational(dp,rhof,rhop):\n",
    "    return (PI*(dp**4)*(rhop-rhof)*g)/(12.*BOLTZMANN*TEMP)"
   ]
  },
  {
   "cell_type": "markdown",
   "metadata": {},
   "source": [
    "_________\n",
    "\n",
    "# Attachment rate $k_{\\rm att}$ as a function of particle size"
   ]
  },
  {
   "cell_type": "code",
   "execution_count": 64,
   "metadata": {},
   "outputs": [],
   "source": [
    "'''CASE CONSTANTS'''\n",
    "#Porosity\n",
    "theta = 0.37 # adim\n",
    "\n",
    "#Collector diameter\n",
    "dc = 2.0E-3 # 2mm << sand\n",
    "\n",
    "#Hamaker constant\n",
    "A = 5.0E-21 # J = N·m\n",
    "\n",
    "#Water dynamic viscosity\n",
    "viscosity = 0.0008891 # N·s/m²\n",
    "\n",
    "#Densities\n",
    "water_density = 999.79 # kg/m³\n",
    "particle_density = 1050.0 # kg/m³ \n",
    "\n",
    "#Collision/attachment efficiency\n",
    "alpha = 1.00 # adim << favorable conditions\n",
    "\n",
    "#Darcy flow velocity\n",
    "q = 7.585E-01 #cm/h\n",
    "q = q/100./3600 # m/s \n",
    "q = 1.0E-20"
   ]
  },
  {
   "cell_type": "code",
   "execution_count": 65,
   "metadata": {},
   "outputs": [],
   "source": [
    "def kattFromdp(dp):\n",
    "\n",
    "    #Molecular diffusion\n",
    "    Dm  = molecularDiff(viscosity,dp)\n",
    "    \n",
    "    #Pore water velocity\n",
    "    U   = poreVel(q,theta)\n",
    "    \n",
    "    #Non-dimensional numbers\n",
    "    As  = happelParameter(theta)\n",
    "    NR  = noDim_SizeRatio(dp,dc)\n",
    "    NPe = noDim_Péclet(q,dc,Dm)\n",
    "    NvW = noDim_vanderWaals(A)\n",
    "    NGr = noDim_Gravitational(dp,water_density,particle_density)\n",
    "    \n",
    "    #Collector efficiency\n",
    "    etaD = collectorEfficiency_Diffusion(As,NR,NPe,NvW)\n",
    "    etaI = collectorEfficiency_Interception(As,NR,NPe,NvW)\n",
    "    etaG = collectorEfficiency_GDeposition(NGr,NR,NPe,NvW)\n",
    "    eta0 = collectorEff(etaD,etaI,etaG)\n",
    "    \n",
    "    #Attachment rate\n",
    "    kAtt = attachmentRate(dc,theta,alpha,U,eta0)\n",
    "     \n",
    "    #Print report\n",
    "    if(True):\n",
    "        print(\"Diffusion coeff:  {0:.4E}\".format(Dm))\n",
    "        print(\"Darcy velocity:   {0:.4E}\".format(q))\n",
    "        print(\"Pore-water vel:   {0:.4E}\".format(U))\n",
    "        print(\"---\")\n",
    "        print(\"Happel parameter: {0:.4E}\".format(As))\n",
    "        print(\"NR number:        {0:.4E}\".format(NR))\n",
    "        print(\"NPe number:       {0:.4E}\".format(NPe))\n",
    "        print(\"NvW number:       {0:.4E}\".format(NvW))\n",
    "        print(\"NGr number:       {0:.4E}\".format(NGr))\n",
    "        print(\"---\")\n",
    "        print(\"etaD collector:   {0:.4E}\".format(etaD))\n",
    "        print(\"etaI collector:   {0:.4E}\".format(etaI))\n",
    "        print(\"etaG collector:   {0:.4E}\".format(etaG))\n",
    "        print(\"eta0 collector:   {0:.4E}\".format(eta0))\n",
    "        print(\"---\")\n",
    "        print(\"Attach rate   :   {0:.4E}\".format(kAtt))\n",
    "\n",
    "    return kAtt"
   ]
  },
  {
   "cell_type": "markdown",
   "metadata": {},
   "source": [
    "## Calculator for a single particle size value"
   ]
  },
  {
   "cell_type": "code",
   "execution_count": 66,
   "metadata": {},
   "outputs": [
    {
     "data": {
      "application/vnd.jupyter.widget-view+json": {
       "model_id": "a66f8facaa014e1bbbff4a0cdf614a20",
       "version_major": 2,
       "version_minor": 0
      },
      "text/plain": [
       "interactive(children=(FloatLogSlider(value=1e-07, description='Part. size [m]', max=-2.0, min=-9.0), Button(de…"
      ]
     },
     "metadata": {},
     "output_type": "display_data"
    },
    {
     "name": "stdout",
     "output_type": "stream",
     "text": [
      "DONE\n"
     ]
    }
   ],
   "source": [
    "dpSlider = wd.FloatLogSlider(value=100.0E-9,base=10.,min=-9,max=-2,description=\"Part. size [m]\")\n",
    "interact_manual(kattFromdp,dp=dpSlider);\n",
    "print(\"DONE\")"
   ]
  },
  {
   "cell_type": "markdown",
   "metadata": {},
   "source": [
    "## Plot particle size v. attachment rate "
   ]
  },
  {
   "cell_type": "code",
   "execution_count": null,
   "metadata": {
    "scrolled": false
   },
   "outputs": [],
   "source": [
    "dp = np.power(10.,np.arange(-9,-2,0.2))\n",
    "dc = 2.0E-3 # 2mm << sand\n",
    "\n",
    "dpVirus = [60.0E-9, 140.0E-9] #Measured sarscov2\n",
    "dpFloc = 10.0E-6 #A floc?\n",
    "\n",
    "plt.figure(figsize=(6,5),facecolor=\"white\")\n",
    "ax1 = plt.subplot(1,1,1)\n",
    "## Efficiency 100%\n",
    "alpha = 1.00\n",
    "K = kattFromdp(dp)\n",
    "ax1.plot(dp,K,lw=3,c=\"gray\",\\\n",
    "         label=\"$\\\\alpha = $\"+\"{:.1f}%\".format(alpha*100))\n",
    "## Different efficiencies\n",
    "alpha = 0.15\n",
    "K = kattFromdp(dp)\n",
    "ax1.plot(dp,K,lw=3,c=\"purple\",\\\n",
    "         label=\"$\\\\alpha = $\"+\"{:.1f}%\".format(alpha*100))\n",
    "\n",
    "alpha = 0.015\n",
    "K = kattFromdp(dp)\n",
    "ax1.plot(dp,K,lw=3,c=\"blue\",\\\n",
    "         label=\"$\\\\alpha = $\"+\"{:.1f}%\".format(alpha*100))\n",
    "\n",
    "## Vertical lines\n",
    "ax1.axvline(x=dpFloc,\\\n",
    "            label=\"A 10μm floc\",\\\n",
    "            ls=\"dashed\",lw=1,c=\"purple\")\n",
    "\n",
    "## Vertical spans\n",
    "ax1.axvspan(dpVirus[0],dpVirus[1],\\\n",
    "            label=\"SARS-CoV-2 size\",\\\n",
    "            color=\"orange\",alpha=0.10)\n",
    "\n",
    "\n",
    "## Miscelaneous\n",
    "ax1.set_yscale(\"log\")\n",
    "ax1.set_xscale(\"log\")\n",
    "ax1.set_ylabel(\"Attachment rate [s$^{-1}$]\")\n",
    "ax1.set_xlabel(\"Particle size [m]\")\n",
    "ax1.set_xlim(1.0E-9,5.0E-3)\n",
    "ax1.set_ylim(2.0E-4,2.0E+2)\n",
    "\n",
    "## Legend\n",
    "ax1.legend(loc=\"best\",\\\n",
    "           title=\"$d_c = $\" + \"{:.1E} m\".format(dc),\\\n",
    "           title_fontsize=\"large\")\n",
    "\n",
    "plt.tight_layout()\n",
    "plt.show()"
   ]
  },
  {
   "cell_type": "markdown",
   "metadata": {},
   "source": [
    "## Plot collector size v. attachment rate "
   ]
  },
  {
   "cell_type": "code",
   "execution_count": null,
   "metadata": {
    "scrolled": false
   },
   "outputs": [],
   "source": [
    "dc = np.power(10.,np.arange(-5,0,0.2))\n",
    "dp = 100.0E-9 #A sarscov2?\n",
    "\n",
    "plt.figure(figsize=(6,5),facecolor=\"white\")\n",
    "ax1 = plt.subplot(1,1,1)\n",
    "## Efficiency 100%\n",
    "alpha = 1.00\n",
    "K = kattFromdp(dp)\n",
    "ax1.plot(dc,K,lw=3,c=\"gray\",\\\n",
    "         label=\"$\\\\alpha = $\"+\"{:.1f}%\".format(alpha*100))\n",
    "## Different efficiencies\n",
    "alpha = 0.15\n",
    "K = kattFromdp(dp)\n",
    "ax1.plot(dc,K,lw=3,c=\"purple\",\\\n",
    "         label=\"$\\\\alpha = $\"+\"{:.1f}%\".format(alpha*100))\n",
    "\n",
    "alpha = 0.015\n",
    "K = kattFromdp(dp)\n",
    "ax1.plot(dc,K,lw=3,c=\"blue\",\\\n",
    "         label=\"$\\\\alpha = $\"+\"{:.1f}%\".format(alpha*100))\n",
    "\n",
    "## Miscelaneous\n",
    "ax1.set_yscale(\"log\")\n",
    "ax1.set_xscale(\"log\")\n",
    "ax1.set_ylabel(\"Attachment rate [s$^{-1}$]\")\n",
    "ax1.set_xlabel(\"Collector size [m]\")\n",
    "ax1.set_xlim(1.0E-5,1.0E-2)\n",
    "ax1.set_ylim(2.0E-4,2.0E+2)\n",
    "\n",
    "## Legend\n",
    "ax1.legend(loc=\"best\",\\\n",
    "           title=\"$d_p = $\" + \"{:.1E} m\".format(dp),\\\n",
    "           title_fontsize=\"large\")\n",
    "\n",
    "plt.tight_layout()\n",
    "plt.show()"
   ]
  },
  {
   "cell_type": "code",
   "execution_count": null,
   "metadata": {},
   "outputs": [],
   "source": []
  },
  {
   "cell_type": "markdown",
   "metadata": {},
   "source": [
    "## Plot collector size v. attachment rate "
   ]
  },
  {
   "cell_type": "code",
   "execution_count": null,
   "metadata": {
    "scrolled": false
   },
   "outputs": [],
   "source": [
    "dc = np.power(10.,np.arange(-5,0,0.2))\n",
    "\n",
    "plt.figure(figsize=(6,5),facecolor=\"white\")\n",
    "ax1 = plt.subplot(1,1,1)\n",
    "\n",
    "## Individual virus\n",
    "alpha = 1.00\n",
    "dp = 100.0E-9 #A sarscov2\n",
    "particle_density=1400\n",
    "K = kattFromdp(dp)\n",
    "ax1.plot(dc,K,lw=3,c=\"gray\",\\\n",
    "         label=\"Single virus\\n $d_p = $\" + \"{:.1E} m\".format(dp)\\\n",
    "         + \"\\n$\\\\rho_p = $\" + \" {:.2f} g/cm³\".format(particle_density/1000))\n",
    "\n",
    "dp = 10.0E-6 #A biomass floc\n",
    "particle_density=1050\n",
    "K = kattFromdp(dp)\n",
    "ax1.plot(dc,K,lw=3,c=\"purple\",\\\n",
    "         label=\"Floc\\n $d_p = $\" + \"{:.1E} m\".format(dp)\\\n",
    "         + \"\\n$\\\\rho_p = $\" + \" {:.2f} g/cm³\".format(particle_density/1000))\n",
    "\n",
    "## Individual virus\n",
    "alpha = 0.15\n",
    "dp = 100.0E-9 #A sarscov2\n",
    "particle_density=1400\n",
    "K = kattFromdp(dp)\n",
    "ax1.plot(dc,K,lw=2,c=\"gray\",ls='dashed')\n",
    "\n",
    "dp = 10.0E-6 #A biomass floc\n",
    "particle_density=1050\n",
    "K = kattFromdp(dp)\n",
    "ax1.plot(dc,K,lw=2,c=\"purple\",ls='dashed')\n",
    "\n",
    "\n",
    "## Miscelaneous\n",
    "ax1.set_yscale(\"log\")\n",
    "ax1.set_xscale(\"log\")\n",
    "ax1.set_ylabel(\"Attachment rate [s$^{-1}$]\")\n",
    "ax1.set_xlabel(\"Collector size [m]\")\n",
    "ax1.set_xlim(1.0E-5,1.0E-2)\n",
    "ax1.set_ylim(2.0E-4,2.0E+2)\n",
    "\n",
    "## Legend\n",
    "ax1.legend(loc=\"best\",\\\n",
    "           title=\"Different particle types\",\\\n",
    "           title_fontsize=\"large\",\\\n",
    "           ncol=2)\n",
    "\n",
    "plt.tight_layout()\n",
    "plt.show()"
   ]
  },
  {
   "cell_type": "code",
   "execution_count": null,
   "metadata": {
    "scrolled": true
   },
   "outputs": [],
   "source": [
    "dc = np.power(10.,np.arange(-5,0,0.2))\n",
    "\n",
    "plt.figure(figsize=(6,5),facecolor=\"white\")\n",
    "ax1 = plt.subplot(1,1,1)\n",
    "\n",
    "## Individual virus\n",
    "alpha = 0.01 #Over SiO2\n",
    "dp = 100.0E-9 #A sarscov2\n",
    "particle_density=1400\n",
    "K = kattFromdp(dp)\n",
    "ax1.plot(dc,K,lw=3,c=\"darkgreen\",\\\n",
    "         label=\"Single virus\\n $d_p = $\" + \"{:.1E} m\".format(dp)\\\n",
    "         + \"\\n$\\\\rho_p = $\" + \" {:.2f} g/cm³\".format(particle_density/1000)\n",
    "         + \"\\n$\\\\alpha = $\" + \" {:.1f} %\".format(alpha*100))\n",
    "\n",
    "## A sand colloid\n",
    "alpha = 0.32 #Check ren & packman - 2000\n",
    "dp = 137.0E-6 #A #100 sand colloid\n",
    "particle_density=1050\n",
    "K = kattFromdp(dp)\n",
    "ax1.plot(dc,K,lw=3,c=\"purple\",\\\n",
    "         label=\"Sand colloid\\n $d_p = $\" + \"{:.1E} m\".format(dp)\\\n",
    "         + \"\\n$\\\\rho_p = $\" + \" {:.2f} g/cm³\".format(particle_density/1000)\n",
    "         + \"\\n$\\\\alpha = $\" + \" {:.1f} %\".format(alpha*100))\n",
    "\n",
    "## Miscelaneous\n",
    "ax1.set_yscale(\"log\")\n",
    "ax1.set_xscale(\"log\")\n",
    "ax1.set_ylabel(\"Attachment rate [s$^{-1}$]\")\n",
    "ax1.set_xlabel(\"Collector size [m]\")\n",
    "ax1.set_xlim(1.0E-5,1.0E-2)\n",
    "ax1.set_ylim(2.0E-4,2.0E+2)\n",
    "\n",
    "## Legend\n",
    "ax1.legend(loc=\"best\",\\\n",
    "           title=\"Different particle types\",\\\n",
    "           title_fontsize=\"large\",\\\n",
    "           ncol=2)\n",
    "\n",
    "plt.tight_layout()\n",
    "plt.show()"
   ]
  },
  {
   "cell_type": "markdown",
   "metadata": {},
   "source": [
    "### Flow velocity v. attachment rate"
   ]
  },
  {
   "cell_type": "code",
   "execution_count": null,
   "metadata": {},
   "outputs": [],
   "source": [
    "'''CASE CONSTANTS'''\n",
    "#Porosity\n",
    "theta = 0.37 # adim\n",
    "\n",
    "#Collector diameter\n",
    "dc = 2.0E-3 # 2mm << sand\n",
    "\n",
    "#Particle diameter\n",
    "dp = 1.0E-7 # 100nm << particle\n",
    "\n",
    "#Hamaker constant\n",
    "A = 5.0E-21 # J = N·m\n",
    "\n",
    "#Water dynamic viscosity\n",
    "viscosity = 0.0008891 # N·s/m²\n",
    "\n",
    "#Densities\n",
    "water_density = 997.05 # kg/m³\n",
    "particle_density = 1050.0 # kg/m³ \n",
    "\n",
    "#Collision/attachment efficiency\n",
    "alpha = 1.00 # adim << favorable conditions\n",
    "\n",
    "#Darcy flow velocity\n",
    "q = np.power(10.,np.arange(-50,-2,1)) # 0.0001 # m/s "
   ]
  },
  {
   "cell_type": "code",
   "execution_count": null,
   "metadata": {},
   "outputs": [],
   "source": [
    "def kattFromdp():\n",
    "\n",
    "    #Molecular diffusion\n",
    "    Dm  = molecularDiff(viscosity,dp)\n",
    "    \n",
    "    #Pore water velocity\n",
    "    U   = poreVel(q,theta)\n",
    "\n",
    "    #Non-dimensional numbers\n",
    "    As  = happelParameter(theta)\n",
    "    NR  = noDim_SizeRatio(dp,dc)\n",
    "    NPe = noDim_Péclet(q,dc,Dm)\n",
    "    NvW = noDim_vanderWaals(A)\n",
    "    NGr = noDim_Gravitational(dp,water_density,particle_density)\n",
    "    \n",
    "    #Collector efficiency\n",
    "    etaD = collectorEfficiency_Diffusion(As,NR,NPe,NvW)\n",
    "    etaI = collectorEfficiency_Interception(As,NR,NPe,NvW)\n",
    "    etaG = collectorEfficiency_GDeposition(NGr,NR,NPe,NvW)\n",
    "    eta0 = collectorEff(etaD,etaI,etaG)\n",
    "    \n",
    "    #Attachment rate\n",
    "    kAtt = attachmentRate(dc,theta,alpha,U,eta0)\n",
    "    \n",
    "    #Print report\n",
    "    if(True):\n",
    "        print(\"Molecular diffusion coef:\",Dm)\n",
    "        print(\"Darcy velocity:          \",q)\n",
    "        print(\"Pore-water velocity:     \",U)\n",
    "        print(\"\\n\")\n",
    "        print(\"Happel parameter:\",As)\n",
    "        print(\"NR number:       \",NR)\n",
    "        print(\"NPe number:      \",NPe)\n",
    "        print(\"NvW number:      \",NvW)\n",
    "        print(\"NGr number:      \",NGr)\n",
    "        print(\"\\n\")\n",
    "        print(\"etaD collector:  \",etaD)\n",
    "        print(\"etaI collector:  \",etaI)\n",
    "        print(\"etaG collector:  \",etaG)\n",
    "        print(\"eta0 collector:  \",eta0)\n",
    "        \n",
    "    return kAtt"
   ]
  },
  {
   "cell_type": "code",
   "execution_count": null,
   "metadata": {
    "scrolled": false
   },
   "outputs": [],
   "source": [
    "plt.figure(figsize=(6,5),facecolor=\"white\")\n",
    "ax1 = plt.subplot(1,1,1)\n",
    "\n",
    "## Individual virus\n",
    "K = kattFromdp()\n",
    "ax1.plot(q,K,lw=3,c=\"darkgreen\",marker='o',\\\n",
    "         label=\"Single virus\\n $d_p = $\" + \"{:.1E} m\".format(dp)\\\n",
    "         + \"\\n$\\\\rho_p = $\" + \" {:.2f} g/cm³\".format(particle_density/1000)\n",
    "         + \"\\n$\\\\alpha = $\" + \" {:.1f} %\".format(alpha*100))\n",
    "\n",
    "## Miscelaneous\n",
    "ax1.set_yscale(\"log\")\n",
    "ax1.set_xscale(\"log\")\n",
    "ax1.set_ylabel(\"Attachment rate [s$^{-1}$]\")\n",
    "ax1.set_xlabel(\"Darcy velocity [m/s]\")\n",
    "#ax1.set_xlim(1.0E-5,1.0E-2)\n",
    "#ax1.set_ylim(2.0E-4,2.0E+2)\n",
    "\n",
    "## Legend\n",
    "ax1.legend(loc=\"best\",\\\n",
    "           title=\"Different flow velocity\",\\\n",
    "           title_fontsize=\"large\",\\\n",
    "           ncol=2)\n",
    "\n",
    "plt.tight_layout()\n",
    "plt.show()"
   ]
  },
  {
   "cell_type": "markdown",
   "metadata": {},
   "source": [
    "___________\n",
    "\n",
    "# Collision/Attachment efficiency"
   ]
  },
  {
   "cell_type": "markdown",
   "metadata": {},
   "source": [
    "\\begin{equation}\n",
    "    \\alpha = \n",
    "    \\dfrac{\\text{Rate at which particles attach to the collector}}\n",
    "        {\\text{Rate at which particles collide with the collector}}\n",
    "    \\quad\n",
    "    \\propto\n",
    "    \\quad\n",
    "    \\exp\\left(-|\\Phi_{max}|\\right)\n",
    "\\end{equation}    "
   ]
  },
  {
   "cell_type": "markdown",
   "metadata": {},
   "source": [
    "### Soil geochemical heterogenity\n",
    "Elimelech et al. (2000) [10.1021/es9910309](https://pubs.acs.org/doi/10.1021/es9910309)\n",
    "\n",
    "\\begin{equation}\n",
    "    \\alpha = \\lambda \n",
    "\\end{equation}\n",
    "\n",
    "- $\\lambda$ : proportion of favorable (oppositely charged) sites in the collector to total number of sites for attachment"
   ]
  },
  {
   "cell_type": "markdown",
   "metadata": {},
   "source": [
    "### Interaction Force Boundary Layer"
   ]
  },
  {
   "cell_type": "markdown",
   "metadata": {},
   "source": [
    "\\begin{equation}\n",
    "    \\alpha = \\left(\\dfrac{\\beta}{1+\\beta}\\right)S(\\beta)\n",
    "\\end{equation}\n",
    "\n",
    "\\begin{equation}\n",
    "    \\beta = \\dfrac{\\sqrt[3]{2}}{3}\\Gamma{(1/3)}A_s^{-1/3}\\left(\\dfrac{D_m}{ur_c}\\right)^{1/3}\\left(\\dfrac{K_Fr_c}{D_m}\\right)\n",
    "\\end{equation}\n",
    "\n",
    "\\begin{equation}\n",
    "    K_F = D_m \\left[\\int_0^\\infty\n",
    "        \\left( f(x,r_p) \\exp\\left(\\dfrac{\\Phi_T}{k_BT}\\right)-1\n",
    "        \\right) dx \\right]^{-1}\n",
    "\\end{equation}\n",
    "\n",
    "\\begin{equation}\n",
    "    f(x,r_p) = 1 + \\dfrac{r_p}{x}\n",
    "\\end{equation}\n"
   ]
  },
  {
   "cell_type": "markdown",
   "metadata": {},
   "source": [
    "### Maxwell Model\n",
    "\n",
    "\\begin{equation}\n",
    "    \\alpha = \\alpha_{\\rm pri} + \\alpha_{\\rm sec}\n",
    "\\end{equation}\n",
    "\n",
    "- $\\alpha_{\\rm pri}$ : attachment efficiency of particles in the primary minimum on the DLVO interaction\n",
    "- $\\alpha_{\\rm sec}$ : attachment efficiency of particles in the secondary minimum on the DLVO interaction"
   ]
  },
  {
   "cell_type": "markdown",
   "metadata": {},
   "source": [
    "\\begin{equation}\n",
    "    \\alpha_{\\rm pri} = \\int_{\\sqrt{\\Delta\\Phi}}^{\\infty}\\left[\n",
    "        \\dfrac{4}{\\sqrt{\\pi}}\\chi^2\\exp\\left(-\\chi^2\\right)\n",
    "    \\right]d\\chi\n",
    "\\end{equation}\n",
    "\n",
    "\\begin{equation}\n",
    "    \\alpha_{\\rm sec} = \\int_{0}^{\\sqrt{\\Phi_{\\rm \\sec}}}\\left[\n",
    "        \\dfrac{4}{\\sqrt{\\pi}}\\chi^2\\exp\\left(-\\chi^2\\right)\n",
    "    \\right]d\\chi\n",
    "\\end{equation}"
   ]
  },
  {
   "cell_type": "markdown",
   "metadata": {},
   "source": [
    "- $\\Phi_{\\rm sec}$ : DLVO interaction energy at the secondary minimum\n",
    "- $\\Delta\\Phi$ : Energy barrier towards the primary minimum. It is the difference between the DLVO interaction energy at the secondary minimum and the maximum\n",
    "- $\\chi$ : dimensionless kinetic energy of a particle\n",
    "\n",
    "\\begin{equation}\n",
    "    \\chi^2 = \\dfrac{m_p v^2}{2k_BT}\n",
    "\\end{equation}\n",
    "\n",
    "- $m_p$ : mass of the particle\n",
    "- $v$ : velocity of the particle (check Maxwell-Boltzmann distribution)"
   ]
  },
  {
   "cell_type": "markdown",
   "metadata": {},
   "source": [
    "\\begin{equation}\n",
    "    \\alpha = 1 - \\int_{\\sqrt{\\Phi_{\\rm sec}}}^{\\sqrt{\\Delta\\Phi}}\\left[\n",
    "        \\dfrac{4}{\\sqrt{\\pi}}\\chi^2\\exp\\left(-\\chi^2\\right)\n",
    "    \\right]d\\chi\n",
    "\\end{equation}"
   ]
  },
  {
   "cell_type": "code",
   "execution_count": null,
   "metadata": {},
   "outputs": [],
   "source": []
  }
 ],
 "metadata": {
  "kernelspec": {
   "display_name": "Python 3",
   "language": "python",
   "name": "python3"
  },
  "language_info": {
   "codemirror_mode": {
    "name": "ipython",
    "version": 3
   },
   "file_extension": ".py",
   "mimetype": "text/x-python",
   "name": "python",
   "nbconvert_exporter": "python",
   "pygments_lexer": "ipython3",
   "version": "3.8.5"
  }
 },
 "nbformat": 4,
 "nbformat_minor": 4
}
